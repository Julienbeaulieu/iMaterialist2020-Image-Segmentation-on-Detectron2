{
 "cells": [
  {
   "cell_type": "code",
   "execution_count": 2,
   "metadata": {
    "pycharm": {
     "is_executing": false
    }
   },
   "outputs": [
    {
     "data": {
      "text/html": [
       "<style>.container { width:100% !important; }</style>"
      ],
      "text/plain": [
       "<IPython.core.display.HTML object>"
      ]
     },
     "metadata": {},
     "output_type": "display_data"
    }
   ],
   "source": [
    "import pickle\n",
    "import os\n",
    "from pathlib import Path\n",
    "from PIL import Image as PILImage\n",
    "from IPython.display import Image \n",
    "# Notebook widget for interactive exploration\n",
    "import ipywidgets as widgets\n",
    "from ipywidgets import interact, interact_manual\n",
    "import matplotlib.pyplot as plt\n",
    "from matplotlib.pyplot import imshow\n",
    "import cv2 as cv\n",
    "from IPython.core.display import display, HTML\n",
    "display(HTML(\"<style>.container { width:100% !important; }</style>\"))\n",
    "\n",
    "from PythonUtils.rle_decoding import RLE_decoding\n",
    "\n",
    "import numpy as np\n",
    "import pandas as pd\n",
    "from dotenv import load_dotenv, find_dotenv\n",
    "from src.data.csv_label_read import pandaread_image_labels\n",
    "from dotenv import load_dotenv, find_dotenv\n",
    "load_dotenv(find_dotenv())\n",
    "PATH_DATA_RAW = os.getenv(\"PATH_DATA_RAW\")\n"
   ]
  },
  {
   "cell_type": "code",
   "execution_count": 3,
   "metadata": {
    "pycharm": {
     "is_executing": true
    }
   },
   "outputs": [],
   "source": [
    "dataframe = pandaread_image_labels()"
   ]
  },
  {
   "cell_type": "code",
   "execution_count": 4,
   "metadata": {
    "pycharm": {
     "is_executing": true
    }
   },
   "outputs": [],
   "source": [
    "# Interactively Explorer the DataFrame\n",
    "import dtale\n",
    "d = dtale.show(dataframe)\n",
    "d.open_browser()"
   ]
  },
  {
   "cell_type": "code",
   "execution_count": 5,
   "metadata": {
    "pycharm": {
     "is_executing": true
    },
    "scrolled": false
   },
   "outputs": [
    {
     "data": {
      "application/vnd.jupyter.widget-view+json": {
       "model_id": "74d20e20c9d34601bcc05a3a43793a43",
       "version_major": 2,
       "version_minor": 0
      },
      "text/plain": [
       "interactive(children=(IntSlider(value=166700, description='index_label', max=333400), Output()), _dom_classes=…"
      ]
     },
     "metadata": {},
     "output_type": "display_data"
    }
   ],
   "source": [
    "@interact\n",
    "def show_count(index_label=(0, len(dataframe)-1)):\n",
    "    df_label = dataframe.loc[index_label, :]    \n",
    "    print(df_label.ClassId)\n",
    "    #print(df_label.EncodedPixels)\n",
    "    \n",
    "    (order, length) = RLE_decoding.parse_order_length_string(df_label.EncodedPixels)\n",
    "    \n",
    "    test = RLE_decoding(order, length, x_max=df_label.Width, y_max=df_label.Height, y_encoded_first=False)\n",
    "    test.decode()\n",
    "    \n",
    "    path_original = Path(PATH_DATA_RAW) / f\"train/{df_label.ImageId}.jpg\"\n",
    "    \n",
    "    image_original = PILImage.open(path_original)\n",
    "    \n",
    "    scale = 4\n",
    "    \n",
    "    \n",
    "    original_resized = image_original.resize((image_original.size[0]//scale,image_original.size[1]//scale ))\n",
    "    \n",
    "    from matplotlib import rcParams\n",
    "\n",
    "    # figure size in inches optional\n",
    "    rcParams['figure.figsize'] = 11 ,8\n",
    "    \n",
    "    mask = test.get_mask()\n",
    "    mask_resized = mask.resize((df_label.Width//scale, df_label.Height//scale))\n",
    "    \n",
    "    # display images\n",
    "    fig, ax = plt.subplots(1,2)\n",
    "\n",
    "    ax[0].imshow(original_resized, cmap='gray');\n",
    "    ax[1].imshow(mask_resized, cmap='gray');\n",
    "    fig.set_size_inches(20,20)"
   ]
  },
  {
   "cell_type": "code",
   "execution_count": null,
   "metadata": {
    "pycharm": {
     "is_executing": true
    }
   },
   "outputs": [],
   "source": [
    "image_original.size"
   ]
  },
  {
   "cell_type": "code",
   "execution_count": null,
   "metadata": {
    "pycharm": {
     "is_executing": true
    }
   },
   "outputs": [],
   "source": []
  }
 ],
 "metadata": {
  "kernelspec": {
   "display_name": "Python 3",
   "language": "python",
   "name": "python3"
  },
  "language_info": {
   "codemirror_mode": {
    "name": "ipython",
    "version": 3
   },
   "file_extension": ".py",
   "mimetype": "text/x-python",
   "name": "python",
   "nbconvert_exporter": "python",
   "pygments_lexer": "ipython3",
   "version": "3.7.6"
  }
 },
 "nbformat": 4,
 "nbformat_minor": 2
}
