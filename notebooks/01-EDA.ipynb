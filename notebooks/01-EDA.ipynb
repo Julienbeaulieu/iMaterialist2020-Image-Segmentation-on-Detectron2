{
 "cells": [
  {
   "cell_type": "code",
   "execution_count": 1,
   "metadata": {
    "ExecuteTime": {
     "end_time": "2020-04-08T16:41:37.702414Z",
     "start_time": "2020-04-08T16:41:35.048990Z"
    }
   },
   "outputs": [],
   "source": [
    "import json\n",
    "import os\n",
    "import cv2\n",
    "from tqdm import tqdm\n",
    "import pandas as pd\n",
    "import numpy as np\n",
    "import matplotlib.pyplot as plt\n",
    "import seaborn as sns\n",
    "from pathlib import Path\n",
    "from collections import Counter"
   ]
  },
  {
   "cell_type": "markdown",
   "metadata": {},
   "source": [
    "## Imports"
   ]
  },
  {
   "cell_type": "code",
   "execution_count": 5,
   "metadata": {
    "ExecuteTime": {
     "end_time": "2020-04-08T16:41:37.714755Z",
     "start_time": "2020-04-08T16:41:37.702414Z"
    }
   },
   "outputs": [],
   "source": [
    "image_dir = Path('data/raw/train')\n",
    "data_dir = Path('data/raw')"
   ]
  },
  {
   "cell_type": "code",
   "execution_count": 6,
   "metadata": {
    "ExecuteTime": {
     "end_time": "2020-04-08T16:42:09.236827Z",
     "start_time": "2020-04-08T16:41:37.721611Z"
    }
   },
   "outputs": [],
   "source": [
    "df = pd.read_csv(data_dir/'train.csv')"
   ]
  },
  {
   "cell_type": "code",
   "execution_count": 7,
   "metadata": {
    "ExecuteTime": {
     "end_time": "2020-04-08T16:42:09.257352Z",
     "start_time": "2020-04-08T16:42:09.240817Z"
    }
   },
   "outputs": [],
   "source": [
    "# Get label descriptions\n",
    "with open(data_dir/'label_descriptions.json', 'r') as file:\n",
    "    label_desc = json.load(file)\n",
    "df_categories = pd.DataFrame(label_desc['categories'])\n",
    "df_attributes = pd.DataFrame(label_desc['attributes'])"
   ]
  },
  {
   "cell_type": "code",
   "execution_count": 8,
   "metadata": {
    "ExecuteTime": {
     "end_time": "2020-04-08T15:30:37.499671Z",
     "start_time": "2020-04-08T15:30:37.490693Z"
    }
   },
   "outputs": [
    {
     "data": {
      "text/html": [
       "<div>\n",
       "<style scoped>\n",
       "    .dataframe tbody tr th:only-of-type {\n",
       "        vertical-align: middle;\n",
       "    }\n",
       "\n",
       "    .dataframe tbody tr th {\n",
       "        vertical-align: top;\n",
       "    }\n",
       "\n",
       "    .dataframe thead th {\n",
       "        text-align: right;\n",
       "    }\n",
       "</style>\n",
       "<table border=\"1\" class=\"dataframe\">\n",
       "  <thead>\n",
       "    <tr style=\"text-align: right;\">\n",
       "      <th></th>\n",
       "      <th>id</th>\n",
       "      <th>name</th>\n",
       "      <th>supercategory</th>\n",
       "      <th>level</th>\n",
       "    </tr>\n",
       "  </thead>\n",
       "  <tbody>\n",
       "    <tr>\n",
       "      <th>75</th>\n",
       "      <td>75</td>\n",
       "      <td>sarong (skirt)</td>\n",
       "      <td>nickname</td>\n",
       "      <td>1</td>\n",
       "    </tr>\n",
       "    <tr>\n",
       "      <th>152</th>\n",
       "      <td>152</td>\n",
       "      <td>below the knee (length)</td>\n",
       "      <td>length</td>\n",
       "      <td>1</td>\n",
       "    </tr>\n",
       "    <tr>\n",
       "      <th>160</th>\n",
       "      <td>160</td>\n",
       "      <td>wrist-length</td>\n",
       "      <td>length</td>\n",
       "      <td>1</td>\n",
       "    </tr>\n",
       "    <tr>\n",
       "      <th>48</th>\n",
       "      <td>48</td>\n",
       "      <td>track (pants)</td>\n",
       "      <td>nickname</td>\n",
       "      <td>1</td>\n",
       "    </tr>\n",
       "    <tr>\n",
       "      <th>274</th>\n",
       "      <td>321</td>\n",
       "      <td>camouflage</td>\n",
       "      <td>textile pattern</td>\n",
       "      <td>1</td>\n",
       "    </tr>\n",
       "    <tr>\n",
       "      <th>211</th>\n",
       "      <td>211</td>\n",
       "      <td>circular flounce (sleeve)</td>\n",
       "      <td>nickname</td>\n",
       "      <td>1</td>\n",
       "    </tr>\n",
       "    <tr>\n",
       "      <th>199</th>\n",
       "      <td>199</td>\n",
       "      <td>cowl (neck)</td>\n",
       "      <td>neckline type</td>\n",
       "      <td>1</td>\n",
       "    </tr>\n",
       "    <tr>\n",
       "      <th>251</th>\n",
       "      <td>298</td>\n",
       "      <td>washed</td>\n",
       "      <td>textile finishing, manufacturing techniques</td>\n",
       "      <td>1</td>\n",
       "    </tr>\n",
       "    <tr>\n",
       "      <th>167</th>\n",
       "      <td>167</td>\n",
       "      <td>mandarin (collar)</td>\n",
       "      <td>nickname</td>\n",
       "      <td>1</td>\n",
       "    </tr>\n",
       "    <tr>\n",
       "      <th>272</th>\n",
       "      <td>319</td>\n",
       "      <td>cartoon</td>\n",
       "      <td>textile pattern</td>\n",
       "      <td>1</td>\n",
       "    </tr>\n",
       "  </tbody>\n",
       "</table>\n",
       "</div>"
      ],
      "text/plain": [
       "      id                       name  \\\n",
       "75    75             sarong (skirt)   \n",
       "152  152    below the knee (length)   \n",
       "160  160               wrist-length   \n",
       "48    48              track (pants)   \n",
       "274  321                 camouflage   \n",
       "211  211  circular flounce (sleeve)   \n",
       "199  199                cowl (neck)   \n",
       "251  298                     washed   \n",
       "167  167          mandarin (collar)   \n",
       "272  319                    cartoon   \n",
       "\n",
       "                                   supercategory  level  \n",
       "75                                      nickname      1  \n",
       "152                                       length      1  \n",
       "160                                       length      1  \n",
       "48                                      nickname      1  \n",
       "274                              textile pattern      1  \n",
       "211                                     nickname      1  \n",
       "199                                neckline type      1  \n",
       "251  textile finishing, manufacturing techniques      1  \n",
       "167                                     nickname      1  \n",
       "272                              textile pattern      1  "
      ]
     },
     "execution_count": 8,
     "metadata": {},
     "output_type": "execute_result"
    }
   ],
   "source": [
    "df_attributes.sample(10)"
   ]
  },
  {
   "cell_type": "code",
   "execution_count": 9,
   "metadata": {
    "ExecuteTime": {
     "end_time": "2020-04-08T15:30:38.277688Z",
     "start_time": "2020-04-08T15:30:38.269673Z"
    }
   },
   "outputs": [
    {
     "data": {
      "text/html": [
       "<div>\n",
       "<style scoped>\n",
       "    .dataframe tbody tr th:only-of-type {\n",
       "        vertical-align: middle;\n",
       "    }\n",
       "\n",
       "    .dataframe tbody tr th {\n",
       "        vertical-align: top;\n",
       "    }\n",
       "\n",
       "    .dataframe thead th {\n",
       "        text-align: right;\n",
       "    }\n",
       "</style>\n",
       "<table border=\"1\" class=\"dataframe\">\n",
       "  <thead>\n",
       "    <tr style=\"text-align: right;\">\n",
       "      <th></th>\n",
       "      <th>id</th>\n",
       "      <th>name</th>\n",
       "      <th>supercategory</th>\n",
       "      <th>level</th>\n",
       "    </tr>\n",
       "  </thead>\n",
       "  <tbody>\n",
       "    <tr>\n",
       "      <th>16</th>\n",
       "      <td>16</td>\n",
       "      <td>tie</td>\n",
       "      <td>neck</td>\n",
       "      <td>2</td>\n",
       "    </tr>\n",
       "    <tr>\n",
       "      <th>6</th>\n",
       "      <td>6</td>\n",
       "      <td>pants</td>\n",
       "      <td>lowerbody</td>\n",
       "      <td>2</td>\n",
       "    </tr>\n",
       "    <tr>\n",
       "      <th>22</th>\n",
       "      <td>22</td>\n",
       "      <td>sock</td>\n",
       "      <td>legs and feet</td>\n",
       "      <td>2</td>\n",
       "    </tr>\n",
       "    <tr>\n",
       "      <th>40</th>\n",
       "      <td>40</td>\n",
       "      <td>fringe</td>\n",
       "      <td>decorations</td>\n",
       "      <td>2</td>\n",
       "    </tr>\n",
       "    <tr>\n",
       "      <th>44</th>\n",
       "      <td>44</td>\n",
       "      <td>sequin</td>\n",
       "      <td>decorations</td>\n",
       "      <td>2</td>\n",
       "    </tr>\n",
       "    <tr>\n",
       "      <th>45</th>\n",
       "      <td>45</td>\n",
       "      <td>tassel</td>\n",
       "      <td>decorations</td>\n",
       "      <td>2</td>\n",
       "    </tr>\n",
       "    <tr>\n",
       "      <th>27</th>\n",
       "      <td>27</td>\n",
       "      <td>hood</td>\n",
       "      <td>garment parts</td>\n",
       "      <td>2</td>\n",
       "    </tr>\n",
       "    <tr>\n",
       "      <th>23</th>\n",
       "      <td>23</td>\n",
       "      <td>shoe</td>\n",
       "      <td>legs and feet</td>\n",
       "      <td>2</td>\n",
       "    </tr>\n",
       "    <tr>\n",
       "      <th>25</th>\n",
       "      <td>25</td>\n",
       "      <td>scarf</td>\n",
       "      <td>others</td>\n",
       "      <td>2</td>\n",
       "    </tr>\n",
       "    <tr>\n",
       "      <th>31</th>\n",
       "      <td>31</td>\n",
       "      <td>sleeve</td>\n",
       "      <td>garment parts</td>\n",
       "      <td>2</td>\n",
       "    </tr>\n",
       "  </tbody>\n",
       "</table>\n",
       "</div>"
      ],
      "text/plain": [
       "    id    name  supercategory  level\n",
       "16  16     tie           neck      2\n",
       "6    6   pants      lowerbody      2\n",
       "22  22    sock  legs and feet      2\n",
       "40  40  fringe    decorations      2\n",
       "44  44  sequin    decorations      2\n",
       "45  45  tassel    decorations      2\n",
       "27  27    hood  garment parts      2\n",
       "23  23    shoe  legs and feet      2\n",
       "25  25   scarf         others      2\n",
       "31  31  sleeve  garment parts      2"
      ]
     },
     "execution_count": 9,
     "metadata": {},
     "output_type": "execute_result"
    }
   ],
   "source": [
    "df_categories.sample(10)"
   ]
  },
  {
   "cell_type": "markdown",
   "metadata": {},
   "source": [
    "## Attributes"
   ]
  },
  {
   "cell_type": "code",
   "execution_count": 10,
   "metadata": {
    "ExecuteTime": {
     "end_time": "2020-04-08T16:42:32.136260Z",
     "start_time": "2020-04-08T16:42:09.262602Z"
    }
   },
   "outputs": [
    {
     "name": "stdout",
     "output_type": "stream",
     "text": [
      "Total images:  45623\n"
     ]
    },
    {
     "data": {
      "text/html": [
       "<div>\n",
       "<style scoped>\n",
       "    .dataframe tbody tr th:only-of-type {\n",
       "        vertical-align: middle;\n",
       "    }\n",
       "\n",
       "    .dataframe tbody tr th {\n",
       "        vertical-align: top;\n",
       "    }\n",
       "\n",
       "    .dataframe thead th {\n",
       "        text-align: right;\n",
       "    }\n",
       "</style>\n",
       "<table border=\"1\" class=\"dataframe\">\n",
       "  <thead>\n",
       "    <tr style=\"text-align: right;\">\n",
       "      <th></th>\n",
       "      <th>ImageId</th>\n",
       "      <th>EncodedPixels</th>\n",
       "      <th>ClassId</th>\n",
       "      <th>AttributesIds</th>\n",
       "      <th>Height</th>\n",
       "      <th>Width</th>\n",
       "    </tr>\n",
       "  </thead>\n",
       "  <tbody>\n",
       "    <tr>\n",
       "      <th>0</th>\n",
       "      <td>00000663ed1ff0c4e0132b9b9ac53f6e</td>\n",
       "      <td>[6068157 7 6073371 20 6078584 34 6083797 48 60...</td>\n",
       "      <td>[6, 0, 28, 31, 32, 32, 31, 29, 4]</td>\n",
       "      <td>[115,136,143,154,230,295,316,317, 115,136,142,...</td>\n",
       "      <td>5214</td>\n",
       "      <td>3676</td>\n",
       "    </tr>\n",
       "    <tr>\n",
       "      <th>1</th>\n",
       "      <td>0000fe7c9191fba733c8a69cfaf962b7</td>\n",
       "      <td>[2201176 1 2203623 3 2206071 5 2208518 8 22109...</td>\n",
       "      <td>[33, 1]</td>\n",
       "      <td>[190, 0,115,145,146,295,316,317]</td>\n",
       "      <td>2448</td>\n",
       "      <td>2448</td>\n",
       "    </tr>\n",
       "    <tr>\n",
       "      <th>2</th>\n",
       "      <td>0002ec21ddb8477e98b2cbb87ea2e269</td>\n",
       "      <td>[2673735 2 2676734 8 2679734 13 2682733 19 268...</td>\n",
       "      <td>[33, 10, 23, 23]</td>\n",
       "      <td>[182, 102,128,142,150,229,295,301,318, nan, nan]</td>\n",
       "      <td>3000</td>\n",
       "      <td>1997</td>\n",
       "    </tr>\n",
       "  </tbody>\n",
       "</table>\n",
       "</div>"
      ],
      "text/plain": [
       "                            ImageId  \\\n",
       "0  00000663ed1ff0c4e0132b9b9ac53f6e   \n",
       "1  0000fe7c9191fba733c8a69cfaf962b7   \n",
       "2  0002ec21ddb8477e98b2cbb87ea2e269   \n",
       "\n",
       "                                       EncodedPixels  \\\n",
       "0  [6068157 7 6073371 20 6078584 34 6083797 48 60...   \n",
       "1  [2201176 1 2203623 3 2206071 5 2208518 8 22109...   \n",
       "2  [2673735 2 2676734 8 2679734 13 2682733 19 268...   \n",
       "\n",
       "                             ClassId  \\\n",
       "0  [6, 0, 28, 31, 32, 32, 31, 29, 4]   \n",
       "1                            [33, 1]   \n",
       "2                   [33, 10, 23, 23]   \n",
       "\n",
       "                                       AttributesIds  Height  Width  \n",
       "0  [115,136,143,154,230,295,316,317, 115,136,142,...    5214   3676  \n",
       "1                   [190, 0,115,145,146,295,316,317]    2448   2448  \n",
       "2   [182, 102,128,142,150,229,295,301,318, nan, nan]    3000   1997  "
      ]
     },
     "execution_count": 10,
     "metadata": {},
     "output_type": "execute_result"
    }
   ],
   "source": [
    "# Group images by encodings, classes and attributes\n",
    "encodings_classes_df = df.groupby('ImageId')[['EncodedPixels', 'ClassId', 'AttributesIds']].agg(lambda x: list(x))\n",
    "\n",
    "# Group images by height and width\n",
    "size_df = df.groupby('ImageId')[['Height', 'Width']].mean()\n",
    "\n",
    "# Join both df to get a Group by images with all relevant info\n",
    "image_df = encodings_classes_df.join(size_df, on='ImageId').reset_index()\n",
    "\n",
    "print(\"Total images: \", len(image_df))\n",
    "image_df.head(3)"
   ]
  },
  {
   "cell_type": "code",
   "execution_count": 11,
   "metadata": {
    "ExecuteTime": {
     "end_time": "2020-04-08T19:29:29.620318Z",
     "start_time": "2020-04-08T19:29:29.615295Z"
    }
   },
   "outputs": [],
   "source": [
    "# Create dictionaries mapping each number to the category or attribute name\n",
    "category_name_dict = {}\n",
    "for i in label_desc[\"categories\"]:\n",
    "    category_name_dict[str(i[\"id\"])] = i[\"name\"]\n",
    "category_name_dict = {int(k): v for k, v in category_name_dict.items()}\n",
    "attribute_name_dict = {}\n",
    "for i in label_desc[\"attributes\"]:\n",
    "    attribute_name_dict[str(i[\"id\"])] = i[\"name\"]"
   ]
  },
  {
   "cell_type": "code",
   "execution_count": 12,
   "metadata": {
    "ExecuteTime": {
     "end_time": "2020-04-08T16:42:32.149452Z",
     "start_time": "2020-04-08T16:42:32.140569Z"
    }
   },
   "outputs": [],
   "source": [
    "# Function will be used for our Attribute Counter\n",
    "def split_rows(rows):\n",
    "    if isinstance(rows, str):\n",
    "        rows = rows.split(',')\n",
    "    return rows"
   ]
  },
  {
   "cell_type": "code",
   "execution_count": 13,
   "metadata": {
    "ExecuteTime": {
     "end_time": "2020-04-08T19:10:35.911892Z",
     "start_time": "2020-04-08T19:10:35.907918Z"
    }
   },
   "outputs": [],
   "source": [
    "def map_names_to_numbers(num_dict, mapping_dict):\n",
    "    mapped_dict = {}\n",
    "    for i, (key, values) in enumerate(mapping_dict.items()):\n",
    "        if isinstance(key, int):\n",
    "            name = num_dict.get(i)\n",
    "        else: \n",
    "            name = num_dict.get(str(i))\n",
    "        mapped_dict[name] = values\n",
    "    return mapped_dict"
   ]
  },
  {
   "cell_type": "code",
   "execution_count": 14,
   "metadata": {
    "ExecuteTime": {
     "end_time": "2020-04-08T16:42:59.963406Z",
     "start_time": "2020-04-08T16:42:59.305973Z"
    }
   },
   "outputs": [],
   "source": [
    "# Create Counters to count the total number of attributes and classes \n",
    "counter_category = Counter()\n",
    "for class_id in df[\"ClassId\"]:\n",
    "    counter_category.update([class_id])"
   ]
  },
  {
   "cell_type": "code",
   "execution_count": 15,
   "metadata": {
    "ExecuteTime": {
     "end_time": "2020-04-08T16:42:48.932188Z",
     "start_time": "2020-04-08T16:42:47.681469Z"
    }
   },
   "outputs": [],
   "source": [
    "# Attribute Counter a bit different because we need to account for missing values\n",
    "counter_attribute = Counter()\n",
    "for attr in df['AttributesIds'].apply(split_rows):\n",
    "    # skip the nan values other wise update() causes an error\n",
    "    if isinstance(attr, float):\n",
    "        continue\n",
    "    counter_attribute.update(attr)"
   ]
  },
  {
   "cell_type": "code",
   "execution_count": 16,
   "metadata": {
    "ExecuteTime": {
     "end_time": "2020-04-08T19:11:31.037763Z",
     "start_time": "2020-04-08T19:11:31.033737Z"
    }
   },
   "outputs": [],
   "source": [
    "mapped_cat_dict = map_names_to_numbers(counter_category, category_name_dict)\n",
    "mapped_attr_dict = map_names_to_numbers(counter_attribute, attribute_name_dict)"
   ]
  },
  {
   "cell_type": "code",
   "execution_count": 17,
   "metadata": {
    "ExecuteTime": {
     "end_time": "2020-04-08T19:19:18.678039Z",
     "start_time": "2020-04-08T19:19:18.675046Z"
    }
   },
   "outputs": [],
   "source": [
    "# Reverse keys and values for better readability\n",
    "mapped_cat_dict = {v: k for k, v in mapped_cat_dict.items()}\n",
    "mapped_attr_dict = {v: k for k, v in mapped_attr_dict.items()}"
   ]
  },
  {
   "cell_type": "code",
   "execution_count": 18,
   "metadata": {
    "ExecuteTime": {
     "end_time": "2020-04-08T19:26:33.888953Z",
     "start_time": "2020-04-08T19:26:33.882971Z"
    }
   },
   "outputs": [
    {
     "data": {
      "text/plain": [
       "{'shirt, blouse': 6161,\n",
       " 'top, t-shirt, sweatshirt': 16548,\n",
       " 'sweater': 1494,\n",
       " 'cardigan': 1107,\n",
       " 'jacket': 7833,\n",
       " 'vest': 719,\n",
       " 'pants': 12414,\n",
       " 'shorts': 2756,\n",
       " 'skirt': 5046,\n",
       " 'coat': 3124,\n",
       " 'dress': 18739,\n",
       " 'jumpsuit': 922,\n",
       " 'cape': 152,\n",
       " 'glasses': 4855,\n",
       " 'hat': 2518,\n",
       " 'headband, head covering, hair accessory': 3470,\n",
       " 'tie': 1457,\n",
       " 'glove': 1385,\n",
       " 'watch': 3389,\n",
       " 'belt': 6851,\n",
       " 'leg warmer': 112,\n",
       " 'tights, stockings': 4326,\n",
       " 'sock': 2582,\n",
       " 'shoe': 46374,\n",
       " 'bag, wallet': 7217,\n",
       " 'scarf': 1374,\n",
       " 'umbrella': 135,\n",
       " 'hood': 1226,\n",
       " 'collar': 10159,\n",
       " 'lapel': 5972,\n",
       " 'epaulette': 874,\n",
       " 'sleeve': 59448,\n",
       " 'pocket': 27179,\n",
       " 'neckline': 34258,\n",
       " 'buckle': 3300,\n",
       " 'zipper': 7991,\n",
       " 'applique': 3529,\n",
       " 'bead': 5084,\n",
       " 'bow': 528,\n",
       " 'flower': 1367,\n",
       " 'fringe': 588,\n",
       " 'ribbon': 274,\n",
       " 'rivet': 4893,\n",
       " 'ruffle': 2407,\n",
       " 'sequin': 929,\n",
       " 'tassel': 335}"
      ]
     },
     "execution_count": 18,
     "metadata": {},
     "output_type": "execute_result"
    }
   ],
   "source": [
    "# Number of times each category names appears across all masks\n",
    "mapped_cat_dict"
   ]
  },
  {
   "cell_type": "code",
   "execution_count": 19,
   "metadata": {
    "ExecuteTime": {
     "end_time": "2020-04-08T19:30:52.227760Z",
     "start_time": "2020-04-08T19:30:52.217820Z"
    }
   },
   "outputs": [
    {
     "data": {
      "text/plain": [
       "{'classic (t-shirt)': 5466,\n",
       " 'bermuda (shorts)': 198,\n",
       " 'undershirt': 573,\n",
       " 'henley (shirt)': 81,\n",
       " 'ringer (t-shirt)': 79,\n",
       " 'raglan (t-shirt)': 172,\n",
       " 'bow (collar)': 96,\n",
       " 'peter pan (collar)': 213,\n",
       " 'crop (top)': 1105,\n",
       " 'halter (top)': 360,\n",
       " 'camisole': 1041,\n",
       " 'tank (top)': 2182,\n",
       " 'track (jacket)': 238,\n",
       " 'tube (top)': 475,\n",
       " 'tunic (top)': 411,\n",
       " 'smock (top)': 87,\n",
       " 'hoodie': 414,\n",
       " 'blazer': 2900,\n",
       " 'pea (jacket)': 47,\n",
       " 'puffer (jacket)': 159,\n",
       " 'biker (jacket)': 1043,\n",
       " 'trucker (jacket)': 445,\n",
       " 'bomber (jacket)': 322,\n",
       " 'toile de jouy': 24,\n",
       " 'safari (jacket)': 83,\n",
       " 'mao (jacket)': 3,\n",
       " 'raincoat': 12,\n",
       " 'ball gown (skirt)': 125,\n",
       " 'asymmetric (collar)': 44,\n",
       " 'windbreaker': 82,\n",
       " 'jodhpur': 85,\n",
       " 'bolero': 94,\n",
       " 'tuxedo (jacket)': 424,\n",
       " 'crop (jacket)': 128,\n",
       " 'jeans': 3764,\n",
       " 'sweatpants': 115,\n",
       " 'leggings': 1787,\n",
       " 'hip-huggers (pants)': 103,\n",
       " 'cargo (pants)': 67,\n",
       " 'culottes': 178,\n",
       " 'capri (pants)': 183,\n",
       " 'harem (pants)': 53,\n",
       " 'sailor (pants)': 283,\n",
       " 'peg (pants)': 269,\n",
       " 'camo (pants)': 23,\n",
       " 'tulip (skirt)': 33,\n",
       " 'crop (pants)': 350,\n",
       " 'short (shorts)': 1575,\n",
       " 'boardshorts': 20,\n",
       " 'cargo (shorts)': 25,\n",
       " 'bloomers': 5,\n",
       " 'roll-up (shorts)': 204,\n",
       " 'gypsy (skirt)': 72,\n",
       " 'culotte (shorts)': 50,\n",
       " 'lounge (shorts)': 160,\n",
       " 'tutu (skirt)': 62,\n",
       " 'wrap (skirt)': 42,\n",
       " 'skater (skirt)': 358,\n",
       " 'cargo (skirt)': 9,\n",
       " 'hobble (skirt)': 332,\n",
       " 'sheath (skirt)': 1701,\n",
       " 'rah-rah (skirt)': 166,\n",
       " 'chelsea (collar)': 39,\n",
       " 'snakeskin (pattern)': 2,\n",
       " 'accordion (skirt)': 91,\n",
       " 'sarong (skirt)': 11,\n",
       " 'dirndl (skirt)': 446,\n",
       " 'godet (skirt)': 21,\n",
       " 'blanket (coat)': 449,\n",
       " 'parka': 130,\n",
       " 'trench (coat)': 193,\n",
       " 'pea (coat)': 234,\n",
       " 'chemise (dress)': 55,\n",
       " 'teddy bear (coat)': 180,\n",
       " 'duster (coat)': 69,\n",
       " 'tea (dress)': 65,\n",
       " 'robe': 26,\n",
       " 'dress (coat )': 36,\n",
       " 'swing (coat)': 34,\n",
       " 'wrap (coat)': 145,\n",
       " 'military (coat)': 70,\n",
       " 'halter (dress)': 604,\n",
       " 'wrap (dress)': 136,\n",
       " 'slip (dress)': 474,\n",
       " 'plant': 15,\n",
       " 'jumper (dress)': 285,\n",
       " 'shift (dress)': 1526,\n",
       " 'sheath (dress)': 2077,\n",
       " 'shirt (dress)': 518,\n",
       " 'sundress': 224,\n",
       " 'kaftan': 119,\n",
       " 'bodycon (dress)': 1144,\n",
       " 'nightgown': 61,\n",
       " 'gown': 5252,\n",
       " 'sweater (dress)': 403,\n",
       " 'blouson (dress)': 182,\n",
       " 'tunic (dress)': 915,\n",
       " 'skater (dress)': 1259,\n",
       " 'asymmetrical': 2201,\n",
       " 'symmetrical': 60164,\n",
       " 'peplum': 226,\n",
       " 'circle': 1462,\n",
       " 'flare': 1180,\n",
       " 'fit and flare': 3408,\n",
       " 'trumpet': 758,\n",
       " 'mermaid': 669,\n",
       " 'balloon': 169,\n",
       " 'bell': 937,\n",
       " 'argyle': 43,\n",
       " 'bootcut': 257,\n",
       " 'peg': 918,\n",
       " 'pencil': 3538,\n",
       " 'straight': 6801,\n",
       " 'a-line': 4111,\n",
       " 'tent': 444,\n",
       " 'baggy': 77,\n",
       " 'wide leg': 590,\n",
       " 'high low': 663,\n",
       " 'curved (fit)': 111,\n",
       " 'tight (fit)': 13473,\n",
       " 'regular (fit)': 24669,\n",
       " 'loose (fit)': 4990,\n",
       " 'oversized': 670,\n",
       " 'empire waistline': 380,\n",
       " 'dropped waistline': 872,\n",
       " 'high waist': 11532,\n",
       " 'normal waist': 25019,\n",
       " 'low waist': 3682,\n",
       " 'basque (wasitline)': 134,\n",
       " 'no waistline': 18942,\n",
       " 'above-the-hip (length)': 17444,\n",
       " 'hip (length)': 10109,\n",
       " 'micro (length)': 3190,\n",
       " 'mini (length)': 9545,\n",
       " 'above-the-knee (length)': 4153,\n",
       " 'knee (length)': 2662,\n",
       " 'below the knee (length)': 1511,\n",
       " 'midi': 2266,\n",
       " 'maxi (length)': 9376,\n",
       " 'floor (length)': 5338,\n",
       " 'sleeveless': 303,\n",
       " 'short (length)': 13141,\n",
       " 'elbow-length': 3149,\n",
       " 'three quarter (length)': 6165,\n",
       " 'wrist-length': 34135,\n",
       " 'regular (collar)': 1442,\n",
       " 'shirt (collar)': 5058,\n",
       " 'polo (collar)': 181,\n",
       " 'banded (collar)': 773,\n",
       " 'mandarin (collar)': 192,\n",
       " 'stand-away (collar)': 410,\n",
       " 'jabot (collar)': 8,\n",
       " 'sailor (collar)': 17,\n",
       " 'oversized (collar)': 241,\n",
       " 'notched (lapel)': 2626,\n",
       " 'peak (lapel)': 717,\n",
       " 'shawl (lapel)': 700,\n",
       " 'napoleon (lapel)': 776,\n",
       " 'oversized (lapel)': 447,\n",
       " 'collarless': 884,\n",
       " 'asymmetric (neckline)': 926,\n",
       " 'high (neck)': 804,\n",
       " 'round (neck)': 5810,\n",
       " 'v-neck': 3130,\n",
       " 'surplice (neck)': 469,\n",
       " 'oval (neck)': 3117,\n",
       " 'u-neck': 1005,\n",
       " 'sweetheart (neckline)': 1745,\n",
       " 'queen anne (neck)': 338,\n",
       " 'boat (neck)': 1795,\n",
       " 'scoop (neck)': 2835,\n",
       " 'square (neckline)': 688,\n",
       " 'plunging (neckline)': 966,\n",
       " 'keyhole (neck)': 122,\n",
       " 'halter (neck)': 622,\n",
       " 'crossover (neck)': 101,\n",
       " 'choker (neck)': 112,\n",
       " 'turtle (neck)': 651,\n",
       " 'cowl (neck)': 228,\n",
       " 'straight across (neck)': 2425,\n",
       " 'illusion (neck)': 249,\n",
       " 'off-the-shoulder': 581,\n",
       " 'one shoulder': 694,\n",
       " 'set-in sleeve': 39004,\n",
       " 'dropped-shoulder sleeve': 3147,\n",
       " 'raglan (sleeve)': 1894,\n",
       " 'cap (sleeve)': 2721,\n",
       " 'tulip (sleeve)': 225,\n",
       " 'puff (sleeve)': 951,\n",
       " 'bell (sleeve)': 579,\n",
       " 'circular flounce (sleeve)': 470,\n",
       " 'poet (sleeve)': 349,\n",
       " 'dolman (sleeve), batwing (sleeve)': 972,\n",
       " 'bishop (sleeve)': 559,\n",
       " 'leg of mutton (sleeve)': 319,\n",
       " 'kimono (sleeve)': 618,\n",
       " 'cargo (pocket)': 232,\n",
       " 'patch (pocket)': 5076,\n",
       " 'welt (pocket)': 5460,\n",
       " 'kangaroo (pocket)': 552,\n",
       " 'seam (pocket)': 847,\n",
       " 'slash (pocket)': 4317,\n",
       " 'curved (pocket)': 5064,\n",
       " 'flap (pocket)': 5284,\n",
       " 'single breasted': 12175,\n",
       " 'double breasted': 636,\n",
       " 'lace up': 351,\n",
       " 'wrapping': 977,\n",
       " 'zip-up': 16859,\n",
       " 'fly (opening)': 9030,\n",
       " 'chained (opening)': 19,\n",
       " 'buckled (opening)': 92,\n",
       " 'toggled (opening)': 58,\n",
       " 'no opening': 4542,\n",
       " 'chevron': None,\n",
       " 'stripe': 3108,\n",
       " 'houndstooth (pattern)': 188,\n",
       " 'herringbone (pattern)': 1135,\n",
       " 'leopard': 793,\n",
       " 'cheetah': 1,\n",
       " 'peacock': 730,\n",
       " 'zebra': 84,\n",
       " 'giraffe': 76}"
      ]
     },
     "execution_count": 19,
     "metadata": {},
     "output_type": "execute_result"
    }
   ],
   "source": [
    "# Number of times each attributes appear across all masks\n",
    "mapped_attr_dict"
   ]
  },
  {
   "cell_type": "markdown",
   "metadata": {},
   "source": [
    "### Category and Attribute Frequency"
   ]
  },
  {
   "cell_type": "code",
   "execution_count": 20,
   "metadata": {
    "ExecuteTime": {
     "end_time": "2020-04-08T19:29:29.441794Z",
     "start_time": "2020-04-08T19:29:29.436779Z"
    }
   },
   "outputs": [],
   "source": [
    "# Function to make the printing pretty\n",
    "def print_dict(dictionary, name_dict):\n",
    "    print(\"{}{}{}{}{}\".format(\"rank\".ljust(5), \"id\".center(8), \"name\".center(40), \"amount\".rjust(10), \"ratio(%)\".rjust(10)))\n",
    "    all_num = sum(dictionary.values())\n",
    "    for i, (key, val) in enumerate(sorted(dictionary.items(), key=lambda x: -x[1])):\n",
    "        print(\"{:<5}{:^8}{:^40}{:>10}{:>10.3%}\".format(i+1, key, name_dict[key], val, val/all_num))\n"
   ]
  },
  {
   "cell_type": "code",
   "execution_count": 21,
   "metadata": {
    "ExecuteTime": {
     "end_time": "2020-04-08T19:29:30.208235Z",
     "start_time": "2020-04-08T19:29:30.181308Z"
    },
    "scrolled": true
   },
   "outputs": [
    {
     "name": "stdout",
     "output_type": "stream",
     "text": [
      "rank    id                     name                      amount  ratio(%)\n",
      "1      295           no non-textile material              65854    8.648%\n",
      "2      115                 symmetrical                    60164    7.901%\n",
      "3      317               plain (pattern)                  58468    7.678%\n",
      "4      204                set-in sleeve                   39004    5.122%\n",
      "5      316      no special manufacturing technique        38349    5.036%\n",
      "6      160                 wrist-length                   34135    4.483%\n",
      "7      142                 normal waist                   25019    3.285%\n",
      "8      136                regular (fit)                   24669    3.239%\n",
      "9      145                 no waistline                   18942    2.487%\n",
      "10     146            above-the-hip (length)              17444    2.291%\n",
      "11     229                    zip-up                      16859    2.214%\n",
      "12     135                 tight (fit)                    13473    1.769%\n",
      "13     157                short (length)                  13141    1.726%\n",
      "14     225               single breasted                  12175    1.599%\n",
      "15     141                  high waist                    11532    1.514%\n",
      "16     311                    lining                      10243    1.345%\n",
      "17     147                 hip (length)                   10109    1.327%\n",
      "18     149                mini (length)                    9545    1.253%\n",
      "19     154                maxi (length)                    9376    1.231%\n",
      "20     230                fly (opening)                    9030    1.186%\n",
      "21     301                   printed                       8028    1.054%\n",
      "22     128                   straight                      6801    0.893%\n",
      "23     159            three quarter (length)               6165    0.810%\n",
      "24     182                 round (neck)                    5810    0.763%\n",
      "25      0               classic (t-shirt)                  5466    0.718%\n",
      "26     219                welt (pocket)                    5460    0.717%\n",
      "27     155                floor (length)                   5338    0.701%\n",
      "28     224                flap (pocket)                    5284    0.694%\n",
      "29     108                     gown                        5252    0.690%\n",
      "30     218                patch (pocket)                   5076    0.667%\n",
      "31     223               curved (pocket)                   5064    0.665%\n",
      "32     163                shirt (collar)                   5058    0.664%\n",
      "33     137                 loose (fit)                     4990    0.655%\n",
      "34     305                  gathering                      4778    0.627%\n",
      "35     234                  no opening                     4542    0.596%\n",
      "36     222                slash (pocket)                   4317    0.567%\n",
      "37     150           above-the-knee (length)               4153    0.545%\n",
      "38     129                    a-line                       4111    0.540%\n",
      "39     298                    washed                       3909    0.513%\n",
      "40      36                    jeans                        3764    0.494%\n",
      "41     143                  low waist                      3682    0.484%\n",
      "42     325                    floral                       3579    0.470%\n",
      "43     127                    pencil                       3538    0.465%\n",
      "44     119                fit and flare                    3408    0.448%\n",
      "45     148                micro (length)                   3190    0.419%\n",
      "46     158                 elbow-length                    3149    0.414%\n",
      "47     205           dropped-shoulder sleeve               3147    0.413%\n",
      "48     183                    v-neck                       3130    0.411%\n",
      "49     185                 oval (neck)                     3117    0.409%\n",
      "50     281                   plastic                       3108    0.408%\n",
      "51     328                    stripe                       2981    0.391%\n",
      "52      17                    blazer                       2900    0.381%\n",
      "53     190                 scoop (neck)                    2835    0.372%\n",
      "54     207                 cap (sleeve)                    2721    0.357%\n",
      "55     151                knee (length)                    2662    0.350%\n",
      "56     174               notched (lapel)                   2626    0.345%\n",
      "57     200            straight across (neck)               2425    0.318%\n",
      "58     304                    pleat                        2321    0.305%\n",
      "59     322                    check                        2275    0.299%\n",
      "60     153                     midi                        2266    0.298%\n",
      "61     114                 asymmetrical                    2201    0.289%\n",
      "62      11                  tank (top)                     2182    0.287%\n",
      "63     312                 applique(a)                     2156    0.283%\n",
      "64     102                sheath (dress)                   2077    0.273%\n",
      "65     313                   bead(a)                       2030    0.267%\n",
      "66     206               raglan (sleeve)                   1894    0.249%\n",
      "67     189                 boat (neck)                     1795    0.236%\n",
      "68      38                   leggings                      1787    0.235%\n",
      "69     187            sweetheart (neckline)                1745    0.229%\n",
      "70      68                sheath (skirt)                   1701    0.223%\n",
      "71     320               letters, numbers                  1674    0.220%\n",
      "72      50                short (shorts)                   1575    0.207%\n",
      "73     101                shift (dress)                    1526    0.200%\n",
      "74     152           below the knee (length)               1511    0.198%\n",
      "75     318                   abstract                      1478    0.194%\n",
      "76     117                    circle                       1462    0.192%\n",
      "77     162               regular (collar)                  1442    0.189%\n",
      "78     302                    ruched                       1359    0.178%\n",
      "79     113                skater (dress)                   1259    0.165%\n",
      "80     326                  geometric                      1240    0.163%\n",
      "81     118                    flare                        1180    0.155%\n",
      "82     106               bodycon (dress)                   1144    0.150%\n",
      "83     283                    metal                        1135    0.149%\n",
      "84      8                   crop (top)                     1105    0.145%\n",
      "85     323                     dot                         1062    0.139%\n",
      "86      20                biker (jacket)                   1043    0.137%\n",
      "87      10                   camisole                      1041    0.137%\n",
      "88     186                    u-neck                       1005    0.132%\n",
      "89     228                   wrapping                       977    0.128%\n",
      "90     309                     slit                         973    0.128%\n",
      "91     213      dolman (sleeve), batwing (sleeve)           972    0.128%\n",
      "92     192             plunging (neckline)                  966    0.127%\n",
      "93     209                puff (sleeve)                     951    0.125%\n",
      "94     123                     bell                         937    0.123%\n",
      "95     180            asymmetric (neckline)                 926    0.122%\n",
      "96     126                     peg                          918    0.121%\n",
      "97     112                tunic (dress)                     915    0.120%\n",
      "98     319                   cartoon                        893    0.117%\n",
      "99     179                  collarless                      884    0.116%\n",
      "100    140              dropped waistline                   872    0.115%\n",
      "101    297                  distressed                      856    0.112%\n",
      "102    221                seam (pocket)                     847    0.111%\n",
      "103    197                 high (neck)                      804    0.106%\n",
      "104    181                 crew (neck)                      804    0.106%\n",
      "105    286                     gem                          793    0.104%\n",
      "106    177               napoleon (lapel)                   776    0.102%\n",
      "107    166               banded (collar)                    773    0.102%\n",
      "108    308                    cutout                        765    0.100%\n",
      "109    314                   rivet(a)                       763    0.100%\n",
      "110    120                   trumpet                        758    0.100%\n",
      "111    289                     fur                          730    0.096%\n",
      "112    175                 peak (lapel)                     717    0.094%\n",
      "113    176                shawl (lapel)                     700    0.092%\n",
      "114    203                 one shoulder                     694    0.091%\n",
      "115    191              square (neckline)                   688    0.090%\n",
      "116    138                  oversized                       670    0.088%\n",
      "117    121                   mermaid                        669    0.088%\n",
      "118    133                   high low                       663    0.087%\n",
      "119    198                turtle (neck)                     651    0.085%\n",
      "120    226               double breasted                    636    0.084%\n",
      "121    194                halter (neck)                     622    0.082%\n",
      "122    216               kimono (sleeve)                    618    0.081%\n",
      "123     95                halter (dress)                    604    0.079%\n",
      "124    132                   wide leg                       590    0.077%\n",
      "125    202               off-the-shoulder                   581    0.076%\n",
      "126    210                bell (sleeve)                     579    0.076%\n",
      "127     2                   undershirt                      573    0.075%\n",
      "128    214               bishop (sleeve)                    559    0.073%\n",
      "129    220              kangaroo (pocket)                   552    0.072%\n",
      "130    307                    tiered                        545    0.072%\n",
      "131    315                  sequin(a)                       536    0.070%\n",
      "132    103                shirt (dress)                     518    0.068%\n",
      "133    300                    frayed                        500    0.066%\n",
      "134    296                   burnout                        484    0.064%\n",
      "135     13                  tube (top)                      475    0.062%\n",
      "136     98                 slip (dress)                     474    0.062%\n",
      "137    211          circular flounce (sleeve)               470    0.062%\n",
      "138    184               surplice (neck)                    469    0.062%\n",
      "139     79                blanket (coat)                    449    0.059%\n",
      "140    178              oversized (lapel)                   447    0.059%\n",
      "141     77                dirndl (skirt)                    446    0.059%\n",
      "142     21               trucker (jacket)                   445    0.058%\n",
      "143    130                     tent                         444    0.058%\n",
      "144    340                    plant                         430    0.056%\n",
      "145     33               tuxedo (jacket)                    424    0.056%\n",
      "146     16                    hoodie                        414    0.054%\n",
      "147     14                 tunic (top)                      411    0.054%\n",
      "148    170             stand-away (collar)                  410    0.054%\n",
      "149    109               sweater (dress)                    403    0.053%\n",
      "150    139               empire waistline                   380    0.050%\n",
      "151    339                toile de jouy                     364    0.048%\n",
      "152     9                  halter (top)                     360    0.047%\n",
      "153     65                skater (skirt)                    358    0.047%\n",
      "154    324                  fair isle                       355    0.047%\n",
      "155    227                   lace up                        351    0.046%\n",
      "156     49                 crop (pants)                     350    0.046%\n",
      "157    212                poet (sleeve)                     349    0.046%\n",
      "158    188              queen anne (neck)                   338    0.044%\n",
      "159     67                hobble (skirt)                    332    0.044%\n",
      "160     22               bomber (jacket)                    322    0.042%\n",
      "161    215            leg of mutton (sleeve)                319    0.042%\n",
      "162    327                   paisley                        303    0.040%\n",
      "163    156                  sleeveless                      303    0.040%\n",
      "164    100                jumper (dress)                    285    0.037%\n",
      "165     44                sailor (pants)                    283    0.037%\n",
      "166     46                 peg (pants)                      269    0.035%\n",
      "167    125                   bootcut                        257    0.034%\n",
      "168    201               illusion (neck)                    249    0.033%\n",
      "169    173              oversized (collar)                  241    0.032%\n",
      "170     12                peasant (top)                     238    0.031%\n",
      "171     29                track (jacket)                    238    0.031%\n",
      "172     82                  pea (coat)                      234    0.031%\n",
      "173    303                   quilted                        234    0.031%\n",
      "174    217                cargo (pocket)                    232    0.030%\n",
      "175    199                 cowl (neck)                      228    0.030%\n",
      "176    116                    peplum                        226    0.030%\n",
      "177    208                tulip (sleeve)                    225    0.030%\n",
      "178    104                   sundress                       224    0.029%\n",
      "179    168              peter pan (collar)                  213    0.028%\n",
      "180     7                 sailor (shirt)                    213    0.028%\n",
      "181    333                   leopard                        210    0.028%\n",
      "182     57               roll-up (shorts)                   204    0.027%\n",
      "183     52               bermuda (shorts)                   198    0.026%\n",
      "184     1                  polo (shirt)                     198    0.026%\n",
      "185     81                trench (coat)                     193    0.025%\n",
      "186    167              mandarin (collar)                   192    0.025%\n",
      "187    282                    rubber                        188    0.025%\n",
      "188    331                   chevron                        188    0.025%\n",
      "189     42                capri (pants)                     183    0.024%\n",
      "190    111               blouson (dress)                    182    0.024%\n",
      "191    310                  perforated                      181    0.024%\n",
      "192    164                polo (collar)                     181    0.024%\n",
      "193     84              teddy bear (coat)                   180    0.024%\n",
      "194     41                   culottes                       178    0.023%\n",
      "195     5                raglan (t-shirt)                   172    0.023%\n",
      "196    122                   balloon                        169    0.022%\n",
      "197     71               rah-rah (skirt)                    166    0.022%\n",
      "198     60               lounge (shorts)                    160    0.021%\n",
      "199     19               puffer (jacket)                    159    0.021%\n",
      "200    306                   smocking                       152    0.020%\n",
      "201    321                  camouflage                      147    0.019%\n",
      "202     92                 wrap (coat)                      145    0.019%\n",
      "203    335                   cheetah                        137    0.018%\n",
      "204     96                 wrap (dress)                     136    0.018%\n",
      "205    144              basque (wasitline)                  134    0.018%\n",
      "206     80                    parka                         130    0.017%\n",
      "207     35                crop (jacket)                     128    0.017%\n",
      "208     69              ball gown (skirt)                   125    0.016%\n",
      "209     27               norfolk (jacket)                   125    0.016%\n",
      "210    193                keyhole (neck)                    122    0.016%\n",
      "211    105                    kaftan                        119    0.016%\n",
      "212     37                  sweatpants                      115    0.015%\n",
      "213    332                    argyle                        114    0.015%\n",
      "214    196                choker (neck)                     112    0.015%\n",
      "215    134                 curved (fit)                     111    0.015%\n",
      "216     39             hip-huggers (pants)                  103    0.014%\n",
      "217    195               crossover (neck)                   101    0.013%\n",
      "218    334             snakeskin (pattern)                  100    0.013%\n",
      "219    329            houndstooth (pattern)                  97    0.013%\n",
      "220    169                 bow (collar)                      96    0.013%\n",
      "221     34               varsity (jacket)                    96    0.013%\n",
      "222     6                 rugby (shirt)                      96    0.013%\n",
      "223     32                    bolero                         94    0.012%\n",
      "224    232              buckled (opening)                    92    0.012%\n",
      "225     74              accordion (skirt)                    91    0.012%\n",
      "226     15                 smock (top)                       87    0.011%\n",
      "227    299                   embossed                        86    0.011%\n",
      "228     45                   jodhpur                         85    0.011%\n",
      "229     31               chanel (jacket)                     85    0.011%\n",
      "230    290                    suede                          84    0.011%\n",
      "231     24               safari (jacket)                     83    0.011%\n",
      "232     30                 windbreaker                       82    0.011%\n",
      "233     3                 henley (shirt)                     81    0.011%\n",
      "234     4                ringer (t-shirt)                    79    0.010%\n",
      "235    330            herringbone (pattern)                  78    0.010%\n",
      "236    131                    baggy                          77    0.010%\n",
      "237    291                  shearling                        76    0.010%\n",
      "238     70                gypsy (skirt)                      72    0.009%\n",
      "239     58               tie-up (shorts)                     72    0.009%\n",
      "240    337                    zebra                          71    0.009%\n",
      "241     93               military (coat)                     70    0.009%\n",
      "242     86                duster (coat)                      69    0.009%\n",
      "243     85                puffer (coat)                      69    0.009%\n",
      "244     40                cargo (pants)                      67    0.009%\n",
      "245     88                    kimono                         65    0.009%\n",
      "246    110                 tea (dress)                       65    0.009%\n",
      "247     62                 tutu (skirt)                      62    0.008%\n",
      "248    107                  nightgown                        61    0.008%\n",
      "249    233              toggled (opening)                    58    0.008%\n",
      "250     97               chemise (dress)                     55    0.007%\n",
      "251     83               shearling (coat)                    55    0.007%\n",
      "252     43                harem (pants)                      53    0.007%\n",
      "253     59               culotte (shorts)                    50    0.007%\n",
      "254     18                 pea (jacket)                      47    0.006%\n",
      "255     28          classic military (jacket)                44    0.006%\n",
      "256     54                    trunks                         44    0.006%\n",
      "257    338                   giraffe                         44    0.006%\n",
      "258    161             asymmetric (collar)                   44    0.006%\n",
      "259    285                   feather                         43    0.006%\n",
      "260    124                 bell bottom                       43    0.006%\n",
      "261     64                 wrap (skirt)                      42    0.006%\n",
      "262    165               chelsea (collar)                    39    0.005%\n",
      "263     72               prairie (skirt)                     39    0.005%\n",
      "264     90                dress (coat )                      36    0.005%\n",
      "265     94                 swing (coat)                      34    0.004%\n",
      "266     91                duffle (coat)                      34    0.004%\n",
      "267     76                tulip (skirt)                      33    0.004%\n",
      "268     48                track (pants)                      33    0.004%\n",
      "269    336                   peacock                         30    0.004%\n",
      "270     89                     robe                          26    0.003%\n",
      "271     53                cargo (shorts)                     25    0.003%\n",
      "272    292                  crocodile                        24    0.003%\n",
      "273     23                    anorak                         24    0.003%\n",
      "274     47                 camo (pants)                      23    0.003%\n",
      "275     78                godet (skirt)                      21    0.003%\n",
      "276     55                 boardshorts                       20    0.003%\n",
      "277     51                booty (shorts)                     20    0.003%\n",
      "278    231              chained (opening)                    19    0.002%\n",
      "279    172               sailor (collar)                     17    0.002%\n",
      "280     99                  cheongsams                       15    0.002%\n",
      "281    293                  snakeskin                        15    0.002%\n",
      "282     26                nehru (jacket)                     12    0.002%\n",
      "283     87                   raincoat                        12    0.002%\n",
      "284     63                     kilt                          12    0.002%\n",
      "285     75                sarong (skirt)                     11    0.001%\n",
      "286     66                cargo (skirt)                       9    0.001%\n",
      "287    171                jabot (collar)                      8    0.001%\n",
      "288     61                   bloomers                         5    0.001%\n",
      "289     56                    skort                           5    0.001%\n",
      "290    294                     wood                           4    0.001%\n",
      "291     25                 mao (jacket)                       3    0.000%\n",
      "292    287                     bone                           2    0.000%\n",
      "293     73               flamenco (skirt)                     2    0.000%\n",
      "294    288                    ivory                           1    0.000%\n"
     ]
    }
   ],
   "source": [
    "print_dict(counter_attribute, attribute_name_dict)"
   ]
  },
  {
   "cell_type": "code",
   "execution_count": 117,
   "metadata": {
    "ExecuteTime": {
     "end_time": "2020-04-08T19:08:39.684458Z",
     "start_time": "2020-04-08T19:08:39.678474Z"
    },
    "scrolled": true
   },
   "outputs": [
    {
     "name": "stdout",
     "output_type": "stream",
     "text": [
      "rank    id                     name                      amount  ratio(%)\n",
      "1       31                    sleeve                      59448   17.831%\n",
      "2       23                     shoe                       46374   13.909%\n",
      "3       33                   neckline                     34258   10.275%\n",
      "4       32                    pocket                      27179    8.152%\n",
      "5       10                    dress                       18739    5.621%\n",
      "6       1            top, t-shirt, sweatshirt             16548    4.963%\n",
      "7       6                     pants                       12414    3.723%\n",
      "8       28                    collar                      10159    3.047%\n",
      "9       35                    zipper                       7991    2.397%\n",
      "10      4                     jacket                       7833    2.349%\n",
      "11      24                 bag, wallet                     7217    2.165%\n",
      "12      19                     belt                        6851    2.055%\n",
      "13      0                 shirt, blouse                    6161    1.848%\n",
      "14      29                    lapel                        5972    1.791%\n",
      "15      37                     bead                        5084    1.525%\n",
      "16      8                     skirt                        5046    1.513%\n",
      "17      42                    rivet                        4893    1.468%\n",
      "18      13                   glasses                       4855    1.456%\n",
      "19      21              tights, stockings                  4326    1.298%\n",
      "20      36                   applique                      3529    1.058%\n",
      "21      15   headband, head covering, hair accessory       3470    1.041%\n",
      "22      18                    watch                        3389    1.016%\n",
      "23      34                    buckle                       3300    0.990%\n",
      "24      9                      coat                        3124    0.937%\n",
      "25      7                     shorts                       2756    0.827%\n",
      "26      22                     sock                        2582    0.774%\n",
      "27      14                     hat                         2518    0.755%\n",
      "28      43                    ruffle                       2407    0.722%\n",
      "29      2                    sweater                       1494    0.448%\n",
      "30      16                     tie                         1457    0.437%\n",
      "31      17                    glove                        1385    0.415%\n",
      "32      25                    scarf                        1374    0.412%\n",
      "33      39                    flower                       1367    0.410%\n",
      "34      27                     hood                        1226    0.368%\n",
      "35      3                    cardigan                      1107    0.332%\n",
      "36      44                    sequin                        929    0.279%\n",
      "37      11                   jumpsuit                       922    0.277%\n",
      "38      30                  epaulette                       874    0.262%\n",
      "39      5                      vest                         719    0.216%\n",
      "40      40                    fringe                        588    0.176%\n",
      "41      38                     bow                          528    0.158%\n",
      "42      45                    tassel                        335    0.100%\n",
      "43      41                    ribbon                        274    0.082%\n",
      "44      12                     cape                         152    0.046%\n",
      "45      26                   umbrella                       135    0.040%\n",
      "46      20                  leg warmer                      112    0.034%\n"
     ]
    }
   ],
   "source": [
    "print_dict(counter_category, category_name_dict)"
   ]
  },
  {
   "cell_type": "markdown",
   "metadata": {},
   "source": [
    "## Supercategories"
   ]
  },
  {
   "cell_type": "code",
   "execution_count": 30,
   "metadata": {
    "ExecuteTime": {
     "end_time": "2020-04-08T16:46:27.449675Z",
     "start_time": "2020-04-08T16:46:27.438496Z"
    }
   },
   "outputs": [],
   "source": [
    "attr_order = df_attributes['supercategory'].value_counts().index\n",
    "cat_order = df_categories['supercategory'].value_counts().index"
   ]
  },
  {
   "cell_type": "code",
   "execution_count": 32,
   "metadata": {
    "ExecuteTime": {
     "end_time": "2020-04-08T16:46:35.323207Z",
     "start_time": "2020-04-08T16:46:34.348165Z"
    }
   },
   "outputs": [
    {
     "data": {
      "image/png": "[encoded data removed]",
      "text/plain": [
       "<Figure size 1440x1440 with 2 Axes>"
      ]
     },
     "metadata": {
      "needs_background": "light"
     },
     "output_type": "display_data"
    }
   ],
   "source": [
    "fig,ax = plt.subplots(1,2,figsize = (20,20))\n",
    "base_color = sns.color_palette()[0]\n",
    "sns.countplot(y='supercategory', data = df_attributes, ax = ax[0], orient='v', color=base_color, order=attr_order)\n",
    "sns.countplot(y='supercategory', data = df_categories, ax = ax[1], orient='v', color=base_color, order=cat_order)\n",
    "ax[0].set_title('Attributes')\n",
    "ax[1].set_title('Categories')\n",
    "plt.show()"
   ]
  },
  {
   "cell_type": "markdown",
   "metadata": {},
   "source": [
    "### Group category supercategories"
   ]
  },
  {
   "cell_type": "code",
   "execution_count": 42,
   "metadata": {
    "ExecuteTime": {
     "end_time": "2020-04-08T16:57:10.664236Z",
     "start_time": "2020-04-08T16:57:10.655260Z"
    }
   },
   "outputs": [],
   "source": [
    "df_cat_supercategories = pd.DataFrame(df_categories.groupby('supercategory')['name'].agg(lambda x: list(x))).reset_index()"
   ]
  },
  {
   "cell_type": "code",
   "execution_count": 43,
   "metadata": {
    "ExecuteTime": {
     "end_time": "2020-04-08T16:57:12.114153Z",
     "start_time": "2020-04-08T16:57:12.104173Z"
    }
   },
   "outputs": [
    {
     "data": {
      "text/html": [
       "<div>\n",
       "<style scoped>\n",
       "    .dataframe tbody tr th:only-of-type {\n",
       "        vertical-align: middle;\n",
       "    }\n",
       "\n",
       "    .dataframe tbody tr th {\n",
       "        vertical-align: top;\n",
       "    }\n",
       "\n",
       "    .dataframe thead th {\n",
       "        text-align: right;\n",
       "    }\n",
       "</style>\n",
       "<table border=\"1\" class=\"dataframe\">\n",
       "  <thead>\n",
       "    <tr style=\"text-align: right;\">\n",
       "      <th></th>\n",
       "      <th>supercategory</th>\n",
       "      <th>name</th>\n",
       "    </tr>\n",
       "  </thead>\n",
       "  <tbody>\n",
       "    <tr>\n",
       "      <th>0</th>\n",
       "      <td>arms and hands</td>\n",
       "      <td>[glove, watch]</td>\n",
       "    </tr>\n",
       "    <tr>\n",
       "      <th>1</th>\n",
       "      <td>closures</td>\n",
       "      <td>[buckle, zipper]</td>\n",
       "    </tr>\n",
       "    <tr>\n",
       "      <th>2</th>\n",
       "      <td>decorations</td>\n",
       "      <td>[applique, bead, bow, flower, fringe, ribbon, ...</td>\n",
       "    </tr>\n",
       "    <tr>\n",
       "      <th>3</th>\n",
       "      <td>garment parts</td>\n",
       "      <td>[hood, collar, lapel, epaulette, sleeve, pocke...</td>\n",
       "    </tr>\n",
       "    <tr>\n",
       "      <th>4</th>\n",
       "      <td>head</td>\n",
       "      <td>[glasses, hat, headband, head covering, hair a...</td>\n",
       "    </tr>\n",
       "    <tr>\n",
       "      <th>5</th>\n",
       "      <td>legs and feet</td>\n",
       "      <td>[leg warmer, tights, stockings, sock, shoe]</td>\n",
       "    </tr>\n",
       "    <tr>\n",
       "      <th>6</th>\n",
       "      <td>lowerbody</td>\n",
       "      <td>[pants, shorts, skirt]</td>\n",
       "    </tr>\n",
       "    <tr>\n",
       "      <th>7</th>\n",
       "      <td>neck</td>\n",
       "      <td>[tie]</td>\n",
       "    </tr>\n",
       "    <tr>\n",
       "      <th>8</th>\n",
       "      <td>others</td>\n",
       "      <td>[bag, wallet, scarf, umbrella]</td>\n",
       "    </tr>\n",
       "    <tr>\n",
       "      <th>9</th>\n",
       "      <td>upperbody</td>\n",
       "      <td>[shirt, blouse, top, t-shirt, sweatshirt, swea...</td>\n",
       "    </tr>\n",
       "    <tr>\n",
       "      <th>10</th>\n",
       "      <td>waist</td>\n",
       "      <td>[belt]</td>\n",
       "    </tr>\n",
       "    <tr>\n",
       "      <th>11</th>\n",
       "      <td>wholebody</td>\n",
       "      <td>[coat, dress, jumpsuit, cape]</td>\n",
       "    </tr>\n",
       "  </tbody>\n",
       "</table>\n",
       "</div>"
      ],
      "text/plain": [
       "     supercategory                                               name\n",
       "0   arms and hands                                     [glove, watch]\n",
       "1         closures                                   [buckle, zipper]\n",
       "2      decorations  [applique, bead, bow, flower, fringe, ribbon, ...\n",
       "3    garment parts  [hood, collar, lapel, epaulette, sleeve, pocke...\n",
       "4             head  [glasses, hat, headband, head covering, hair a...\n",
       "5    legs and feet        [leg warmer, tights, stockings, sock, shoe]\n",
       "6        lowerbody                             [pants, shorts, skirt]\n",
       "7             neck                                              [tie]\n",
       "8           others                     [bag, wallet, scarf, umbrella]\n",
       "9        upperbody  [shirt, blouse, top, t-shirt, sweatshirt, swea...\n",
       "10           waist                                             [belt]\n",
       "11       wholebody                      [coat, dress, jumpsuit, cape]"
      ]
     },
     "execution_count": 43,
     "metadata": {},
     "output_type": "execute_result"
    }
   ],
   "source": [
    "df_cat_supercategories"
   ]
  },
  {
   "cell_type": "markdown",
   "metadata": {},
   "source": [
    "### Group Attribute supercategories"
   ]
  },
  {
   "cell_type": "code",
   "execution_count": 44,
   "metadata": {
    "ExecuteTime": {
     "end_time": "2020-04-08T16:58:44.910933Z",
     "start_time": "2020-04-08T16:58:44.902921Z"
    }
   },
   "outputs": [],
   "source": [
    "df_attr_supercategories = pd.DataFrame(df_attributes.groupby('supercategory')['name'].agg(lambda x: list(x))).reset_index()"
   ]
  },
  {
   "cell_type": "code",
   "execution_count": 45,
   "metadata": {
    "ExecuteTime": {
     "end_time": "2020-04-08T16:58:47.272782Z",
     "start_time": "2020-04-08T16:58:47.261815Z"
    }
   },
   "outputs": [
    {
     "data": {
      "text/html": [
       "<div>\n",
       "<style scoped>\n",
       "    .dataframe tbody tr th:only-of-type {\n",
       "        vertical-align: middle;\n",
       "    }\n",
       "\n",
       "    .dataframe tbody tr th {\n",
       "        vertical-align: top;\n",
       "    }\n",
       "\n",
       "    .dataframe thead th {\n",
       "        text-align: right;\n",
       "    }\n",
       "</style>\n",
       "<table border=\"1\" class=\"dataframe\">\n",
       "  <thead>\n",
       "    <tr style=\"text-align: right;\">\n",
       "      <th></th>\n",
       "      <th>supercategory</th>\n",
       "      <th>name</th>\n",
       "    </tr>\n",
       "  </thead>\n",
       "  <tbody>\n",
       "    <tr>\n",
       "      <th>0</th>\n",
       "      <td>animal</td>\n",
       "      <td>[leopard, snakeskin (pattern), cheetah, peacoc...</td>\n",
       "    </tr>\n",
       "    <tr>\n",
       "      <th>1</th>\n",
       "      <td>leather</td>\n",
       "      <td>[suede, shearling, crocodile, snakeskin]</td>\n",
       "    </tr>\n",
       "    <tr>\n",
       "      <th>2</th>\n",
       "      <td>length</td>\n",
       "      <td>[above-the-hip (length), hip (length), micro (...</td>\n",
       "    </tr>\n",
       "    <tr>\n",
       "      <th>3</th>\n",
       "      <td>neckline type</td>\n",
       "      <td>[collarless, asymmetric (neckline), crew (neck...</td>\n",
       "    </tr>\n",
       "    <tr>\n",
       "      <th>4</th>\n",
       "      <td>nickname</td>\n",
       "      <td>[classic (t-shirt), polo (shirt), undershirt, ...</td>\n",
       "    </tr>\n",
       "    <tr>\n",
       "      <th>5</th>\n",
       "      <td>non-textile material type</td>\n",
       "      <td>[plastic, rubber, metal, feather, gem, bone, i...</td>\n",
       "    </tr>\n",
       "    <tr>\n",
       "      <th>6</th>\n",
       "      <td>opening type</td>\n",
       "      <td>[single breasted, double breasted, lace up, wr...</td>\n",
       "    </tr>\n",
       "    <tr>\n",
       "      <th>7</th>\n",
       "      <td>silhouette</td>\n",
       "      <td>[asymmetrical, symmetrical, peplum, circle, fl...</td>\n",
       "    </tr>\n",
       "    <tr>\n",
       "      <th>8</th>\n",
       "      <td>textile finishing, manufacturing techniques</td>\n",
       "      <td>[burnout, distressed, washed, embossed, frayed...</td>\n",
       "    </tr>\n",
       "    <tr>\n",
       "      <th>9</th>\n",
       "      <td>textile pattern</td>\n",
       "      <td>[plain (pattern), abstract, cartoon, letters, ...</td>\n",
       "    </tr>\n",
       "    <tr>\n",
       "      <th>10</th>\n",
       "      <td>waistline</td>\n",
       "      <td>[empire waistline, dropped waistline, high wai...</td>\n",
       "    </tr>\n",
       "  </tbody>\n",
       "</table>\n",
       "</div>"
      ],
      "text/plain": [
       "                                  supercategory  \\\n",
       "0                                        animal   \n",
       "1                                       leather   \n",
       "2                                        length   \n",
       "3                                 neckline type   \n",
       "4                                      nickname   \n",
       "5                     non-textile material type   \n",
       "6                                  opening type   \n",
       "7                                    silhouette   \n",
       "8   textile finishing, manufacturing techniques   \n",
       "9                               textile pattern   \n",
       "10                                    waistline   \n",
       "\n",
       "                                                 name  \n",
       "0   [leopard, snakeskin (pattern), cheetah, peacoc...  \n",
       "1            [suede, shearling, crocodile, snakeskin]  \n",
       "2   [above-the-hip (length), hip (length), micro (...  \n",
       "3   [collarless, asymmetric (neckline), crew (neck...  \n",
       "4   [classic (t-shirt), polo (shirt), undershirt, ...  \n",
       "5   [plastic, rubber, metal, feather, gem, bone, i...  \n",
       "6   [single breasted, double breasted, lace up, wr...  \n",
       "7   [asymmetrical, symmetrical, peplum, circle, fl...  \n",
       "8   [burnout, distressed, washed, embossed, frayed...  \n",
       "9   [plain (pattern), abstract, cartoon, letters, ...  \n",
       "10  [empire waistline, dropped waistline, high wai...  "
      ]
     },
     "execution_count": 45,
     "metadata": {},
     "output_type": "execute_result"
    }
   ],
   "source": [
    "df_attr_supercategories"
   ]
  },
  {
   "cell_type": "markdown",
   "metadata": {},
   "source": [
    "### Get supercateogie count across all masks and images"
   ]
  },
  {
   "cell_type": "code",
   "execution_count": 192,
   "metadata": {
    "ExecuteTime": {
     "end_time": "2020-04-08T19:49:16.188851Z",
     "start_time": "2020-04-08T19:49:16.183866Z"
    }
   },
   "outputs": [
    {
     "data": {
      "text/plain": [
       "2"
      ]
     },
     "execution_count": 192,
     "metadata": {},
     "output_type": "execute_result"
    }
   ],
   "source": [
    "counter = 1\n",
    "counter += mapped_attr_dict.get('clfdfdfdt-shirt)', 1)\n",
    "counter"
   ]
  },
  {
   "cell_type": "code",
   "execution_count": 202,
   "metadata": {
    "ExecuteTime": {
     "end_time": "2020-04-08T19:52:48.873738Z",
     "start_time": "2020-04-08T19:52:48.867756Z"
    }
   },
   "outputs": [],
   "source": [
    "cat_count_map = {}\n",
    "for n, c in df_cat_supercategories.iterrows():\n",
    "    counter = 0\n",
    "    for item in c['name']:\n",
    "        counter += mapped_cat_dict[item] \n",
    "        cat_count_map[n] = counter "
   ]
  },
  {
   "cell_type": "code",
   "execution_count": 203,
   "metadata": {
    "ExecuteTime": {
     "end_time": "2020-04-08T19:52:49.420974Z",
     "start_time": "2020-04-08T19:52:49.415988Z"
    }
   },
   "outputs": [
    {
     "data": {
      "text/plain": [
       "{0: 4774,\n",
       " 1: 11291,\n",
       " 2: 19934,\n",
       " 3: 139116,\n",
       " 4: 10843,\n",
       " 5: 53394,\n",
       " 6: 20216,\n",
       " 7: 1457,\n",
       " 8: 8726,\n",
       " 9: 33862,\n",
       " 10: 6851,\n",
       " 11: 22937}"
      ]
     },
     "execution_count": 203,
     "metadata": {},
     "output_type": "execute_result"
    }
   ],
   "source": [
    "counter_map"
   ]
  },
  {
   "cell_type": "code",
   "execution_count": 204,
   "metadata": {
    "ExecuteTime": {
     "end_time": "2020-04-08T19:52:49.984411Z",
     "start_time": "2020-04-08T19:52:49.980442Z"
    }
   },
   "outputs": [],
   "source": [
    "df_cat_supercategories['Count'] = counter_map.values()"
   ]
  },
  {
   "cell_type": "code",
   "execution_count": 205,
   "metadata": {
    "ExecuteTime": {
     "end_time": "2020-04-08T19:52:51.028879Z",
     "start_time": "2020-04-08T19:52:51.020899Z"
    }
   },
   "outputs": [
    {
     "data": {
      "text/html": [
       "<div>\n",
       "<style scoped>\n",
       "    .dataframe tbody tr th:only-of-type {\n",
       "        vertical-align: middle;\n",
       "    }\n",
       "\n",
       "    .dataframe tbody tr th {\n",
       "        vertical-align: top;\n",
       "    }\n",
       "\n",
       "    .dataframe thead th {\n",
       "        text-align: right;\n",
       "    }\n",
       "</style>\n",
       "<table border=\"1\" class=\"dataframe\">\n",
       "  <thead>\n",
       "    <tr style=\"text-align: right;\">\n",
       "      <th></th>\n",
       "      <th>supercategory</th>\n",
       "      <th>name</th>\n",
       "      <th>Count</th>\n",
       "    </tr>\n",
       "  </thead>\n",
       "  <tbody>\n",
       "    <tr>\n",
       "      <th>0</th>\n",
       "      <td>arms and hands</td>\n",
       "      <td>[glove, watch]</td>\n",
       "      <td>4774</td>\n",
       "    </tr>\n",
       "    <tr>\n",
       "      <th>1</th>\n",
       "      <td>closures</td>\n",
       "      <td>[buckle, zipper]</td>\n",
       "      <td>11291</td>\n",
       "    </tr>\n",
       "    <tr>\n",
       "      <th>2</th>\n",
       "      <td>decorations</td>\n",
       "      <td>[applique, bead, bow, flower, fringe, ribbon, ...</td>\n",
       "      <td>19934</td>\n",
       "    </tr>\n",
       "    <tr>\n",
       "      <th>3</th>\n",
       "      <td>garment parts</td>\n",
       "      <td>[hood, collar, lapel, epaulette, sleeve, pocke...</td>\n",
       "      <td>139116</td>\n",
       "    </tr>\n",
       "    <tr>\n",
       "      <th>4</th>\n",
       "      <td>head</td>\n",
       "      <td>[glasses, hat, headband, head covering, hair a...</td>\n",
       "      <td>10843</td>\n",
       "    </tr>\n",
       "    <tr>\n",
       "      <th>5</th>\n",
       "      <td>legs and feet</td>\n",
       "      <td>[leg warmer, tights, stockings, sock, shoe]</td>\n",
       "      <td>53394</td>\n",
       "    </tr>\n",
       "    <tr>\n",
       "      <th>6</th>\n",
       "      <td>lowerbody</td>\n",
       "      <td>[pants, shorts, skirt]</td>\n",
       "      <td>20216</td>\n",
       "    </tr>\n",
       "    <tr>\n",
       "      <th>7</th>\n",
       "      <td>neck</td>\n",
       "      <td>[tie]</td>\n",
       "      <td>1457</td>\n",
       "    </tr>\n",
       "    <tr>\n",
       "      <th>8</th>\n",
       "      <td>others</td>\n",
       "      <td>[bag, wallet, scarf, umbrella]</td>\n",
       "      <td>8726</td>\n",
       "    </tr>\n",
       "    <tr>\n",
       "      <th>9</th>\n",
       "      <td>upperbody</td>\n",
       "      <td>[shirt, blouse, top, t-shirt, sweatshirt, swea...</td>\n",
       "      <td>33862</td>\n",
       "    </tr>\n",
       "    <tr>\n",
       "      <th>10</th>\n",
       "      <td>waist</td>\n",
       "      <td>[belt]</td>\n",
       "      <td>6851</td>\n",
       "    </tr>\n",
       "    <tr>\n",
       "      <th>11</th>\n",
       "      <td>wholebody</td>\n",
       "      <td>[coat, dress, jumpsuit, cape]</td>\n",
       "      <td>22937</td>\n",
       "    </tr>\n",
       "  </tbody>\n",
       "</table>\n",
       "</div>"
      ],
      "text/plain": [
       "     supercategory                                               name   Count\n",
       "0   arms and hands                                     [glove, watch]    4774\n",
       "1         closures                                   [buckle, zipper]   11291\n",
       "2      decorations  [applique, bead, bow, flower, fringe, ribbon, ...   19934\n",
       "3    garment parts  [hood, collar, lapel, epaulette, sleeve, pocke...  139116\n",
       "4             head  [glasses, hat, headband, head covering, hair a...   10843\n",
       "5    legs and feet        [leg warmer, tights, stockings, sock, shoe]   53394\n",
       "6        lowerbody                             [pants, shorts, skirt]   20216\n",
       "7             neck                                              [tie]    1457\n",
       "8           others                     [bag, wallet, scarf, umbrella]    8726\n",
       "9        upperbody  [shirt, blouse, top, t-shirt, sweatshirt, swea...   33862\n",
       "10           waist                                             [belt]    6851\n",
       "11       wholebody                      [coat, dress, jumpsuit, cape]   22937"
      ]
     },
     "execution_count": 205,
     "metadata": {},
     "output_type": "execute_result"
    }
   ],
   "source": [
    "df_cat_supercategories"
   ]
  },
  {
   "cell_type": "markdown",
   "metadata": {},
   "source": [
    "**WIP**"
   ]
  },
  {
   "cell_type": "markdown",
   "metadata": {},
   "source": [
    "## Levels"
   ]
  },
  {
   "cell_type": "code",
   "execution_count": 12,
   "metadata": {
    "ExecuteTime": {
     "end_time": "2020-04-08T15:30:39.522266Z",
     "start_time": "2020-04-08T15:30:39.516233Z"
    }
   },
   "outputs": [
    {
     "data": {
      "text/plain": [
       "1    284\n",
       "2     10\n",
       "Name: level, dtype: int64"
      ]
     },
     "execution_count": 12,
     "metadata": {},
     "output_type": "execute_result"
    }
   ],
   "source": [
    "df_attributes.level.value_counts()"
   ]
  },
  {
   "cell_type": "code",
   "execution_count": 13,
   "metadata": {
    "ExecuteTime": {
     "end_time": "2020-04-08T15:30:40.004994Z",
     "start_time": "2020-04-08T15:30:39.997015Z"
    }
   },
   "outputs": [
    {
     "data": {
      "text/plain": [
       "2    46\n",
       "Name: level, dtype: int64"
      ]
     },
     "execution_count": 13,
     "metadata": {},
     "output_type": "execute_result"
    }
   ],
   "source": [
    "df_categories.level.value_counts()"
   ]
  },
  {
   "cell_type": "markdown",
   "metadata": {},
   "source": [
    "## Image Shapes"
   ]
  },
  {
   "cell_type": "code",
   "execution_count": 15,
   "metadata": {
    "ExecuteTime": {
     "end_time": "2020-04-08T15:30:49.231929Z",
     "start_time": "2020-04-08T15:30:49.176045Z"
    }
   },
   "outputs": [],
   "source": [
    "image_shape_df = df.groupby(\"ImageId\")[[\"Height\", \"Width\"]].first()"
   ]
  },
  {
   "cell_type": "code",
   "execution_count": 16,
   "metadata": {
    "ExecuteTime": {
     "end_time": "2020-04-08T15:30:49.655811Z",
     "start_time": "2020-04-08T15:30:49.232893Z"
    }
   },
   "outputs": [
    {
     "data": {
      "image/png": "[encoded data removed]",
      "text/plain": [
       "<Figure size 1152x360 with 2 Axes>"
      ]
     },
     "metadata": {
      "needs_background": "light"
     },
     "output_type": "display_data"
    }
   ],
   "source": [
    "fig, (ax1, ax2) = plt.subplots(1, 2, figsize=(16, 5))\n",
    "ax1.hist(image_shape_df.Height, bins=100)\n",
    "ax1.set_title(\"Height distribution\")\n",
    "ax2.hist(image_shape_df.Width, bins=100)\n",
    "ax2.set_title(\"Width distribution\");"
   ]
  },
  {
   "cell_type": "code",
   "execution_count": null,
   "metadata": {},
   "outputs": [],
   "source": []
  },
  {
   "cell_type": "code",
   "execution_count": null,
   "metadata": {},
   "outputs": [],
   "source": []
  },
  {
   "cell_type": "code",
   "execution_count": 12,
   "metadata": {},
   "outputs": [
    {
     "data": {
      "text/html": [
       "<div>\n",
       "<style scoped>\n",
       "    .dataframe tbody tr th:only-of-type {\n",
       "        vertical-align: middle;\n",
       "    }\n",
       "\n",
       "    .dataframe tbody tr th {\n",
       "        vertical-align: top;\n",
       "    }\n",
       "\n",
       "    .dataframe thead th {\n",
       "        text-align: right;\n",
       "    }\n",
       "</style>\n",
       "<table border=\"1\" class=\"dataframe\">\n",
       "  <thead>\n",
       "    <tr style=\"text-align: right;\">\n",
       "      <th></th>\n",
       "      <th>ImageId</th>\n",
       "      <th>EncodedPixels</th>\n",
       "      <th>ClassId</th>\n",
       "      <th>AttributesIds</th>\n",
       "      <th>Height</th>\n",
       "      <th>Width</th>\n",
       "    </tr>\n",
       "  </thead>\n",
       "  <tbody>\n",
       "    <tr>\n",
       "      <th>0</th>\n",
       "      <td>00000663ed1ff0c4e0132b9b9ac53f6e</td>\n",
       "      <td>[6068157 7 6073371 20 6078584 34 6083797 48 60...</td>\n",
       "      <td>[6, 0, 28, 31, 32, 32, 31, 29, 4]</td>\n",
       "      <td>[115,136,143,154,230,295,316,317, 115,136,142,...</td>\n",
       "      <td>5214</td>\n",
       "      <td>3676</td>\n",
       "    </tr>\n",
       "    <tr>\n",
       "      <th>1</th>\n",
       "      <td>0000fe7c9191fba733c8a69cfaf962b7</td>\n",
       "      <td>[2201176 1 2203623 3 2206071 5 2208518 8 22109...</td>\n",
       "      <td>[33, 1]</td>\n",
       "      <td>[190, 0,115,145,146,295,316,317]</td>\n",
       "      <td>2448</td>\n",
       "      <td>2448</td>\n",
       "    </tr>\n",
       "    <tr>\n",
       "      <th>2</th>\n",
       "      <td>0002ec21ddb8477e98b2cbb87ea2e269</td>\n",
       "      <td>[2673735 2 2676734 8 2679734 13 2682733 19 268...</td>\n",
       "      <td>[33, 10, 23, 23]</td>\n",
       "      <td>[182, 102,128,142,150,229,295,301,318, nan, nan]</td>\n",
       "      <td>3000</td>\n",
       "      <td>1997</td>\n",
       "    </tr>\n",
       "    <tr>\n",
       "      <th>3</th>\n",
       "      <td>0002f5a0ebc162ecfb73e2c91e3b8f62</td>\n",
       "      <td>[435 132 1002 132 1569 132 2136 132 2703 132 3...</td>\n",
       "      <td>[10, 33, 15]</td>\n",
       "      <td>[108,115,119,141,155,229,286,316,317, 187, nan]</td>\n",
       "      <td>567</td>\n",
       "      <td>400</td>\n",
       "    </tr>\n",
       "    <tr>\n",
       "      <th>4</th>\n",
       "      <td>0004467156e47b0eb6de4aa6479cbd15</td>\n",
       "      <td>[132663 8 133396 25 134130 41 134868 53 135611...</td>\n",
       "      <td>[10, 33, 31, 31, 15]</td>\n",
       "      <td>[115,141,155,295,305,317, 188, 159, 159, nan]</td>\n",
       "      <td>750</td>\n",
       "      <td>500</td>\n",
       "    </tr>\n",
       "  </tbody>\n",
       "</table>\n",
       "</div>"
      ],
      "text/plain": [
       "                            ImageId  \\\n",
       "0  00000663ed1ff0c4e0132b9b9ac53f6e   \n",
       "1  0000fe7c9191fba733c8a69cfaf962b7   \n",
       "2  0002ec21ddb8477e98b2cbb87ea2e269   \n",
       "3  0002f5a0ebc162ecfb73e2c91e3b8f62   \n",
       "4  0004467156e47b0eb6de4aa6479cbd15   \n",
       "\n",
       "                                       EncodedPixels  \\\n",
       "0  [6068157 7 6073371 20 6078584 34 6083797 48 60...   \n",
       "1  [2201176 1 2203623 3 2206071 5 2208518 8 22109...   \n",
       "2  [2673735 2 2676734 8 2679734 13 2682733 19 268...   \n",
       "3  [435 132 1002 132 1569 132 2136 132 2703 132 3...   \n",
       "4  [132663 8 133396 25 134130 41 134868 53 135611...   \n",
       "\n",
       "                             ClassId  \\\n",
       "0  [6, 0, 28, 31, 32, 32, 31, 29, 4]   \n",
       "1                            [33, 1]   \n",
       "2                   [33, 10, 23, 23]   \n",
       "3                       [10, 33, 15]   \n",
       "4               [10, 33, 31, 31, 15]   \n",
       "\n",
       "                                       AttributesIds  Height  Width  \n",
       "0  [115,136,143,154,230,295,316,317, 115,136,142,...    5214   3676  \n",
       "1                   [190, 0,115,145,146,295,316,317]    2448   2448  \n",
       "2   [182, 102,128,142,150,229,295,301,318, nan, nan]    3000   1997  \n",
       "3    [108,115,119,141,155,229,286,316,317, 187, nan]     567    400  \n",
       "4      [115,141,155,295,305,317, 188, 159, 159, nan]     750    500  "
      ]
     },
     "execution_count": 12,
     "metadata": {},
     "output_type": "execute_result"
    }
   ],
   "source": [
    "image_df.head()"
   ]
  },
  {
   "cell_type": "code",
   "execution_count": 20,
   "metadata": {},
   "outputs": [
    {
     "data": {
      "text/html": [
       "<div>\n",
       "<style scoped>\n",
       "    .dataframe tbody tr th:only-of-type {\n",
       "        vertical-align: middle;\n",
       "    }\n",
       "\n",
       "    .dataframe tbody tr th {\n",
       "        vertical-align: top;\n",
       "    }\n",
       "\n",
       "    .dataframe thead th {\n",
       "        text-align: right;\n",
       "    }\n",
       "</style>\n",
       "<table border=\"1\" class=\"dataframe\">\n",
       "  <thead>\n",
       "    <tr style=\"text-align: right;\">\n",
       "      <th></th>\n",
       "      <th>ImageId</th>\n",
       "      <th>EncodedPixels</th>\n",
       "      <th>Height</th>\n",
       "      <th>Width</th>\n",
       "      <th>ClassId</th>\n",
       "      <th>AttributesIds</th>\n",
       "    </tr>\n",
       "  </thead>\n",
       "  <tbody>\n",
       "    <tr>\n",
       "      <th>115087</th>\n",
       "      <td>58562f033153ed9c967cf51c766745ec</td>\n",
       "      <td>994930 2 996928 7 998926 12 1000925 16 1002923...</td>\n",
       "      <td>2000</td>\n",
       "      <td>1158</td>\n",
       "      <td>8</td>\n",
       "      <td>120,143,149,295,304,317</td>\n",
       "    </tr>\n",
       "    <tr>\n",
       "      <th>302876</th>\n",
       "      <td>e90cbde940e8e5a6ddc6ed84d5f936b1</td>\n",
       "      <td>610065 5 611557 14 613050 22 614543 29 616036 ...</td>\n",
       "      <td>1500</td>\n",
       "      <td>1000</td>\n",
       "      <td>8</td>\n",
       "      <td>115,118,142,151,234,295,316,317</td>\n",
       "    </tr>\n",
       "    <tr>\n",
       "      <th>115069</th>\n",
       "      <td>585087ca6db4b9011e2d89a4c4b3bd28</td>\n",
       "      <td>530981 2 532578 7 534175 11 535772 15 537369 1...</td>\n",
       "      <td>1600</td>\n",
       "      <td>1067</td>\n",
       "      <td>8</td>\n",
       "      <td>68,115,127,141,153,295,309,326</td>\n",
       "    </tr>\n",
       "    <tr>\n",
       "      <th>82224</th>\n",
       "      <td>3ef030621581cf60c25a9d9268a8af0f</td>\n",
       "      <td>483080 34 485870 94 488660 147 491450 200 4942...</td>\n",
       "      <td>2800</td>\n",
       "      <td>2100</td>\n",
       "      <td>8</td>\n",
       "      <td>68,128,142,151,295,316,326</td>\n",
       "    </tr>\n",
       "    <tr>\n",
       "      <th>193506</th>\n",
       "      <td>9520b2f13b44f55e16a8a0bbb5dbb234</td>\n",
       "      <td>266344 10 267301 28 268260 43 269219 59 270163...</td>\n",
       "      <td>960</td>\n",
       "      <td>640</td>\n",
       "      <td>8</td>\n",
       "      <td>68,115,126,151,229,295,316,317</td>\n",
       "    </tr>\n",
       "    <tr>\n",
       "      <th>...</th>\n",
       "      <td>...</td>\n",
       "      <td>...</td>\n",
       "      <td>...</td>\n",
       "      <td>...</td>\n",
       "      <td>...</td>\n",
       "      <td>...</td>\n",
       "    </tr>\n",
       "    <tr>\n",
       "      <th>312852</th>\n",
       "      <td>f0b33b338f35306967f6da4e7e1b264e</td>\n",
       "      <td>2392444 141 2394726 1 2395441 151 2397725 4 23...</td>\n",
       "      <td>3000</td>\n",
       "      <td>1997</td>\n",
       "      <td>10</td>\n",
       "      <td>102,115,128,142,149,295,317</td>\n",
       "    </tr>\n",
       "    <tr>\n",
       "      <th>274440</th>\n",
       "      <td>d32b6162f50b760180d845dc270ed5aa</td>\n",
       "      <td>656558 4 659554 10 662549 17 665544 24 668539 ...</td>\n",
       "      <td>3000</td>\n",
       "      <td>2001</td>\n",
       "      <td>10</td>\n",
       "      <td>108,115,117,141,155,229,295,311,324</td>\n",
       "    </tr>\n",
       "    <tr>\n",
       "      <th>154997</th>\n",
       "      <td>7701f63dce5c2a5973fe550e60aa74d0</td>\n",
       "      <td>289821 3 290954 4 292087 5 293219 7 294352 8 2...</td>\n",
       "      <td>1133</td>\n",
       "      <td>1502</td>\n",
       "      <td>10</td>\n",
       "      <td>101,115,129,139,149,229,295,316,327</td>\n",
       "    </tr>\n",
       "    <tr>\n",
       "      <th>154999</th>\n",
       "      <td>7706b58f1d6fdceeb480ff27261d4f46</td>\n",
       "      <td>59326 29 60324 41 61322 51 62320 60 63319 68 6...</td>\n",
       "      <td>1000</td>\n",
       "      <td>665</td>\n",
       "      <td>10</td>\n",
       "      <td>102,128,141,151,316,317</td>\n",
       "    </tr>\n",
       "    <tr>\n",
       "      <th>101294</th>\n",
       "      <td>4d974f522d224884304a772e05426e90</td>\n",
       "      <td>1049190 49 1052072 34 1052321 112 1055230 101 ...</td>\n",
       "      <td>3192</td>\n",
       "      <td>2130</td>\n",
       "      <td>10</td>\n",
       "      <td>113,115,117,141,151,229,295,316,317</td>\n",
       "    </tr>\n",
       "  </tbody>\n",
       "</table>\n",
       "<p>20000 rows × 6 columns</p>\n",
       "</div>"
      ],
      "text/plain": [
       "                                 ImageId  \\\n",
       "115087  58562f033153ed9c967cf51c766745ec   \n",
       "302876  e90cbde940e8e5a6ddc6ed84d5f936b1   \n",
       "115069  585087ca6db4b9011e2d89a4c4b3bd28   \n",
       "82224   3ef030621581cf60c25a9d9268a8af0f   \n",
       "193506  9520b2f13b44f55e16a8a0bbb5dbb234   \n",
       "...                                  ...   \n",
       "312852  f0b33b338f35306967f6da4e7e1b264e   \n",
       "274440  d32b6162f50b760180d845dc270ed5aa   \n",
       "154997  7701f63dce5c2a5973fe550e60aa74d0   \n",
       "154999  7706b58f1d6fdceeb480ff27261d4f46   \n",
       "101294  4d974f522d224884304a772e05426e90   \n",
       "\n",
       "                                            EncodedPixels  Height  Width  \\\n",
       "115087  994930 2 996928 7 998926 12 1000925 16 1002923...    2000   1158   \n",
       "302876  610065 5 611557 14 613050 22 614543 29 616036 ...    1500   1000   \n",
       "115069  530981 2 532578 7 534175 11 535772 15 537369 1...    1600   1067   \n",
       "82224   483080 34 485870 94 488660 147 491450 200 4942...    2800   2100   \n",
       "193506  266344 10 267301 28 268260 43 269219 59 270163...     960    640   \n",
       "...                                                   ...     ...    ...   \n",
       "312852  2392444 141 2394726 1 2395441 151 2397725 4 23...    3000   1997   \n",
       "274440  656558 4 659554 10 662549 17 665544 24 668539 ...    3000   2001   \n",
       "154997  289821 3 290954 4 292087 5 293219 7 294352 8 2...    1133   1502   \n",
       "154999  59326 29 60324 41 61322 51 62320 60 63319 68 6...    1000    665   \n",
       "101294  1049190 49 1052072 34 1052321 112 1055230 101 ...    3192   2130   \n",
       "\n",
       "        ClassId                        AttributesIds  \n",
       "115087        8              120,143,149,295,304,317  \n",
       "302876        8      115,118,142,151,234,295,316,317  \n",
       "115069        8       68,115,127,141,153,295,309,326  \n",
       "82224         8           68,128,142,151,295,316,326  \n",
       "193506        8       68,115,126,151,229,295,316,317  \n",
       "...         ...                                  ...  \n",
       "312852       10          102,115,128,142,149,295,317  \n",
       "274440       10  108,115,117,141,155,229,295,311,324  \n",
       "154997       10  101,115,129,139,149,229,295,316,327  \n",
       "154999       10              102,128,141,151,316,317  \n",
       "101294       10  113,115,117,141,151,229,295,316,317  \n",
       "\n",
       "[20000 rows x 6 columns]"
      ]
     },
     "execution_count": 20,
     "metadata": {},
     "output_type": "execute_result"
    }
   ],
   "source": [
    "df.sort_values('ClassId')[50000:70000]"
   ]
  },
  {
   "cell_type": "code",
   "execution_count": null,
   "metadata": {},
   "outputs": [],
   "source": []
  }
 ],
 "metadata": {
  "environment": {
   "name": "pytorch-gpu.1-4.m46",
   "type": "gcloud",
   "uri": "gcr.io/deeplearning-platform-release/pytorch-gpu.1-4:m46"
  },
  "kernelspec": {
   "display_name": "Python (imaterialist)",
   "language": "python",
   "name": "conda-imaterialist"
  },
  "language_info": {
   "codemirror_mode": {
    "name": "ipython",
    "version": 3
   },
   "file_extension": ".py",
   "mimetype": "text/x-python",
   "name": "python",
   "nbconvert_exporter": "python",
   "pygments_lexer": "ipython3",
   "version": "3.8.2-final"
  },
  "toc": {
   "base_numbering": 1,
   "nav_menu": {},
   "number_sections": true,
   "sideBar": true,
   "skip_h1_title": false,
   "title_cell": "Table of Contents",
   "title_sidebar": "Contents",
   "toc_cell": false,
   "toc_position": {},
   "toc_section_display": true,
   "toc_window_display": false
  }
 },
 "nbformat": 4,
 "nbformat_minor": 4
}