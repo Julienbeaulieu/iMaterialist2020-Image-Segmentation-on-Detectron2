{
 "cells": [
  {
   "cell_type": "code",
   "execution_count": 1,
   "metadata": {
    "ExecuteTime": {
     "end_time": "2020-04-07T21:59:51.128481Z",
     "start_time": "2020-04-07T21:59:51.118474Z"
    }
   },
   "outputs": [],
   "source": [
    "import collections\n",
    "import torch\n",
    "import json\n",
    "import os\n",
    "import cv2\n",
    "from tqdm import tqdm\n",
    "import pandas as pd\n",
    "import numpy as np\n",
    "import matplotlib.pyplot as plt\n",
    "import PIL\n",
    "from PIL import Image, ImageFile\n",
    "from torch.utils.data import Dataset, DataLoader\n",
    "\n",
    "from pathlib import Path\n"
   ]
  },
  {
   "cell_type": "code",
   "execution_count": 2,
   "metadata": {
    "ExecuteTime": {
     "end_time": "2020-04-07T21:59:51.301115Z",
     "start_time": "2020-04-07T21:59:51.297090Z"
    }
   },
   "outputs": [],
   "source": [
    "image_dir = Path('train')\n",
    "data_dir = Path('data')"
   ]
  },
  {
   "cell_type": "code",
   "execution_count": 3,
   "metadata": {
    "ExecuteTime": {
     "end_time": "2020-04-07T22:00:07.043978Z",
     "start_time": "2020-04-07T21:59:51.430458Z"
    }
   },
   "outputs": [],
   "source": [
    "df = pd.read_csv(data_dir/'train.csv')"
   ]
  },
  {
   "cell_type": "code",
   "execution_count": 4,
   "metadata": {
    "ExecuteTime": {
     "end_time": "2020-04-08T00:06:14.532614Z",
     "start_time": "2020-04-08T00:06:14.476761Z"
    }
   },
   "outputs": [
    {
     "data": {
      "text/html": [
       "<div>\n",
       "<style scoped>\n",
       "    .dataframe tbody tr th:only-of-type {\n",
       "        vertical-align: middle;\n",
       "    }\n",
       "\n",
       "    .dataframe tbody tr th {\n",
       "        vertical-align: top;\n",
       "    }\n",
       "\n",
       "    .dataframe thead th {\n",
       "        text-align: right;\n",
       "    }\n",
       "</style>\n",
       "<table border=\"1\" class=\"dataframe\">\n",
       "  <thead>\n",
       "    <tr style=\"text-align: right;\">\n",
       "      <th></th>\n",
       "      <th>ImageId</th>\n",
       "      <th>EncodedPixels</th>\n",
       "      <th>Height</th>\n",
       "      <th>Width</th>\n",
       "      <th>ClassId</th>\n",
       "      <th>AttributesIds</th>\n",
       "    </tr>\n",
       "  </thead>\n",
       "  <tbody>\n",
       "    <tr>\n",
       "      <th>0</th>\n",
       "      <td>00000663ed1ff0c4e0132b9b9ac53f6e</td>\n",
       "      <td>6068157 7 6073371 20 6078584 34 6083797 48 608...</td>\n",
       "      <td>5214</td>\n",
       "      <td>3676</td>\n",
       "      <td>6</td>\n",
       "      <td>115,136,143,154,230,295,316,317</td>\n",
       "    </tr>\n",
       "    <tr>\n",
       "      <th>1</th>\n",
       "      <td>00000663ed1ff0c4e0132b9b9ac53f6e</td>\n",
       "      <td>6323163 11 6328356 32 6333549 53 6338742 75 63...</td>\n",
       "      <td>5214</td>\n",
       "      <td>3676</td>\n",
       "      <td>0</td>\n",
       "      <td>115,136,142,146,225,295,316,317</td>\n",
       "    </tr>\n",
       "    <tr>\n",
       "      <th>2</th>\n",
       "      <td>00000663ed1ff0c4e0132b9b9ac53f6e</td>\n",
       "      <td>8521389 10 8526585 30 8531789 42 8537002 46 85...</td>\n",
       "      <td>5214</td>\n",
       "      <td>3676</td>\n",
       "      <td>28</td>\n",
       "      <td>163</td>\n",
       "    </tr>\n",
       "    <tr>\n",
       "      <th>3</th>\n",
       "      <td>00000663ed1ff0c4e0132b9b9ac53f6e</td>\n",
       "      <td>12903854 2 12909064 7 12914275 10 12919485 15 ...</td>\n",
       "      <td>5214</td>\n",
       "      <td>3676</td>\n",
       "      <td>31</td>\n",
       "      <td>160,204</td>\n",
       "    </tr>\n",
       "    <tr>\n",
       "      <th>4</th>\n",
       "      <td>00000663ed1ff0c4e0132b9b9ac53f6e</td>\n",
       "      <td>10837337 5 10842542 14 10847746 24 10852951 33...</td>\n",
       "      <td>5214</td>\n",
       "      <td>3676</td>\n",
       "      <td>32</td>\n",
       "      <td>219</td>\n",
       "    </tr>\n",
       "  </tbody>\n",
       "</table>\n",
       "</div>"
      ],
      "text/plain": [
       "                            ImageId  \\\n",
       "0  00000663ed1ff0c4e0132b9b9ac53f6e   \n",
       "1  00000663ed1ff0c4e0132b9b9ac53f6e   \n",
       "2  00000663ed1ff0c4e0132b9b9ac53f6e   \n",
       "3  00000663ed1ff0c4e0132b9b9ac53f6e   \n",
       "4  00000663ed1ff0c4e0132b9b9ac53f6e   \n",
       "\n",
       "                                       EncodedPixels  Height  Width  ClassId  \\\n",
       "0  6068157 7 6073371 20 6078584 34 6083797 48 608...    5214   3676        6   \n",
       "1  6323163 11 6328356 32 6333549 53 6338742 75 63...    5214   3676        0   \n",
       "2  8521389 10 8526585 30 8531789 42 8537002 46 85...    5214   3676       28   \n",
       "3  12903854 2 12909064 7 12914275 10 12919485 15 ...    5214   3676       31   \n",
       "4  10837337 5 10842542 14 10847746 24 10852951 33...    5214   3676       32   \n",
       "\n",
       "                     AttributesIds  \n",
       "0  115,136,143,154,230,295,316,317  \n",
       "1  115,136,142,146,225,295,316,317  \n",
       "2                              163  \n",
       "3                          160,204  \n",
       "4                              219  "
      ]
     },
     "execution_count": 4,
     "metadata": {},
     "output_type": "execute_result"
    }
   ],
   "source": [
    "df.head()"
   ]
  },
  {
   "cell_type": "code",
   "execution_count": 5,
   "metadata": {
    "ExecuteTime": {
     "end_time": "2020-04-07T22:00:07.054769Z",
     "start_time": "2020-04-07T22:00:07.043978Z"
    }
   },
   "outputs": [],
   "source": [
    "# Use this df to get a smaller version of the dataset\n",
    "# df = df.sample(frac=0.1).reset_index(drop=True)"
   ]
  },
  {
   "cell_type": "code",
   "execution_count": 6,
   "metadata": {
    "ExecuteTime": {
     "end_time": "2020-04-07T22:00:34.909831Z",
     "start_time": "2020-04-07T22:00:23.736704Z"
    }
   },
   "outputs": [
    {
     "name": "stdout",
     "output_type": "stream",
     "text": [
      "Total images:  45623\n"
     ]
    },
    {
     "data": {
      "text/html": [
       "<div>\n",
       "<style scoped>\n",
       "    .dataframe tbody tr th:only-of-type {\n",
       "        vertical-align: middle;\n",
       "    }\n",
       "\n",
       "    .dataframe tbody tr th {\n",
       "        vertical-align: top;\n",
       "    }\n",
       "\n",
       "    .dataframe thead th {\n",
       "        text-align: right;\n",
       "    }\n",
       "</style>\n",
       "<table border=\"1\" class=\"dataframe\">\n",
       "  <thead>\n",
       "    <tr style=\"text-align: right;\">\n",
       "      <th></th>\n",
       "      <th>ImageId</th>\n",
       "      <th>EncodedPixels</th>\n",
       "      <th>ClassId</th>\n",
       "      <th>AttributesIds</th>\n",
       "      <th>Height</th>\n",
       "      <th>Width</th>\n",
       "    </tr>\n",
       "  </thead>\n",
       "  <tbody>\n",
       "    <tr>\n",
       "      <th>0</th>\n",
       "      <td>00000663ed1ff0c4e0132b9b9ac53f6e</td>\n",
       "      <td>[6068157 7 6073371 20 6078584 34 6083797 48 60...</td>\n",
       "      <td>[6, 0, 28, 31, 32, 32, 31, 29, 4]</td>\n",
       "      <td>[115,136,143,154,230,295,316,317, 115,136,142,...</td>\n",
       "      <td>5214</td>\n",
       "      <td>3676</td>\n",
       "    </tr>\n",
       "    <tr>\n",
       "      <th>1</th>\n",
       "      <td>0000fe7c9191fba733c8a69cfaf962b7</td>\n",
       "      <td>[2201176 1 2203623 3 2206071 5 2208518 8 22109...</td>\n",
       "      <td>[33, 1]</td>\n",
       "      <td>[190, 0,115,145,146,295,316,317]</td>\n",
       "      <td>2448</td>\n",
       "      <td>2448</td>\n",
       "    </tr>\n",
       "    <tr>\n",
       "      <th>2</th>\n",
       "      <td>0002ec21ddb8477e98b2cbb87ea2e269</td>\n",
       "      <td>[2673735 2 2676734 8 2679734 13 2682733 19 268...</td>\n",
       "      <td>[33, 10, 23, 23]</td>\n",
       "      <td>[182, 102,128,142,150,229,295,301,318, nan, nan]</td>\n",
       "      <td>3000</td>\n",
       "      <td>1997</td>\n",
       "    </tr>\n",
       "  </tbody>\n",
       "</table>\n",
       "</div>"
      ],
      "text/plain": [
       "                            ImageId  \\\n",
       "0  00000663ed1ff0c4e0132b9b9ac53f6e   \n",
       "1  0000fe7c9191fba733c8a69cfaf962b7   \n",
       "2  0002ec21ddb8477e98b2cbb87ea2e269   \n",
       "\n",
       "                                       EncodedPixels  \\\n",
       "0  [6068157 7 6073371 20 6078584 34 6083797 48 60...   \n",
       "1  [2201176 1 2203623 3 2206071 5 2208518 8 22109...   \n",
       "2  [2673735 2 2676734 8 2679734 13 2682733 19 268...   \n",
       "\n",
       "                             ClassId  \\\n",
       "0  [6, 0, 28, 31, 32, 32, 31, 29, 4]   \n",
       "1                            [33, 1]   \n",
       "2                   [33, 10, 23, 23]   \n",
       "\n",
       "                                       AttributesIds  Height  Width  \n",
       "0  [115,136,143,154,230,295,316,317, 115,136,142,...    5214   3676  \n",
       "1                   [190, 0,115,145,146,295,316,317]    2448   2448  \n",
       "2   [182, 102,128,142,150,229,295,301,318, nan, nan]    3000   1997  "
      ]
     },
     "execution_count": 6,
     "metadata": {},
     "output_type": "execute_result"
    }
   ],
   "source": [
    "# Group images by encodings and classes\n",
    "encodings_classes_df = df.groupby('ImageId')[['EncodedPixels', 'ClassId', 'AttributesIds']].agg(lambda x: list(x))\n",
    "\n",
    "# Group images by height and width\n",
    "size_df = df.groupby('ImageId')[['Height', 'Width']].mean()\n",
    "\n",
    "# Join both df to get a Group by images with all relevant info\n",
    "image_df = encodings_classes_df.join(size_df, on='ImageId').reset_index()\n",
    "\n",
    "print(\"Total images: \", len(image_df))\n",
    "image_df.head(3)"
   ]
  },
  {
   "cell_type": "code",
   "execution_count": 116,
   "metadata": {
    "ExecuteTime": {
     "end_time": "2020-04-06T16:41:06.013618Z",
     "start_time": "2020-04-06T16:41:05.888936Z"
    }
   },
   "outputs": [],
   "source": [
    "# Add .ls() method to Path\n",
    "Path.ls = lambda x: list(x.iterdir())\n",
    "\n",
    "# Make sure length of df matches the number of images\n",
    "assert len(image_df) == len(image_dir.ls())"
   ]
  },
  {
   "cell_type": "code",
   "execution_count": 388,
   "metadata": {
    "ExecuteTime": {
     "end_time": "2020-04-07T14:32:51.724098Z",
     "start_time": "2020-04-07T14:32:51.715124Z"
    }
   },
   "outputs": [],
   "source": [
    "# Get label descriptions\n",
    "with open(data_dir/'label_descriptions.json', 'r') as file:\n",
    "    label_desc = json.load(file)\n",
    "df_categories = pd.DataFrame(label_desc['categories'])\n",
    "df_attributes = pd.DataFrame(label_desc['attributes'])"
   ]
  },
  {
   "cell_type": "markdown",
   "metadata": {},
   "source": [
    "## matterport library Dataset class"
   ]
  },
  {
   "cell_type": "code",
   "execution_count": 261,
   "metadata": {
    "ExecuteTime": {
     "end_time": "2020-04-06T20:14:08.520795Z",
     "start_time": "2020-04-06T20:14:08.494897Z"
    }
   },
   "outputs": [],
   "source": [
    "# https://github.com/matterport/Mask_RCNN/blob/master/mrcnn/utils.py\n",
    "class Dataset(object):\n",
    "    \"\"\"The base class for dataset classes.\n",
    "    To use it, create a new class that adds functions specific to the dataset\n",
    "    you want to use. For example:\n",
    "    class CatsAndDogsDataset(Dataset):\n",
    "        def load_cats_and_dogs(self):\n",
    "            ...\n",
    "        def load_mask(self, image_id):\n",
    "            ...\n",
    "        def image_reference(self, image_id):\n",
    "            ...\n",
    "    See COCODataset and ShapesDataset as examples.\n",
    "    \"\"\"\n",
    "\n",
    "    def __init__(self, class_map=None):\n",
    "        self._image_ids = []\n",
    "        self.image_info = []\n",
    "        # Background is always the first class\n",
    "        self.class_info = [{\"source\": \"\", \"id\": 0, \"name\": \"BG\"}]\n",
    "        self.source_class_ids = {}\n",
    "\n",
    "    def add_class(self, source, class_id, class_name):\n",
    "        assert \".\" not in source, \"Source name cannot contain a dot\"\n",
    "        # Does the class exist already?\n",
    "        for info in self.class_info:\n",
    "            if info['source'] == source and info[\"id\"] == class_id:\n",
    "                # source.class_id combination already available, skip\n",
    "                return\n",
    "        # Add the class\n",
    "        self.class_info.append({\n",
    "            \"source\": source,\n",
    "            \"id\": class_id,\n",
    "            \"name\": class_name,\n",
    "        })\n",
    "\n",
    "    def add_image(self, source, image_id, path, **kwargs):\n",
    "        image_info = {\n",
    "            \"id\": image_id,\n",
    "            \"source\": source,\n",
    "            \"path\": path,\n",
    "        }\n",
    "        image_info.update(kwargs)\n",
    "        self.image_info.append(image_info)\n",
    "\n",
    "    def image_reference(self, image_id):\n",
    "        \"\"\"Return a link to the image in its source Website or details about\n",
    "        the image that help looking it up or debugging it.\n",
    "        Override for your dataset, but pass to this function\n",
    "        if you encounter images not in your dataset.\n",
    "        \"\"\"\n",
    "        return \"\"\n",
    "\n",
    "    def prepare(self, class_map=None):\n",
    "        \"\"\"Prepares the Dataset class for use.\n",
    "        TODO: class map is not supported yet. When done, it should handle mapping\n",
    "              classes from different datasets to the same class ID.\n",
    "        \"\"\"\n",
    "\n",
    "        def clean_name(name):\n",
    "            \"\"\"Returns a shorter version of object names for cleaner display.\"\"\"\n",
    "            return \",\".join(name.split(\",\")[:1])\n",
    "\n",
    "        # Build (or rebuild) everything else from the info dicts.\n",
    "        self.num_classes = len(self.class_info)\n",
    "        self.class_ids = np.arange(self.num_classes)\n",
    "        self.class_names = [clean_name(c[\"name\"]) for c in self.class_info]\n",
    "        self.num_images = len(self.image_info)\n",
    "        self._image_ids = np.arange(self.num_images)\n",
    "\n",
    "        # Mapping from source class and image IDs to internal IDs\n",
    "        self.class_from_source_map = {\"{}.{}\".format(info['source'], info['id']): id\n",
    "                                      for info, id in zip(self.class_info, self.class_ids)}\n",
    "        self.image_from_source_map = {\"{}.{}\".format(info['source'], info['id']): id\n",
    "                                      for info, id in zip(self.image_info, self.image_ids)}\n",
    "\n",
    "        # Map sources to class_ids they support\n",
    "        self.sources = list(set([i['source'] for i in self.class_info]))\n",
    "        self.source_class_ids = {}\n",
    "        # Loop over datasets\n",
    "        for source in self.sources:\n",
    "            self.source_class_ids[source] = []\n",
    "            # Find classes that belong to this dataset\n",
    "            for i, info in enumerate(self.class_info):\n",
    "                # Include BG class in all datasets\n",
    "                if i == 0 or source == info['source']:\n",
    "                    self.source_class_ids[source].append(i)\n",
    "\n",
    "    def map_source_class_id(self, source_class_id):\n",
    "        \"\"\"Takes a source class ID and returns the int class ID assigned to it.\n",
    "        For example:\n",
    "        dataset.map_source_class_id(\"coco.12\") -> 23\n",
    "        \"\"\"\n",
    "        return self.class_from_source_map[source_class_id]\n",
    "\n",
    "    def get_source_class_id(self, class_id, source):\n",
    "        \"\"\"Map an internal class ID to the corresponding class ID in the source dataset.\"\"\"\n",
    "        info = self.class_info[class_id]\n",
    "        assert info['source'] == source\n",
    "        return info['id']\n",
    "\n",
    "    @property\n",
    "    def image_ids(self):\n",
    "        return self._image_ids\n",
    "\n",
    "    def source_image_link(self, image_id):\n",
    "        \"\"\"Returns the path or URL to the image.\n",
    "        Override this to return a URL to the image if it's available online for easy\n",
    "        debugging.\n",
    "        \"\"\"\n",
    "        return self.image_info[image_id][\"path\"]\n",
    "\n",
    "    \n",
    "    # encode and decode functions added for testing purposes\n",
    "    def rle_encode(self, mask):\n",
    "        pixels = mask.T.flatten()\n",
    "        # We need to allow for cases where there is a '1' at either end of the sequence.\n",
    "        # We do this by padding with a zero at each end when needed.\n",
    "        use_padding = False\n",
    "        if pixels[0] or pixels[-1]:\n",
    "            use_padding = True\n",
    "            pixel_padded = np.zeros([len(pixels) + 2], dtype=pixels.dtype)\n",
    "            pixel_padded[1:-1] = pixels\n",
    "            pixels = pixel_padded\n",
    "        rle = np.where(pixels[1:] != pixels[:-1])[0] + 1\n",
    "        if use_padding:\n",
    "            rle = rle - 1\n",
    "        rle[1::2] = rle[1::2] - rle[:-1:2]\n",
    "        return rle\n",
    "    \n",
    "    def rle_decode(self, mask_rle_list, h, w):\n",
    "        \n",
    "        masks = []\n",
    "        mask_rle_list = list(mask_rle_list)\n",
    "\n",
    "        for annotation in mask_rle_list:\n",
    "            sub_mask = np.full(h*w, 0, dtype=np.uint8)\n",
    "            \n",
    "            # Get a list of encoded pixels\n",
    "            annotation = [int(x) for x in annotation.split(' ')]\n",
    "            \n",
    "            \n",
    "            for i, start_pixel in enumerate(annotation[::2]):\n",
    "                sub_mask[start_pixel: start_pixel+annotation[2*i+1]] = 1\n",
    "\n",
    "            sub_mask = sub_mask.reshape((h, w), order='F')\n",
    "            \n",
    "            # Stack sub_mask in mask container\n",
    "            masks.append(sub_mask)\n",
    "\n",
    "        return masks"
   ]
  },
  {
   "cell_type": "markdown",
   "metadata": {},
   "source": [
    "Base class from : https://www.kaggle.com/kaushal2896/imaterialist-fashion-2020-starter-eda. \n",
    "- Changed original `load_mask` method to `load_targets` to include bbox, area information as seen in https://pytorch.org/tutorials/intermediate/torchvision_tutorial.html\n",
    "- Added a `__len__` and `__getitem__` to use them in Pytorch because base class is used in a keras library."
   ]
  },
  {
   "cell_type": "code",
   "execution_count": 262,
   "metadata": {
    "ExecuteTime": {
     "end_time": "2020-04-06T20:14:11.000720Z",
     "start_time": "2020-04-06T20:14:10.981737Z"
    }
   },
   "outputs": [],
   "source": [
    "class FashionDataset(Dataset):\n",
    "    def __init__(self, df):\n",
    "        super().__init__(self)\n",
    "        \n",
    "        self.IMAGE_SIZE = 256\n",
    "        \n",
    "        # Add classes\n",
    "        for cat in label_desc['categories']:\n",
    "            self.add_class('fashion', cat.get('id'), cat.get('name'))\n",
    "        \n",
    "        # Add images\n",
    "        for i, row in df.iterrows():\n",
    "            self.add_image(\"fashion\", \n",
    "                           image_id=row.name, \n",
    "                           path=str(image_dir/row.ImageId) + '.jpg', \n",
    "                           labels=row['ClassId'],\n",
    "                           annotations=row['EncodedPixels'], \n",
    "                           height=row['Height'], width=row['Width'])\n",
    "            \n",
    "    def __len__(self):\n",
    "        return len(self.image_info)\n",
    "    \n",
    "    def __getitem__(self, idx):\n",
    "        \n",
    "        image_id = self.image_ids[idx]\n",
    "        img = self.load_image(image_id)\n",
    "        targets = self.load_targets(image_id)      \n",
    "        return img, targets\n",
    "            \n",
    "    def _resize_image(self, image_path):\n",
    "        print(image_path)\n",
    "        img = cv2.imread(image_path)\n",
    "        img = cv2.cvtColor(img, cv2.COLOR_BGR2RGB)\n",
    "        img = cv2.resize(img, (self.IMAGE_SIZE, self.IMAGE_SIZE), interpolation=cv2.INTER_AREA)  \n",
    "        return img\n",
    "        \n",
    "    def load_image(self, image_id):\n",
    "        \"\"\"Load the specified image and return a [H,W,3] Numpy array.\n",
    "        \"\"\"\n",
    "        return self._resize_image(self.image_info[image_id]['path'])\n",
    "    \n",
    "    def image_reference(self, image_id):\n",
    "        info = self.image_info[image_id]\n",
    "        return info['path'], [x for x in info['labels']]\n",
    "    \n",
    "    def load_targets(self, image_id):\n",
    "        '''Load targets needed for MaskRCNN\n",
    "        Returns:\n",
    "            mask: A bool array of shape [height, width, instance count] with\n",
    "                a binary mask per instance.\n",
    "            labels: a 1D array of class IDs of the instance masks.\n",
    "            boxes: bounding boxes of each class\n",
    "            image_id: \n",
    "            area:\n",
    "        '''\n",
    "        # Get image info: height, width, id, etc.\n",
    "        info = self.image_info[image_id]\n",
    "    \n",
    "        # rle decoder:\n",
    "        # Create a mask container of size Height x Width x Number of masks for this image\n",
    "        mask = np.zeros((self.IMAGE_SIZE, self.IMAGE_SIZE, len(info['annotations'])), dtype=np.uint8)\n",
    "        labels = []\n",
    "             \n",
    "        # Create and stack all masks\n",
    "        for m, (annotation, label) in enumerate(zip(info['annotations'], info['labels'])):\n",
    "            sub_mask = np.full(info['height']*info['width'], 0, dtype=np.uint8)\n",
    "            \n",
    "            # Get a list of encoded pixels\n",
    "            annotation = [int(x) for x in annotation.split(' ')]\n",
    "            \n",
    "            \n",
    "            for i, start_pixel in enumerate(annotation[::2]):\n",
    "                sub_mask[start_pixel: start_pixel+annotation[2*i+1]] = 1\n",
    "\n",
    "            sub_mask = sub_mask.reshape((info['height'], info['width']), order='F')\n",
    "            sub_mask = cv2.resize(sub_mask, (self.IMAGE_SIZE, self.IMAGE_SIZE), interpolation=cv2.INTER_NEAREST)\n",
    "            \n",
    "            # Stack sub_mask in mask container\n",
    "            mask[:, :, m] = sub_mask\n",
    "            \n",
    "            # Get the label of each sub_mask\n",
    "            labels.append(int(label)+1)\n",
    "            \n",
    "        # Get bounding box coordinates for each mask\n",
    "        num_objs = len(labels)\n",
    "        boxes = []\n",
    "        for i in range(num_objs):\n",
    "            pos = np.where(mask[:,:,i])\n",
    "            xmin = np.min(pos[1])\n",
    "            xmax = np.max(pos[1])\n",
    "            ymin = np.min(pos[0])\n",
    "            ymax = np.max(pos[0])\n",
    "            boxes.append([xmin, ymin, xmax, ymax])\n",
    "\n",
    "        # Convert everything into a torch.Tensor\n",
    "        boxes = torch.as_tensor(boxes, dtype=torch.float32)\n",
    "        labels = torch.as_tensor(labels, dtype=torch.uint8)\n",
    "        mask = torch.as_tensor(mask, dtype=torch.uint8)\n",
    "        image_id = torch.tensor([image_id])\n",
    "        \n",
    "        area = (boxes[:, 3] - boxes[:, 1]) * (boxes[:, 2] - boxes[:, 0])\n",
    "\n",
    "        target = {}\n",
    "        target[\"boxes\"] = boxes\n",
    "        target[\"labels\"] = labels\n",
    "        target[\"masks\"] = mask\n",
    "        target[\"image_id\"] = image_id\n",
    "        target[\"area\"] = area\n",
    "        \n",
    "        if self.transforms is not None:\n",
    "            img, target = self.transforms(img, target)\n",
    "\n",
    "        return target"
   ]
  },
  {
   "cell_type": "code",
   "execution_count": 263,
   "metadata": {
    "ExecuteTime": {
     "end_time": "2020-04-06T20:14:16.845097Z",
     "start_time": "2020-04-06T20:14:11.050553Z"
    }
   },
   "outputs": [],
   "source": [
    "# Create dataset\n",
    "dataset = FashionDataset(image_df)\n",
    "\n",
    "# Populate all the image info\n",
    "dataset.prepare()"
   ]
  },
  {
   "cell_type": "code",
   "execution_count": null,
   "metadata": {},
   "outputs": [],
   "source": [
    "dataset."
   ]
  },
  {
   "cell_type": "code",
   "execution_count": 398,
   "metadata": {
    "ExecuteTime": {
     "end_time": "2020-04-07T22:04:27.527019Z",
     "start_time": "2020-04-07T22:04:27.520040Z"
    }
   },
   "outputs": [
    {
     "data": {
      "text/plain": [
       "{'id': 0,\n",
       " 'source': 'fashion',\n",
       " 'path': 'train\\\\00000663ed1ff0c4e0132b9b9ac53f6e.jpg',\n",
       " 'labels': [6, 0, 28, 31, 32, 32, 31, 29, 4],\n",
       " 'annotations': ['6068157 7 6073371 20 6078584 34 6083797 48 6089010 62 6094223 72 6099436 76 6104649 80 6109862 85 6115075 89 6120288 93 6125501 98 6130714 102 6135927 106 6141140 111 6146354 114 6151567 118 6156780 123 6161993 127 6167206 131 6172419 136 6177632 140 6182845 144 6188058 149 6193271 153 6198484 157 6203697 162 6208910 166 6214124 169 6219337 174 6224550 178 6229763 182 6234976 187 6240189 191 6245402 195 6250615 200 6255828 204 6261041 208 6266254 213 6271467 218 6276680 224 6281893 229 6287107 233 6292320 238 6297533 244 6302746 249 6307959 254 6313172 259 6318385 265 6323598 270 6328811 275 6334024 280 6339237 286 6344450 291 6349663 296 6354877 300 6360090 306 6365303 311 6370516 316 6375729 322 6380942 327 6386155 332 6391368 337 6396581 343 6401794 348 6407007 353 6412220 358 6417433 364 6422647 368 6427860 373 6433073 378 6438286 384 6443499 389 6448712 394 6453925 399 6459138 405 6464351 410 6469564 415 6474777 420 6479990 426 6485203 431 6490416 436 6495630 441 6500843 446 6506056 451 6511269 456 6516482 462 6521695 467 6526908 472 6532121 477 6537334 483 6542547 488 6547760 493 6552973 498 6558186 504 6563398 510 6568610 516 6573822 522 6579034 529 6584246 535 6589458 541 6594670 548 6599882 554 6605094 572 6610306 602 6615518 621 6620730 628 6625942 635 6631154 643 6636366 650 6641578 657 6646790 665 6652003 671 6657215 679 6662427 686 6667639 693 6672851 701 6678063 708 6683275 715 6688487 723 6693699 730 6698911 737 6704123 745 6709335 752 6714547 760 6719759 767 6724971 774 6730183 782 6735395 789 6740607 796 6745819 804 6751031 811 6756243 818 6761455 826 6766667 833 6771879 841 6777091 848 6782303 855 6787515 863 6792727 870 6797939 877 6803151 885 6808363 892 6813576 898 6818788 906 6824000 913 6829212 920 6834424 926 6839636 932 6844848 938 6850060 944 6855272 950 6860484 956 6865696 962 6870908 968 6876120 975 6881331 982 6886542 989 6891754 995 6896965 1002 6902176 1009 6907388 1015 6912599 1022 6917810 1029 6923022 1035 6928233 1042 6933444 1049 6938656 1055 6943867 1062 6949078 1069 6954290 1076 6959501 1083 6964712 1090 6969924 1096 6975135 1103 6980346 1110 6985558 1117 6990769 1125 6995981 1133 7001192 1141 7006403 1150 7011615 1157 7016826 1166 7022037 1174 7027249 1182 7032460 1190 7037671 1199 7042883 1206 7048094 1215 7053305 1223 7058517 1231 7063728 1239 7068939 1245 7074151 1247 7079362 1250 7084573 1253 7089785 1255 7094996 1258 7100207 1261 7105419 1263 7110630 1266 7115841 1269 7121053 1271 7126264 1274 7131476 1276 7136687 1279 7141898 1282 7147110 1284 7152321 1287 7157532 1290 7162746 1290 7167961 1289 7173176 1288 7178392 1286 7183607 1285 7188823 1283 7194038 1282 7199254 1280 7204469 1279 7209684 1278 7214900 1276 7220115 1275 7225331 1273 7230546 1272 7235761 1271 7240975 1271 7246190 1270 7251404 1270 7256618 1270 7261833 1269 7267047 1269 7272261 1269 7277476 1268 7282690 1268 7287904 1268 7293119 1267 7298333 1267 7303547 1267 7308762 1266 7313976 1266 7319190 1266 7324404 1266 7329619 1265 7334833 1265 7340047 1265 7345262 1264 7350476 1264 7355690 1264 7360905 1263 7366119 1263 7371333 1263 7376548 1262 7381762 1262 7386976 1262 7392191 1261 7397405 1261 7402619 1261 7407833 1261 7413048 1260 7418262 1260 7423476 1260 7428691 1259 7433905 1259 7439119 1259 7444334 1258 7449548 1258 7454762 1258 7459977 1257 7465191 1257 7470405 1257 7475620 1256 7480834 1256 7486048 1256 7491262 1256 7496477 1255 7501691 1255 7506905 1255 7512120 1254 7517334 1254 7522548 1254 7527763 1253 7532977 1253 7538191 1253 7543406 1252 7548620 1252 7553834 1252 7559049 1251 7564263 1251 7569477 1251 7574691 1251 7579906 1250 7585120 1250 7590334 1250 7595549 1249 7600763 1249 7605977 1249 7611192 1248 7616406 1248 7621620 1248 7626835 1247 7632049 1247 7637263 1247 7642478 1246 7647692 1246 7652906 1246 7658120 1246 7663335 1245 7668549 1245 7673763 1245 7678978 1244 7684192 1244 7689406 1244 7694621 1243 7699835 1243 7705049 1243 7710264 1242 7715478 1242 7720692 1242 7725907 1241 7731121 1241 7736335 1241 7741549 1241 7746764 1240 7751978 1240 7757192 1240 7762407 1239 7767621 1239 7772835 1239 7778050 1238 7783264 1238 7788478 1238 7793693 1237 7798907 1237 7804121 1237 7809336 1236 7814550 1236 7819764 1236 7824978 1236 7830193 1235 7835407 1235 7840621 1235 7845835 1235 7851049 1235 7856263 1235 7861477 1235 7866691 1235 7871905 1235 7877118 1236 7882332 1236 7887546 1236 7892760 1236 7897974 1236 7903188 1236 7908402 1236 7913616 1236 7918830 1236 7924044 1236 7929258 1236 7934472 1236 7939686 1236 7944900 1236 7950114 1236 7955328 1236 7960542 1236 7965755 1237 7970969 1237 7976183 1237 7981397 1237 7986611 1237 7991825 1237 7997039 1237 8002253 1237 8007467 1237 8012681 1237 8017895 1237 8023109 1237 8028323 1237 8033537 1237 8038751 1237 8043965 1237 8049178 1238 8054392 1238 8059606 1238 8064820 1238 8070034 1238 8075248 1238 8080462 1238 8085676 1238 8090890 1238 8096104 1238 8101318 1238 8106532 1238 8111746 1238 8116960 1238 8122174 1238 8127388 1238 8132602 1238 8137815 1239 8143029 1239 8148243 1239 8153457 1239 8158671 1239 8163885 1239 8169099 1239 8174313 1239 8179527 1239 8184741 1239 8189955 1239 8195169 1239 8200383 1239 8205597 1239 8210811 1239 8216025 1239 8221239 1239 8226452 1240 8231666 1240 8236880 1240 8242094 1240 8247308 1240 8252522 1240 8257736 1240 8262950 1240 8268173 1231 8273405 1213 8278636 1196 8283868 1178 8289100 1160 8294332 1142 8299563 1125 8304795 1107 8310027 1089 8315259 1071 8320490 1054 8325722 1036 8330950 1022 8336173 1013 8341396 1004 8346620 994 8351843 985 8357066 976 8362290 966 8367513 957 8372736 948 8377960 938 8383183 929 8388406 920 8393630 910 8398853 901 8404076 892 8409300 882 8414523 873 8419746 864 8424970 854 8430193 845 8435416 836 8440640 826 8445863 817 8451086 808 8456308 800 8461528 794 8466747 789 8471967 783 8477187 777 8482407 771 8487626 766 8492846 760 8498066 754 8503286 748 8508506 742 8513725 737 8518945 731 8524165 725 8529385 719 8534604 714 8539824 708 8545044 702 8550264 696 8555484 690 8560703 685 8565923 679 8571143 673 8576363 667 8581582 662 8586802 656 8592022 650 8597242 644 8602461 639 8607681 633 8612901 627 8618121 621 8623341 615 8628560 610 8633780 604 8639000 598 8644220 592 8649439 587 8654659 581 8659879 575 8665098 570 8670315 567 8675532 564 8680749 561 8685966 558 8691184 554 8696401 551 8701618 548 8706835 545 8712052 542 8717270 538 8722487 535 8727704 532 8732921 529 8738138 526 8743356 522 8748573 519 8753790 516 8759007 513 8764224 510 8769442 506 8774659 503 8779876 500 8785093 497 8790310 494 8795528 490 8800745 487 8805962 484 8811179 481 8816396 478 8821614 474 8826831 471 8832048 468 8837265 465 8842482 462 8847700 458 8852917 455 8858134 452 8863351 449 8868568 446 8873783 445 8878998 444 8884213 443 8889428 442 8894644 440 8899859 439 8905074 438 8910289 437 8915505 435 8920720 434 8925935 433 8931150 432 8936366 430 8941581 429 8946796 428 8952011 427 8957227 425 8962442 424 8967657 423 8972872 422 8978088 420 8983303 419 8988518 418 8993733 417 8998949 415 9004164 414 9009379 413 9014594 412 9019810 410 9025025 409 9030240 408 9035455 407 9040671 405 9045886 404 9051101 403 9056316 402 9061531 401 9066747 399 9071962 398 9077177 397 9082392 396 9087608 394 9092823 393 9098038 392 9103253 391 9108469 389 9113684 388 9118899 387 9124114 386 9129330 384 9134545 383 9139760 382 9144975 381 9150191 379 9155406 378 9160621 377 9165836 376 9171052 374 9176267 373 9181482 372 9186697 371 9191913 369 9197128 368 9202343 367 9207558 366 9212773 365 9217988 364 9223202 364 9228416 364 9233631 363 9238845 363 9244059 363 9249274 362 9254488 362 9259702 362 9264917 361 9270131 361 9275346 360 9280560 360 9285774 360 9290989 359 9296203 359 9301417 359 9306632 358 9311846 358 9317061 357 9322275 357 9327489 357 9332704 356 9337918 356 9343132 356 9348347 355 9353561 355 9358775 355 9363990 354 9369204 354 9374419 353 9379633 353 9384847 353 9390062 352 9395276 352 9400490 352 9405705 351 9410919 351 9416134 350 9421348 350 9426562 350 9431777 349 9436991 349 9442205 349 9447420 348 9452634 348 9457849 347 9463063 347 9468277 347 9473492 346 9478706 346 9483920 346 9489135 345 9494349 345 9499563 345 9504778 344 9509992 344 9515207 343 9520421 343 9525635 343 9530850 342 9536064 342 9541278 342 9546493 341 9551707 341 9556921 341 9562135 341 9567349 341 9572563 341 9577777 341 9582990 342 9588204 342 9593418 342 9598632 342 9603846 342 9609060 342 9614274 342 9619488 342 9624702 342 9629916 342 9635130 342 9640344 342 9645558 342 9650771 343 9655985 343 9661199 343 9666413 343 9671627 343 9676841 343 9682055 343 9687269 343 9692483 343 9697697 343 9702911 343 9708125 343 9713339 343 9718552 344 9723766 344 9728980 344 9734194 344 9739408 344 9744622 344 9749836 344 9755050 344 9760264 344 9765478 344 9770692 344 9775906 344 9781119 345 9786333 345 9791547 345 9796761 345 9801975 345 9807189 345 9812403 345 9817617 345 9822831 345 9828045 345 9833259 345 9838473 345 9843687 345 9848900 346 9854114 346 9859328 346 9864542 346 9869756 346 9874970 346 9880184 346 9885398 346 9890612 346 9895826 346 9901040 346 9906254 346 9911468 346 9916681 347 9921895 347 9927109 347 9932323 347 9937537 347 9942751 347 9947965 347 9953179 347 9958393 347 9963607 347 9968821 347 9974035 347 9979249 347 9984462 348 9989676 348 9994890 348 10000104 348 10005318 348 10010532 348 10015746 348 10020960 348 10026174 348 10031388 348 10036602 348 10041816 348 10047029 349 10052243 349 10057457 349 10062671 349 10067885 349 10073099 349 10078313 349 10083527 349 10088741 349 10093955 349 10099169 349 10104383 349 10109597 349 10114810 350 10120024 350 10125238 350 10130452 350 10135666 350 10140880 350 10146094 350 10151308 350 10156522 350 10161736 350 10166950 350 10172164 350 10177378 350 10182591 351 10187805 351 10193019 351 10198233 351 10203447 351 10208661 351 10213875 351 10219089 351 10224303 351 10229517 351 10234731 351 10239945 351 10245159 351 10250372 352 10255586 352 10260800 352 10266014 352 10271228 352 10276442 352 10281656 352 10286870 352 10292084 352 10297298 352 10302512 352 10307726 352 10312940 352 10318153 353 10323367 353 10328581 353 10333795 353 10339009 353 10344223 353 10349437 353 10354651 353 10359865 353 10365079 353 10370293 353 10375507 353 10380721 353 10385935 353 10391149 353 10396362 354 10401576 354 10406790 354 10412004 354 10417218 354 10422432 354 10427646 354 10432860 354 10438074 354 10443288 354 10448502 354 10453716 354 10458930 354 10464144 354 10469358 354 10474571 355 10479785 355 10484999 355 10490213 355 10495427 355 10500641 355 10505855 355 10511069 355 10516283 355 10521497 355 10526711 355 10531925 355 10537139 355 10542353 355 10547566 356 10552780 356 10557994 356 10563208 356 10568422 356 10573636 356 10578850 356 10584064 356 10589278 356 10594492 356 10599706 356 10604920 356 10610134 356 10615348 356 10620562 356 10625775 357 10630989 357 10636203 357 10641417 357 10646631 357 10651845 357 10657059 357 10662273 357 10667487 357 10672701 357 10677915 357 10683129 357 10688343 357 10693557 357 10698771 357 10703984 358 10709198 358 10714412 358 10719626 358 10724840 358 10730054 358 10735268 358 10740482 358 10745696 358 10750910 358 10756124 358 10761338 358 10766552 358 10771766 358 10776980 358 10782193 359 10787407 359 10792621 359 10797835 359 10803049 359 10808263 359 10813477 359 10818691 359 10823905 359 10829119 359 10834333 359 10839547 359 10844761 359 10849975 359 10855188 360 10860402 360 10865616 360 10870830 360 10876044 360 10881258 360 10886472 360 10891686 360 10896900 360 10902114 360 10907328 360 10912542 360 10917756 360 10922970 360 10928184 360 10933397 361 10938611 361 10943825 361 10949039 361 10954253 361 10959467 361 10964681 361 10969895 361 10975109 361 10980323 361 10985537 361 10990751 361 10995965 361 11001179 361 11006393 361 11011606 362 11016820 362 11022034 362 11027248 362 11032462 362 11037676 362 11042890 362 11048104 362 11053318 362 11058532 362 11063746 362 11068960 362 11074174 362 11079388 362 11084602 362 11089815 363 11095029 363 11100243 363 11105457 363 11110671 363 11115885 363 11121099 363 11126313 363 11131527 363 11136741 363 11141955 363 11147169 363 11152383 363 11157596 364 11162810 364 11168024 364 11173238 364 11178452 364 11183666 364 11188880 364 11194094 364 11199308 364 11204522 364 11209736 364 11214950 364 11220163 365 11225377 365 11230591 365 11235805 365 11241019 365 11246233 365 11251447 365 11256661 365 11261875 365 11267089 365 11272303 365 11277517 365 11282730 366 11287944 366 11293158 366 11298372 366 11303586 366 11308800 366 11314014 366 11319228 366 11324442 366 11329656 366 11334870 366 11340084 366 11345297 367 11350511 367 11355725 367 11360939 367 11366153 367 11371367 367 11376581 367 11381795 367 11387009 367 11392223 367 11397437 367 11402651 367 11407864 368 11413078 368 11418292 368 11423506 368 11428720 368 11433934 368 11439148 368 11444362 368 11449576 368 11454790 368 11460004 368 11465218 368 11470431 369 11475645 369 11480859 369 11486073 369 11491287 369 11496501 369 11501715 369 11506929 369 11512143 369 11517357 369 11522571 369 11527785 369 11532998 370 11538212 370 11543426 370 11548640 370 11553854 370 11559068 370 11564282 370 11569496 370 11574710 370 11579924 370 11585138 370 11590352 370 11595565 371 11600779 371 11605993 371 11611207 371 11616421 371 11621635 371 11626849 371 11632063 371 11637277 371 11642491 371 11647705 371 11652919 371 11658132 372 11663346 372 11668560 372 11673774 372 11678988 372 11684202 372 11689416 372 11694630 372 11699844 372 11705058 372 11710272 372 11715486 372 11720699 373 11725913 373 11731127 373 11736341 373 11741555 373 11746769 373 11751983 373 11757197 373 11762411 373 11767625 373 11772839 373 11778053 373 11783266 374 11788480 374 11793694 374 11798908 374 11804122 374 11809336 374 11814550 374 11819764 374 11824978 374 11830192 374 11835406 374 11840620 374 11845833 375 11851047 375 11856261 375 11861475 375 11866689 375 11871903 375 11877117 375 11882331 375 11887545 375 11892759 375 11897973 375 11903187 375 11908400 376 11913614 376 11918828 376 11924042 376 11929256 376 11934470 376 11939684 376 11944898 376 11950112 376 11955326 376 11960540 376 11965754 376 11970967 377 11976181 377 11981395 377 11986609 377 11991823 377 11997037 377 12002251 377 12007465 377 12012679 377 12017893 377 12023107 377 12028321 377 12033534 378 12038748 378 12043962 378 12049176 378 12054390 378 12059604 378 12064818 378 12070032 378 12075246 378 12080460 378 12085674 378 12090888 378 12096101 379 12101315 379 12106529 379 12111743 379 12116957 379 12122171 379 12127385 379 12132599 379 12137813 379 12143027 379 12148241 379 12153455 379 12158668 380 12163882 380 12169096 380 12174310 380 12179524 380 12184738 380 12189952 380 12195166 380 12200380 380 12205594 380 12210808 380 12216022 380 12221235 381 12226449 381 12231663 381 12236877 381 12242091 381 12247305 381 12252519 381 12257733 381 12262947 381 12268161 381 12273375 381 12278589 381 12283802 382 12289016 382 12294230 382 12299444 382 12304658 382 12309872 382 12315086 382 12320300 382 12325514 382 12330728 382 12335942 382 12341156 382 12346369 383 12351583 383 12356797 383 12362011 383 12367225 383 12372439 383 12377654 382 12382870 380 12388086 378 12393301 377 12398517 375 12403733 373 12408949 371 12414165 369 12419381 367 12424597 365 12429813 363 12435028 362 12440244 360 12445460 358 12450676 356 12455892 354 12461107 353 12466322 352 12471536 352 12476750 352 12481965 351 12487179 351 12492394 350 12497608 350 12502822 350 12508037 349 12513251 349 12518466 348 12523680 348 12528894 348 12534109 347 12539323 347 12544537 347 12549752 346 12554966 346 12560181 345 12565395 345 12570609 345 12575824 344 12581038 344 12586253 343 12591467 343 12596681 343 12601896 342 12607110 342 12612325 341 12617539 341 12622753 341 12627968 340 12633182 340 12638397 339 12643611 339 12648825 339 12654040 338 12659254 338 12664469 337 12669683 337 12674897 337 12680112 336 12685326 336 12690541 335 12695755 335 12700969 335 12706184 334 12711398 334 12716612 334 12721826 334 12727040 334 12732254 334 12737468 334 12742682 334 12747896 334 12753110 334 12758324 334 12763538 334 12768751 335 12773965 335 12779179 335 12784393 335 12789607 335 12794821 335 12800035 335 12805249 335 12810463 335 12815677 335 12820891 335 12826105 335 12831319 335 12836533 335 12841747 335 12846961 335 12852175 335 12857389 335 12862603 335 12867817 335 12873031 335 12878245 335 12883458 336 12888672 336 12893886 336 12899100 336 12904314 336 12909528 336 12914742 336 12919956 336 12925170 336 12930384 336 12935598 336 12940812 336 12946028 334 12951243 333 12956458 332 12961673 331 12966888 330 12972104 328 12977319 327 12982534 326 12987749 325 12992964 324 12998180 322 13003395 321 13008610 320 13013825 319 13019040 318 13024255 317 13029471 315 13034686 314 13039901 313 13045116 312 13050331 311 13055547 309 13060762 308 13065977 307 13071192 306 13076407 305 13081622 304 13086836 304 13092050 304 13097264 304 13102478 304 13107692 304 13112906 304 13118120 304 13123334 304 13128548 304 13133762 304 13138976 304 13144190 304 13149404 304 13154618 304 13159832 304 13165046 304 13170260 304 13175474 304 13180688 304 13185902 304 13191116 304 13196330 304 13201544 304 13206758 304 13211972 304 13217186 304 13222400 304 13227614 304 13232828 304 13238042 304 13243256 304 13248471 303 13253685 303 13258899 303 13264113 303 13269327 303 13274541 303 13279755 303 13284969 303 13290183 303 13295397 303 13300611 303 13305825 303 13311039 303 13316253 303 13321467 303 13326681 303 13331895 303 13337109 303 13342323 303 13347537 303 13352751 303 13357965 303 13363179 303 13368393 303 13373607 303 13378821 303 13384035 303 13389249 303 13394463 303 13399677 303 13404891 303 13410105 303 13415318 304 13420531 305 13425744 306 13430957 307 13436169 309 13441382 310 13446595 311 13451808 312 13457021 313 13462233 315 13467446 316 13472659 317 13477872 318 13483085 319 13488297 321 13493510 322 13498723 323 13503936 324 13509148 326 13514361 327 13519574 328 13524787 329 13530000 330 13535212 332 13540425 333 13545638 334 13550851 335 13556064 336 13561277 337 13566491 337 13571706 336 13576920 336 13582134 336 13587349 335 13592563 335 13597777 335 13602992 334 13608206 334 13613420 334 13618634 334 13623849 333 13629063 333 13634277 333 13639492 332 13644706 332 13649920 332 13655134 332 13660349 331 13665563 331 13670777 331 13675992 330 13681206 330 13686420 330 13691635 329 13696849 329 13702063 329 13707277 329 13712492 328 13717706 328 13722920 328 13728135 327 13733349 327 13738563 327 13743778 326 13748992 326 13754206 326 13759420 326 13764635 325 13769849 325 13775063 325 13780278 324 13785492 324 13790706 324 13795921 323 13801135 323 13806349 323 13811563 323 13816776 324 13821990 324 13827204 324 13832418 324 13837631 325 13842845 325 13848059 325 13853272 326 13858486 326 13863700 326 13868914 326 13874127 327 13879341 327 13884555 327 13889769 327 13894982 328 13900196 328 13905410 328 13910624 328 13915837 329 13921051 329 13926265 329 13931478 330 13936692 330 13941906 330 13947120 330 13952333 331 13957547 331 13962761 331 13967975 331 13973188 332 13978402 332 13983616 332 13988830 332 13994043 333 13999257 333 14004471 333 14009684 334 14014898 334 14020112 334 14025326 334 14030539 335 14035753 335 14040967 335 14046181 335 14051394 336 14056608 336 14061820 338 14067030 342 14072239 347 14077449 351 14082659 355 14087869 359 14093079 363 14098288 368 14103498 372 14108708 376 14113920 378 14119135 377 14124349 377 14129563 377 14134778 376 14139992 376 14145207 375 14150421 375 14155636 374 14160850 374 14166065 373 14171279 373 14176493 373 14181708 372 14186922 372 14192137 371 14197351 371 14202566 370 14207780 370 14212994 370 14218209 369 14223423 369 14228638 368 14233852 368 14239067 367 14244281 367 14249495 367 14254710 366 14259924 366 14265139 365 14270353 365 14275568 364 14280782 364 14285997 363 14291211 363 14296425 363 14301640 362 14306854 362 14312069 361 14317283 361 14322498 360 14327712 360 14332926 360 14338141 359 14343355 359 14348570 358 14353784 358 14358997 359 14364210 360 14369424 360 14374637 361 14379850 362 14385064 362 14390277 363 14395490 364 14400704 364 14405917 365 14411131 365 14416344 366 14421557 367 14426771 367 14431984 368 14437197 369 14442411 369 14447624 370 14452837 371 14458051 371 14463264 372 14468477 373 14473691 373 14478904 374 14484118 374 14489331 375 14494544 376 14499758 376 14504971 377 14510184 378 14515398 378 14520611 379 14525824 380 14531038 380 14536251 381 14541464 382 14546678 382 14551891 383 14557105 383 14562318 384 14567531 385 14572742 388 14577949 395 14583156 402 14588364 408 14593571 415 14598779 421 14603986 428 14609194 434 14614401 441 14619608 448 14624816 454 14630023 461 14635231 467 14640438 474 14645649 477 14650862 478 14656075 479 14661289 479 14666502 468 14671716 445 14676929 423 14682142 401 14687356 378 14692569 356 14697782 334 14702996 311 14708209 289 14713423 266 14718636 244 14723849 227 14729063 212 14734276 199 14739489 186 14744703 171 14749916 158 14755130 144 14760343 130 14765556 117 14770770 103 14775983 89 14781196 76 14786410 61 14791623 48 14796837 34 14802050 20 14807263 7',\n",
       "  '6323163 11 6328356 32 6333549 53 6338742 75 6343935 96 6349128 117 6354321 138 6359514 159 6364715 172 6369923 179 6375131 185 6380339 191 6385547 197 6390755 203 6395963 210 6401171 216 6406379 222 6411587 228 6416795 234 6422003 240 6427211 247 6432420 252 6437628 258 6442836 264 6448044 270 6453252 276 6458460 283 6463668 289 6468876 295 6474084 301 6479292 307 6484500 313 6489708 320 6494916 326 6500124 332 6505332 338 6510540 344 6515748 351 6520956 357 6526164 363 6531372 369 6536580 375 6541789 380 6546997 387 6552205 393 6557413 399 6562621 405 6567829 411 6573037 417 6578245 424 6583454 429 6588663 434 6593873 438 6599082 443 6604292 448 6609502 452 6614711 457 6619921 461 6625130 466 6630340 470 6635550 475 6640759 480 6645969 484 6651178 489 6656388 493 6661598 497 6666807 503 6672017 507 6677226 512 6682436 516 6687646 520 6692855 525 6698065 530 6703274 535 6708484 539 6713694 543 6718903 548 6724113 553 6729322 558 6734532 562 6739742 566 6744951 572 6750161 577 6755370 583 6760580 588 6765790 593 6770999 600 6776209 605 6781418 611 6786628 616 6791838 621 6797047 627 6802255 634 6807463 641 6812670 649 6817877 657 6823084 665 6828291 673 6833499 680 6838706 688 6843913 696 6849120 704 6854327 712 6859534 720 6864742 727 6869949 735 6875156 743 6880363 751 6885570 759 6890777 767 6895985 774 6901192 782 6906399 790 6911606 798 6916813 806 6922021 813 6927228 821 6932435 829 6937642 837 6942849 845 6948056 853 6953264 860 6958471 868 6963678 876 6968885 884 6974092 892 6979301 898 6984512 902 6989723 906 6994933 911 7000144 915 7005355 919 7010566 923 7015776 928 7020987 932 7026198 936 7031409 940 7036619 945 7041830 949 7047041 953 7052252 957 7057462 962 7062673 966 7067884 971 7073095 976 7078305 982 7083516 987 7088727 993 7093937 999 7099148 1004 7104359 1009 7109570 1014 7114780 1020 7119991 1026 7125202 1031 7130413 1036 7135623 1042 7140834 1047 7146045 1052 7151256 1058 7156466 1064 7161677 1069 7166888 1073 7172099 1077 7177309 1083 7182520 1087 7187731 1092 7192941 1097 7198152 1102 7203363 1106 7208574 1110 7213784 1116 7218995 1120 7224206 1125 7229417 1129 7234627 1134 7239838 1137 7245049 1141 7250260 1144 7255470 1148 7260681 1152 7265892 1155 7271102 1159 7276313 1163 7281524 1166 7286735 1169 7291945 1174 7297156 1177 7302367 1180 7307578 1184 7312788 1188 7317999 1191 7323210 1195 7328421 1198 7333631 1202 7338842 1206 7344053 1209 7349264 1212 7354474 1217 7359685 1220 7364896 1223 7370107 1226 7375317 1231 7380528 1234 7385739 1237 7390950 1241 7396160 1245 7401371 1248 7406582 1252 7411793 1255 7417004 1258 7422214 1263 7427425 1266 7432636 1269 7437847 1273 7443057 1277 7448268 1280 7453479 1284 7458690 1287 7463900 1291 7469111 1295 7474322 1298 7479533 1301 7484744 1305 7489954 1309 7495165 1312 7500376 1316 7505587 1319 7510797 1323 7516008 1327 7521219 1330 7526430 1333 7531641 1336 7536851 1341 7542062 1344 7547273 1347 7552484 1351 7557694 1355 7562905 1358 7568116 1362 7573327 1365 7578537 1369 7583748 1373 7588959 1376 7594170 1379 7599381 1383 7604591 1387 7609802 1390 7615013 1394 7620224 1397 7625434 1401 7630645 1405 7635856 1408 7641067 1411 7646278 1415 7651488 1419 7656698 1423 7661908 1428 7667118 1432 7672329 1435 7677539 1439 7682749 1444 7687959 1448 7693169 1452 7698379 1457 7703590 1460 7708800 1464 7714010 1469 7719220 1473 7724430 1477 7729640 1482 7734850 1486 7740061 1489 7745271 1494 7750481 1498 7755691 1502 7760901 1507 7766111 1511 7771322 1514 7776532 1519 7781742 1523 7786952 1527 7792162 1532 7797372 1536 7802582 1540 7807793 1544 7813003 1548 7818213 1552 7823423 1556 7828633 1561 7833843 1565 7839054 1568 7844264 1572 7849474 1576 7854684 1580 7859894 1584 7865104 1587 7870315 1590 7875525 1594 7880735 1598 7885946 1601 7891157 1604 7896368 1607 7901579 1610 7906791 1612 7912002 1615 7917213 1618 7922424 1621 7927636 1622 7932847 1625 7938058 1628 7943270 1630 7948481 1633 7953692 1636 7958903 1639 7964115 1641 7969326 1644 7974537 1647 7979748 1650 7984960 1652 7990171 1654 7995382 1657 8000594 1659 8005805 1662 8011016 1665 8016227 1668 8021439 1670 8026650 1673 8031861 1676 8037072 1679 8042284 1681 8047495 1683 8052706 1686 8057918 1688 8063129 1691 8068340 1694 8073551 1697 8078763 1699 8083974 1702 8089185 1705 8094396 1708 8099608 1710 8104819 1713 8110030 1715 8115241 1718 8120453 1720 8125664 1723 8130875 1726 8136087 1728 8141298 1731 8146509 1734 8151720 1737 8156932 1739 8162143 1742 8167354 1745 8172565 1747 8177777 1749 8182988 1752 8188199 1755 8193411 1757 8198622 1760 8203833 1763 8209044 1766 8214256 1768 8219467 1771 8224678 1774 8229889 1777 8235101 1778 8240312 1781 8245523 1784 8250735 1786 8255946 1789 8261157 1792 8266368 1673 8271580 1540 8276791 1515 8282002 1489 8287213 1464 8292425 1438 8297636 1413 8302847 1387 8308059 1361 8313270 1336 8318481 1311 8323692 1285 8328904 1259 8334115 1245 8339326 1243 8344537 1240 8349749 1237 8354960 1234 8360171 1232 8365383 1228 8370594 1226 8375805 1223 8381016 1221 8386228 1217 8391439 1215 8396650 1212 8401861 1210 8407073 1206 8412284 1204 8417495 1201 8422707 1198 8427918 1195 8433130 1192 8438342 1188 8443553 1186 8448765 1182 8453977 1179 8459189 1175 8464400 1173 8469612 1169 8474824 1166 8480035 1163 8485247 1160 8490459 1156 8495670 1154 8500882 1150 8506094 1147 8511305 1144 8516517 1141 8521389 10 8521729 1137 8526585 30 8526940 1135 8531789 42 8532152 1131 8537002 46 8537364 1128 8542215 49 8542575 1127 8547428 52 8547787 1126 8552641 55 8552999 1125 8557854 58 8558210 1125 8563067 61 8563422 1124 8568279 66 8568634 1124 8573492 69 8573845 1124 8578705 72 8579057 1123 8583918 75 8584269 1122 8589131 78 8589481 1122 8594344 82 8594692 1122 8599557 85 8599904 1121 8604769 89 8605116 1120 8609982 92 8610327 1120 8615195 95 8615539 1120 8620408 98 8620751 1119 8625621 102 8625962 1119 8630834 105 8631174 1118 8636047 108 8636386 1118 8641259 112 8641597 1118 8646472 115 8646809 1117 8651685 118 8652021 1116 8656898 122 8657232 1116 8662111 125 8662444 1116 8667324 128 8667656 1115 8672537 131 8672867 1115 8677750 134 8678079 1114 8682962 139 8683291 1114 8688175 142 8688502 1114 8693388 145 8693714 1113 8698601 148 8698926 1112 8703814 151 8704138 1112 8709027 154 8709349 1112 8714240 158 8714561 1111 8719452 162 8719773 1110 8724665 165 8724984 1110 8729878 168 8730196 1110 8735091 171 8735408 1109 8740304 175 8740619 1109 8745517 178 8745831 1108 8750730 181 8751043 1108 8755942 185 8756254 1108 8761155 188 8761466 1107 8766368 191 8766678 1106 8771581 195 8771889 1106 8776794 198 8777101 1106 8782007 201 8782313 1105 8787220 205 8787524 1105 8792433 208 8792736 1104 8797645 213 8797948 1104 8802858 216 8803159 1104 8808071 220 8808371 1103 8813284 223 8813583 1102 8818497 227 8818795 1102 8823710 231 8824006 1102 8828923 234 8829218 1101 8834135 239 8834430 1100 8839348 242 8839641 1100 8844561 246 8844853 1100 8849774 249 8850065 1099 8854987 253 8855276 1099 8860200 256 8860488 1098 8865413 260 8865700 1098 8870625 264 8870911 1098 8875838 268 8876123 1097 8881051 272 8881335 1096 8886264 275 8886546 1096 8891477 279 8891758 1096 8896690 1375 8901903 1373 8907116 1371 8912328 1371 8917541 1369 8922754 1367 8927967 1365 8933180 1363 8938393 1362 8943606 1360 8948818 1359 8954031 1357 8959244 1356 8964457 1354 8969670 1352 8974883 1350 8980096 1349 8985308 1348 8990521 1346 8995734 1344 9000947 1342 9006160 1341 9011373 1339 9016586 1337 9021799 1335 9027012 1334 9032225 1332 9037438 1330 9042651 1328 9047864 1326 9053077 1325 9058290 1323 9063503 1321 9068716 1319 9073929 1318 9079142 1316 9084355 1314 9089568 1312 9094781 1310 9099994 1309 9105207 1307 9110420 1305 9115633 1303 9120846 1302 9126059 1300 9131272 1298 9136485 1296 9141698 1295 9146911 1293 9152124 1291 9157337 1289 9162550 1287 9167763 1286 9172976 1284 9178189 1282 9183402 1280 9188615 1279 9193828 1277 9199041 1275 9204254 1273 9209467 1271 9214680 1270 9219893 1268 9225106 1266 9230319 1264 9235532 1263 9240745 1261 9245958 1259 9251171 1257 9256384 1256 9261597 1254 9266810 1252 9272023 1251 9277236 1249 9282449 1247 9287662 1246 9292875 1244 9298088 1242 9303301 1241 9308514 1239 9313727 1237 9318940 1236 9324153 1234 9329366 1233 9334579 1231 9339796 1225 9345017 1216 9350238 1206 9355459 1196 9360680 1187 9365901 1177 9371122 1167 9376343 1158 9381564 1148 9386785 1138 9392006 113 9392155 980 9397226 38 9397371 975 9402587 971 9407804 965 9413020 960 9418236 956 9423452 951 9428668 946 9433884 942 9439101 936 9444317 931 9449533 927 9454749 922 9459965 917 9465182 912 9470398 907 9475614 902 9480830 898 9486046 893 9491263 888 9496479 883 9501695 878 9506911 874 9512127 869 9517343 864 9522560 859 9527776 854 9532992 849 9538210 843 9543427 837 9548644 831 9553861 826 9559078 820 9564295 815 9569512 809 9574729 803 9579946 798 9585164 791 9590381 785 9595598 780 9600815 774 9606032 768 9611249 763 9616466 757 9621683 751 9626899 747 9632115 742 9637330 738 9642545 735 9647760 731 9652975 728 9658190 724 9663405 720 9668621 716 9673836 712 9679051 708 9684266 705 9689481 701 9694696 697 9699911 694 9705126 690 9710342 685 9715557 682 9720772 678 9725987 675 9731202 671 9736417 667 9741632 664 9746846 661 9752058 660 9757270 660 9762482 659 9767694 658 9772906 658 9778118 657 9783330 656 9788542 656 9793754 655 9798967 654 9804179 653 9809391 652 9814603 652 9819815 651 9825027 650 9830239 650 9835451 649 9840663 648 9845875 648 9851087 647 9856299 646 9861511 646 9866723 645 9871935 644 9877147 644 9882359 643 9887572 642 9892784 641 9897996 640 9903208 640 9908420 639 9913632 638 9918844 638 9924056 637 9929268 636 9934480 636 9939692 635 9944904 634 9950116 634 9955328 633 9960540 633 9965752 632 9970965 630 9976177 630 9981389 629 9986601 629 9991813 629 9997025 628 10002237 628 10007449 627 10012662 626 10017875 625 10023088 623 10028300 623 10033513 621 10038726 620 10043939 619 10049151 618 10054364 617 10059577 615 10064790 614 10070003 613 10075215 612 10080428 611 10085641 609 10090854 608 10096066 608 10101279 606 10106492 605 10111705 603 10116917 603 10122130 602 10127343 600 10132556 599 10137769 597 10142981 597 10148194 596 10153407 594 10158620 593 10163832 593 10169045 591 10174258 590 10179471 588 10184683 588 10189896 587 10195109 585 10200322 584 10205535 582 10210747 582 10215960 581 10221173 579 10226387 577 10231600 575 10236813 574 10242026 573 10247239 571 10252452 570 10257665 568 10262878 567 10268091 566 10273304 564 10278517 563 10283730 561 10288943 560 10294156 559 10299369 557 10304582 556 10309795 554 10315008 553 10320221 552 10325434 550 10330647 549 10335860 547 10341073 546 10346286 545 10351499 543 10356712 542 10361925 541 10367138 539 10372351 538 10377564 536 10382777 535 10387990 534 10393203 532 10398417 530 10403630 528 10408843 527 10414056 526 10419269 524 10424482 523 10429695 521 10434908 520 10440121 519 10445334 517 10450547 516 10455760 514 10460973 513 10466186 512 10471399 510 10476612 509 10481825 507 10487038 506 10492251 505 10497464 503 10502677 502 10507890 500 10513103 499 10518316 498 10523529 496 10528742 495 10533955 494 10539168 492 10544381 491 10549594 489 10554806 489 10560018 489 10565230 488 10570442 488 10575654 487 10580866 487 10586078 487 10591291 485 10596503 485 10601715 484 10606927 484 10612139 484 10617351 483 10622564 482 10627777 480 10632990 479 10638204 477 10643417 475 10648630 474 10653843 472 10659057 470 10664270 469 10669483 467 10674697 465 10679910 463 10685123 462 10690337 460 10695550 458 10700763 457 10705977 454 10711190 453 10716403 452 10721616 451 10726830 450 10732043 449 10737256 448 10742470 446 10747683 445 10752896 445 10758110 443 10763323 442 10768536 441 10773750 440 10778963 439 10784176 438 10789389 437 10794603 436 10799816 435 10805029 434 10810243 432 10815456 432 10820669 431 10825883 429 10831096 428 10836309 428 10841523 426 10846736 425 10851949 424 10857162 424 10862375 423 10867589 421 10872802 420 10878015 420 10883228 419 10888441 418 10893654 417 10898868 416 10904081 415 10909294 414 10914507 413 10919720 412 10924934 411 10930147 410 10935360 409 10940573 408 10945786 408 10951000 406 10956213 405 10961426 404 10966639 404 10971852 403 10977066 401 10982279 400 10987492 400 10992705 399 10997918 398 11003132 396 11008345 396 11013558 395 11018771 394 11023984 393 11029198 392 11034411 391 11039624 390 11044837 389 11050050 389 11055264 387 11060477 386 11065690 385 11070903 385 11076116 384 11081330 382 11086543 381 11091756 380 11096969 380 11102182 379 11107396 377 11112609 376 11117822 376 11123035 375 11128248 374 11133462 372 11138675 372 11143888 371 11149101 370 11154314 369 11159528 368 11164741 367 11169954 366 11175167 365 11180380 365 11185594 363 11190807 362 11196020 361 11201233 361 11206446 360 11211660 358 11216873 357 11222086 357 11227299 356 11232512 355 11237726 353 11242939 353 11248152 352 11253365 351 11258578 350 11263792 348 11269005 348 11274218 347 11279431 346 11284644 345 11289858 344 11295071 343 11300284 342 11305497 341 11310710 341 11315924 339 11321137 338 11326350 337 11331563 337 11336776 336 11341989 335 11347203 333 11352416 333 11357629 332 11362842 331 11368055 330 11373269 329 11378482 328 11383695 327 11388908 326 11394121 326 11399335 324 11404548 323 11409761 322 11414974 322 11420187 321 11425401 319 11430614 318 11435827 318 11441040 317 11446253 316 11451467 314 11456680 313 11461893 313 11467106 312 11472319 311 11477533 309 11482746 309 11487959 308 11493172 307 11498385 306 11503599 305 11508812 304 11514025 303 11519238 302 11524451 302 11529665 300 11534878 299 11540091 298 11545304 298 11550517 297 11555731 295 11560944 294 11566157 294 11571370 293 11576583 292 11581797 290 11587010 290 11592223 289 11597436 288 11602649 287 11607863 286 11613076 285 11618289 284 11623502 284 11628715 283 11633929 281 11639142 281 11644355 280 11649568 279 11654781 278 11659995 277 11665208 276 11670421 275 11675634 275 11680847 274 11686061 272 11691274 272 11696487 271 11701700 270 11706913 270 11712127 268 11717340 267 11722553 267 11727766 266 11732979 265 11738192 264 11743406 263 11748619 262 11753832 261 11759045 261 11764258 260 11769472 258 11774685 258 11779898 257 11785111 256 11790324 256 11795538 254 11800751 253 11805964 252 11811177 252 11816390 251 11821603 250 11826817 249 11832030 248 11837243 247 11842456 247 11847669 246 11852883 244 11858096 244 11863309 243 11868522 242 11873735 242 11878948 241 11884162 239 11889375 238 11894588 238 11899801 237 11905014 236 11910228 235 11915441 234 11920654 233 11925867 233 11931080 232 11936294 230 11941507 230 11946720 229 11951933 228 11957146 227 11962359 227 11967573 225 11972786 224 11977999 224 11983212 223 11988425 222 11993639 221 11998852 220 12004065 219 12009278 219 12014491 218 12019705 216 12024918 216 12030131 215 12035344 214 12040557 213 12045770 213 12050984 211 12056197 211 12061410 210 12066623 210 12071836 210 12077050 208 12082263 208 12087476 207 12092689 207 12097902 207 12103116 205 12108329 205 12113542 204 12118755 204 12123968 203 12129181 203 12134395 202 12139608 201 12144821 201 12150034 200 12155247 200 12160461 199 12165674 198 12170887 198 12176100 197 12181313 197 12186526 197 12191737 198 12196948 200 12202159 201 12207371 202 12212582 204 12217793 205 12223005 206 12228216 207 12233427 209 12238638 211 12243850 211 12249061 213 12254272 214 12259486 213 12264703 208 12269919 205 12275136 201 12280352 197 12285569 193 12290785 189 12296002 185 12301218 182 12306434 178 12311651 174 12316867 170 12322084 166 12327300 163 12332517 158 12337733 155 12342950 150 12348166 147 12353383 143 12358599 139 12363816 135 12369032 131 12374249 127 12379465 124 12384682 119 12389898 116 12395115 111 12400332 107 12405550 101 12410767 97 12415985 92 12421203 86 12426421 81 12431639 75 12436857 70 12442074 66 12447292 60 12452510 55 12457728 49 12462946 44 12468164 39 12473381 31 12478599 18 12483817 6',\n",
       "  '8521389 10 8526585 30 8531789 42 8537002 46 8542215 49 8547428 52 8552641 55 8557854 58 8563067 61 8568279 66 8573492 69 8578705 72 8583918 75 8589131 78 8594344 82 8599557 85 8604769 89 8609982 92 8615195 95 8620408 98 8625621 102 8630834 105 8636047 108 8641259 112 8646472 115 8651685 118 8656898 122 8662111 125 8667324 128 8672537 131 8677750 134 8682962 139 8688175 142 8693388 145 8698601 148 8703814 87 8703904 61 8709027 87 8709122 59 8714240 87 8714341 57 8719452 87 8719559 55 8724665 87 8724777 53 8729878 87 8729995 51 8735091 86 8735214 48 8740304 86 8740432 47 8745517 86 8745648 47 8750730 85 8750864 47 8755942 86 8756079 48 8761155 86 8761294 49 8766368 85 8766509 50 8771581 85 8771724 52 8776794 84 8776939 53 8782007 84 8782154 54 8787220 83 8787369 56 8792433 82 8792585 56 8797645 83 8797800 58 8802858 82 8803015 59 8808071 82 8808230 61 8813284 81 8813445 62 8818497 81 8818660 64 8823710 80 8823875 66 8828923 80 8829090 67 8834135 80 8834306 68 8839348 80 8839521 69 8844561 79 8844736 71 8849774 78 8849951 72 8854987 78 8855166 74 8860200 77 8860381 75 8865413 77 8865596 77 8870625 77 8870811 78 8875838 77 8876027 79 8881051 76 8881242 81 8886264 76 8886457 82 8891477 75 8891672 84 8896690 75 8896887 84 8901903 74 8902102 84 8907116 74 8907317 84 8912328 74 8912532 84 8917541 73 8917747 84 8922754 73 8922962 84 8927967 72 8928176 85 8933180 72 8933391 84 8938393 71 8938606 83 8943606 71 8943821 80 8948818 71 8949035 79 8954031 71 8954250 76 8959244 70 8959465 73 8964457 70 8964679 72 8969670 69 8969894 69 8974883 68 8975109 67 8980096 68 8980324 64 8985308 68 8985538 62 8990521 68 8990753 60 8995734 67 8995968 57 9000947 67 9001183 54 9006160 66 9006397 53 9011373 66 9011612 50 9016586 65 9016827 47 9021799 65 9022041 46 9027012 64 9027256 42 9032225 64 9032471 37 9037438 63 9037686 33 9042651 62 9042900 29 9047864 62 9048115 24 9053077 61 9053330 20 9058290 61 9058544 16 9063503 60 9063759 11 9068716 60 9068974 6 9073929 59 9074189 2 9079142 59 9084355 58 9089568 58 9094781 57 9099994 56 9105207 56 9110420 55 9115633 55 9120846 54 9126059 54 9131272 53 9136485 53 9141698 52 9146911 52 9152124 51 9157337 51 9162550 50 9167763 49 9172976 49 9178189 48 9183402 48 9188615 47 9193828 47 9199041 46 9204254 46 9209467 45 9214680 45 9219893 45 9225106 45 9230319 45 9235532 44 9240745 44 9245958 44 9251171 44 9256384 44 9261597 43 9266810 43 9272023 43 9277236 43 9282449 43 9287662 42 9292875 42 9298088 42 9303301 42 9308514 42 9313727 41 9318940 41 9324153 41 9329366 41 9334579 41 9339796 36 9345017 28 9350238 20 9355459 12 9360679 5 10575655 1 10580867 5 10586079 8 10591291 11 10596503 14 10601715 17 10606927 20 10612139 21 10617351 23 10622564 24 10627777 24 10632990 25 10638204 24 10643417 25 10648630 25 10653843 26 10659057 26 10664270 26 10669483 28 10674697 30 10679910 32 10685123 35 10690337 37 10695550 40 10700763 42 10705977 44 10711190 47 10716403 50 10721616 53 10726830 54 10732043 57 10737256 60 10742470 62 10747683 64 10752896 67 10758110 69 10763323 72 10768536 74 10773750 76 10778963 79 10784176 82 10789389 85 10794603 86 10799816 89 10805029 92 10810243 94 10815456 96 10820669 99 10825883 101 10831096 104 10836309 107 10841523 108 10846736 111 10851949 114 10857162 117 10862375 119 10867589 121 10872802 124 10878015 127 10883228 129 10888441 132 10893654 135 10898868 137 10904081 140 10909294 143 10914507 146 10919720 149 10924934 151 10930147 154 10935360 157 10940573 160 10945786 163 10951000 165 10956213 168 10961426 171 10966639 174 10971852 176 10977066 178 10982279 181 10987492 184 10992705 187 10997918 190 11003132 192 11008345 195 11013558 198 11018771 201 11023984 204 11029198 206 11034411 209 11039624 212 11044837 215 11050050 218 11055264 220 11060477 223 11065690 226 11070903 229 11076116 232 11081330 234 11086543 237 11091756 239 11096969 242 11102182 245 11107396 247 11112609 250 11117822 253 11123035 256 11128248 259 11133462 260 11138675 263 11143888 266 11149101 269 11154314 272 11159528 274 11164741 277 11169954 280 11175167 282 11180380 285 11185594 287 11190807 290 11196020 293 11201233 296 11206446 299 11211660 301 11216873 303 11222086 306 11227299 309 11232512 312 11237726 314 11242939 316 11248152 316 11253365 317 11258578 318 11263792 317 11269005 318 11274218 318 11279431 319 11284644 319 11289858 319 11295071 320 11300284 320 11305497 320 11310710 320 11315924 318 11321137 318 11326350 318 11331563 317 11336776 317 11341989 317 11347203 315 11352416 315 11357629 314 11362842 314 11368055 314 11373269 312 11378482 312 11383695 312 11388908 311 11394121 311 11399335 309 11404548 309 11409761 309 11414974 308 11420187 308 11425401 307 11430614 306 11435827 306 11441040 305 11446253 305 11451467 304 11456680 303 11461893 303 11467106 303 11472319 302 11477533 301 11482746 300 11487959 300 11493172 300 11498385 299 11503599 298 11508812 298 11514025 297 11519238 297 11524451 296 11529665 295 11534878 295 11540091 294 11545304 294 11550517 294 11555731 292 11560944 292 11566157 291 11571370 291 11576583 291 11581797 289 11587010 289 11592223 289 11597436 288 11602649 287 11607863 286 11613076 285 11618289 284 11623502 284 11628715 283 11633929 281 11639142 281 11644355 280 11649568 279 11654781 278 11659995 277 11665208 276 11670421 275 11675634 275 11680847 274 11686061 272 11691274 272 11696487 271 11701700 270 11706913 270 11712127 268 11717340 267 11722553 267 11727766 266 11732979 265 11738192 264 11743406 263 11748619 262 11753832 261 11759045 261 11764258 260 11769472 258 11774685 258 11779898 257 11785111 256 11790324 256 11795538 254 11800751 253 11805964 252 11811177 252 11816390 251 11821603 250 11826817 249 11832030 248 11837243 247 11842456 247 11847669 246 11852883 244 11858096 244 11863309 243 11868522 242 11873735 242 11878948 241 11884162 239 11889375 238 11894588 238 11899801 237 11905014 236 11910228 235 11915441 234 11920654 233 11925867 233 11931080 232 11936294 230 11941507 230 11946720 229 11951933 228 11957146 227 11962359 227 11967573 225 11972786 224 11977999 224 11983212 223 11988425 222 11993639 221 11998852 220 12004065 219 12009278 219 12014491 218 12019705 216 12024918 216 12030131 215 12035344 214 12040557 213 12045770 213 12050984 211 12056197 211 12061410 210 12066623 210 12071836 210 12077050 208 12082263 208 12087476 207 12092689 207 12097902 207 12103116 205 12108329 205 12113542 204 12118755 204 12123968 203 12129181 203 12134395 202 12139608 201 12144821 201 12150034 200 12155247 200 12160461 199 12165674 198 12170887 198 12176100 197 12181313 197 12186526 197 12191737 198 12196948 200 12202159 201 12207371 202 12212582 204 12217793 205 12223005 206 12228216 207 12233427 209 12238638 211 12243850 211 12249061 213 12254272 214 12259486 213 12264703 208 12269919 205 12275136 201 12280352 197 12285569 193 12290785 189 12296002 185 12301218 182 12306434 178 12311651 174 12316867 170 12322084 166 12327300 163 12332517 158 12337733 155 12342950 150 12348166 147 12353383 143 12358599 139 12363816 135 12369032 131 12374249 127 12379465 124 12384682 119 12389898 116 12395115 111 12400332 107 12405550 101 12410767 97 12415985 92 12421203 86 12426421 81 12431639 75 12436857 70 12442074 66 12447292 60 12452510 55 12457728 49 12462946 44 12468164 39 12473381 31 12478599 18 12483817 6',\n",
       "  '12903854 2 12909064 7 12914275 10 12919485 15 12924695 19 12929905 24 12935116 28 12940326 32 12945536 37 12950746 41 12955957 45 12961167 49 12966377 54 12971587 59 12976798 62 12982008 67 12987218 71 12992428 76 12997639 79 13002849 84 13008059 89 13013269 93 13018480 97 13023690 101 13028900 106 13034110 110 13039321 114 13044531 119 13049741 123 13054951 128 13060162 131 13065372 136 13070582 140 13075792 145 13081003 149 13086213 153 13091423 158 13096633 162 13101844 166 13107054 170 13112264 175 13117474 179 13122685 183 13127895 188 13133105 192 13138315 197 13143526 200 13148736 205 13153946 209 13159156 214 13164367 218 13169577 222 13174787 227 13179997 231 13185208 235 13190418 239 13195628 244 13200838 249 13206049 252 13211259 257 13216469 261 13221679 266 13226890 269 13232100 274 13237310 279 13242520 283 13247731 287 13252941 291 13258152 295 13263364 297 13268575 301 13273787 303 13278999 306 13284210 310 13289422 312 13294634 315 13299846 317 13305057 321 13310269 323 13315481 326 13320693 329 13325904 332 13331116 335 13336328 337 13341540 340 13346751 343 13351963 346 13357175 349 13362386 352 13367598 355 13372810 357 13378022 360 13383233 363 13388445 366 13393657 369 13398869 371 13404080 375 13409292 377 13414504 379 13419716 382 13424927 385 13430139 387 13435351 390 13440562 393 13445774 395 13450986 398 13456198 400 13461409 403 13466621 406 13471833 408 13477045 410 13482256 414 13487468 416 13492680 418 13497892 420 13503103 424 13508315 426 13513526 429 13518736 434 13523947 437 13529157 441 13534367 446 13539578 449 13544788 453 13549998 458 13555208 462 13560419 465 13565629 470 13570839 474 13576050 477 13581260 482 13586470 486 13591681 489 13596891 493 13602101 498 13607311 502 13612522 505 13617732 510 13622942 514 13628153 517 13633363 522 13638573 526 13643783 530 13648994 534 13654204 538 13659414 542 13664625 546 13669835 550 13675045 554 13680256 558 13685466 562 13690676 566 13695886 570 13701097 574 13706307 578 13711517 582 13716728 586 13721938 590 13727148 594 13732359 598 13737569 602 13742779 606 13746866 48 13747989 611 13752013 142 13753200 614 13757160 236 13758410 618 13762336 302 13763620 623 13767544 335 13768831 626 13772751 370 13774041 630 13777958 404 13779251 635 13783165 439 13784462 638 13788372 473 13789672 642 13793579 507 13794882 646 13798786 542 13800092 651 13803993 576 13805303 654 13809201 601 13810513 658 13814408 619 13815723 663 13819615 636 13820934 666 13824822 654 13826144 670 13830029 671 13831354 675 13835236 689 13836565 678 13840443 706 13841775 682 13845650 724 13846985 687 13850858 740 13852195 691 13856065 758 13857406 694 13861272 775 13862616 699 13866479 793 13867826 703 13871686 810 13873037 706 13876893 828 13878247 711 13882100 845 13883457 715 13887307 863 13888667 719 13892517 877 13893878 722 13897728 891 13899088 727 13902939 904 13904298 731 13908150 918 13909509 734 13913361 931 13914719 739 13918573 944 13919929 743 13923784 957 13925033 11 13925140 746 13928995 971 13930243 32 13930350 751 13934206 984 13935454 53 13935560 755 13939418 997 13940664 74 13940770 759 13944629 1010 13945874 96 13945981 763 13949840 1024 13951084 874 13955051 1037 13956295 877 13960262 1051 13961505 882 13965474 1064 13966715 886 13970685 1077 13971926 889 13975896 1091 13977136 894 13981107 1104 13982346 898 13986319 1117 13987556 902 13991530 1130 13992767 905 13996741 1144 13997977 910 14001952 1157 14003187 914 14007163 1171 14008398 917 14012375 1183 14013608 922 14017586 1197 14018818 926 14022797 1210 14024028 930 14028008 1224 14029239 934 14033220 2167 14038431 2170 14043642 2174 14048853 2177 14054065 2179 14059276 2183 14064487 2186 14069698 2189 14074909 2193 14080121 2195 14085332 2198 14090543 2201 14095754 2205 14100966 2207 14106177 2210 14111388 2214 14116599 2217 14121810 2220 14127022 2223 14132233 2226 14137444 2229 14142655 2233 14147867 2235 14153078 2238 14158289 2242 14163500 2245 14168711 2248 14173923 2251 14179134 2254 14184345 2257 14189556 2260 14194768 2263 14199979 2266 14205190 2269 14210401 2273 14215612 2276 14220824 2278 14226035 2282 14231246 2285 14236457 2288 14241669 2291 14246880 2294 14252091 2297 14257302 2301 14262514 2303 14267725 2306 14272936 2310 14278147 2313 14283358 2316 14288570 2318 14293781 2322 14298992 2325 14304203 2328 14309415 2331 14314626 2334 14319837 2337 14325048 2341 14330259 2344 14335471 2346 14340682 2350 14345893 2353 14351104 2356 14356316 2359 14361527 2362 14366738 2365 14371949 2369 14377160 2372 14382372 2374 14387583 2377 14392794 2381 14398005 2384 14403217 2386 14408428 2390 14413639 2393 14418850 2396 14424062 2399 14429274 2401 14434485 2404 14439697 2407 14444909 2409 14450121 2411 14455332 2415 14460544 2417 14465756 2419 14470968 2422 14476179 2425 14481391 2427 14486603 2429 14491815 2432 14497026 2435 14502238 2437 14507450 2440 14512662 2442 14517873 2445 14523085 2448 14528297 2450 14533509 2452 14538720 2456 14543932 2458 14549144 2460 14554356 2463 14559567 2466 14564779 2468 14569991 2471 14575203 2473 14580414 2476 14585626 2479 14590838 2481 14596050 2483 14601262 2486 14606473 2489 14611685 2491 14616897 2494 14622109 2496 14627320 2499 14632532 2501 14637744 2504 14642956 2506 14648167 2509 14653379 2512 14658591 2514 14663803 2516 14669014 2520 14674226 2522 14679438 2524 14684650 2527 14689861 2530 14695073 2532 14700285 2535 14705497 2537 14710708 2540 14715920 2543 14721132 2545 14726344 2547 14731555 2551 14736767 2553 14741979 2555 14747191 2558 14752402 2561 14757614 2563 14762826 2565 14768038 2568 14773250 2570 14778461 2573 14783673 2576 14788885 2578 14794098 2579 14799311 2581 14804524 2582 14809737 2583 14814950 2585 14820163 2586 14825376 2587 14830589 2589 14835802 2590 14841015 2591 14846228 2593 14851441 2594 14856654 2595 14861867 2597 14867080 2598 14872293 2599 14877506 2601 14882719 2602 14887932 2603 14893145 2605 14898358 2606 14903571 2607 14908784 2608 14913997 2610 14919210 2611 14924423 2612 14929636 2614 14934849 2615 14940062 2616 14945275 2618 14950488 2619 14955701 2620 14960914 2622 14966127 2623 14971340 2624 14976553 2626 14981766 2627 14986979 2628 14992192 2630 14997405 2631 15002618 2632 15007831 2634 15013044 2635 15018257 2636 15023470 2638 15028683 2639 15033896 2640 15039109 2641 15044321 2644 15049534 2645 15054747 2646 15059960 2648 15065173 2649 15070386 2650 15075599 2651 15080812 2653 15086025 2654 15091238 2655 15096451 2656 15101664 2658 15106877 2659 15112090 2660 15117303 2662 15122516 2663 15127729 2664 15132942 2665 15138155 2667 15143368 2668 15148581 2669 15153794 2670 15159007 2672 15164220 2673 15169433 2674 15174646 2675 15179859 2677 15185072 2678 15190285 2679 15195498 2680 15200711 2682 15205924 2683 15211137 2684 15216350 2685 15221563 2687 15226776 2688 15231989 2689 15237202 2691 15242415 2692 15247628 2693 15252841 2694 15258054 2696 15263267 2697 15268480 2698 15273693 2699 15278906 2701 15284119 2702 15289332 2703 15294545 2704 15299758 2706 15304971 2707 15310184 2708 15315397 2709 15320610 2711 15325823 2712 15331035 2714 15336248 2715 15341461 2717 15346674 2718 15351887 2719 15357101 2720 15362314 2721 15367528 2721 15372741 2722 15377954 2724 15383168 2724 15388381 2725 15393595 2725 15398808 2727 15404021 2728 15409235 2728 15414448 2729 15419662 2730 15424875 2731 15430089 2731 15435302 2732 15440515 2734 15445729 2734 15450942 2735 15456156 2735 15461369 2737 15466583 2737 15471796 2738 15477009 2740 15482223 2740 15487436 2741 15492650 2741 15497863 2743 15503077 2743 15508290 2744 15513503 2745 15518717 2746 15523930 2747 15529144 2747 15534357 2748 15539571 2749 15544784 2750 15549997 2751 15555211 2751 15560424 2753 15565638 2753 15570851 2754 15576065 2754 15581278 2756 15586491 2757 15591705 2616 15594333 129 15596918 2613 15599567 110 15602132 2609 15604801 90 15607345 2606 15610035 70 15612559 2602 15615270 49 15617772 2599 15620504 30 15622985 2596 15625738 10 15628199 2592 15633412 2589 15638626 2585 15643839 2582 15649053 2578 15654266 2574 15659479 2571 15664693 2567 15669906 2564 15675120 2560 15680333 2557 15685547 2553 15690760 2550 15695973 2547 15701187 2543 15706400 2540 15711614 2536 15716827 2533 15722041 2529 15727254 2526 15732467 2523 15737681 2519 15742894 2517 15748108 2514 15753323 2510 15758537 2508 15763751 2505 15768966 2502 15774180 2499 15779395 2495 15784609 2493 15789823 2490 15795038 2487 15800252 2484 15805467 2481 15810681 2478 15815896 2474 15821110 2472 15826324 2469 15831539 2466 15836753 2463 15841968 2459 15847182 2457 15852396 2454 15857611 2451 15862825 2448 15868040 2444 15873254 2442 15878468 2439 15883683 2436 15888897 2433 15894112 2430 15899326 2427 15904540 2424 15909755 2421 15914969 2418 15920184 2415 15925398 2412 15930613 2408 15935827 2406 15941041 2403 15946256 2400 15951470 2397 15956685 2393 15961899 2391 15967113 2388 15972328 2385 15977542 2382 15982757 2379 15987971 2376 15993185 2373 15998400 2370 16003614 2367 16008829 2364 16014043 2361 16019258 2357 16024472 2355 16029686 2352 16034901 2349 16040115 2346 16045330 2342 16050544 2340 16055758 2337 16060973 2334 16066187 2331 16071402 2327 16076616 2325 16081830 2322 16087045 2319 16092259 2316 16097474 2313 16102688 2310 16107902 2307 16113117 2304 16118331 2301 16123546 2297 16128760 2294 16133975 2290 16139189 2287 16144403 2284 16149618 2280 16154832 2277 16160047 2273 16165261 2270 16170475 2267 16175690 2263 16180904 2260 16186119 2256 16191333 2253 16196547 2250 16201762 2246 16206976 2243 16212191 2239 16217405 2236 16222620 2232 16227834 2229 16233048 2226 16238263 2222 16243478 2218 16248694 2213 16253910 2208 16259126 2203 16264342 2198 16269558 2193 16274773 2189 16279989 2184 16285205 2179 16290421 2174 16295637 2169 16300853 2164 16306069 2159 16311285 2154 16316501 2149 16321717 2144 16326933 2139 16332149 2134 16337365 2129 16342581 2124 16347796 2120 16353012 2115 16358228 2110 16363444 2105 16368660 2100 16373876 2094 16379092 2089 16384308 2084 16389524 2079 16394740 2074 16399956 2069 16405172 2064 16410388 2059 16415604 2054 16420819 2050 16426035 2045 16431251 2040 16436467 2035 16441683 2030 16446899 2025 16452115 2020 16457331 2015 16462547 2010 16467763 2005 16472979 2000 16478195 1995 16483411 1990 16488627 1985 16493843 1980 16499058 1976 16504274 1971 16509490 1966 16514706 1961 16519922 1956 16525138 1951 16530354 1946 16535570 1941 16540786 1936 16546002 1931 16551218 1926 16556434 1921 16561650 1916 16566866 1911 16572081 1907 16577297 1902 16582513 1897 16587729 1892 16592945 1887 16598161 1882 16603377 1877 16608593 1872 16613809 1867 16619025 1862 16624241 1857 16629457 1852 16634673 1847 16639889 1842 16645104 1838 16650320 1833 16655536 1827 16660752 1822 16665968 1817 16671184 1812 16676400 1807 16681616 1802 16686832 1796 16692049 1789 16697268 1780 16702486 1773 16707705 1764 16712924 1755 16718142 1747 16723361 1738 16728579 1731 16733798 1722 16739016 1714 16744235 1705 16749454 1696 16754672 1688 16759891 1680 16765109 1672 16770328 1663 16775546 1655 16780765 1646 16785984 1637 16791202 1630 16796421 1621 16801639 1613 16806858 1604 16812077 1595 16817295 1587 16822514 1579 16827732 1571 16832951 1562 16838169 1554 16843388 1545 16848607 1536 16853825 1529 16859044 1520 16864262 1512 16869481 1503 16874699 1495 16879918 1486 16885137 1478 16890355 1470 16895574 1461 16900792 1453 16906011 1444 16911230 1435 16916448 1428 16921667 1419 16926885 1411 16932104 1402 16937322 1394 16942541 1385 16947760 1377 16952978 1369 16958197 1360 16963415 1352 16968634 1343 16973852 1335 16979071 1327 16984290 1318 16989508 1310 16994727 1301 16999945 1293 17005164 1284 17010383 1276 17015601 1268 17020820 1259 17026038 1251 17031257 1242 17036475 1234 17041694 1226 17046913 1217 17052131 1209 17057350 1200 17062568 1192 17067787 1183 17073005 1176 17078224 1167 17083443 1154 17088661 1139 17093880 1123 17099098 1108 17104317 1092 17109536 1076 17114754 594 17115358 457 17119973 579 17120584 434 17125191 565 17125809 412 17130410 551 17131034 390 17135628 537 17136259 368 17140847 522 17141484 346 17146066 507 17146710 322 17151289 488 17151935 300 17156517 464 17157160 278 17161745 441 17162385 256 17166973 417 17167610 234 17172201 393 17172836 211 17177429 369 17178061 189 17182657 345 17183286 167 17187885 321 17188511 145 17193113 298 17193736 123 17198341 274 17198962 100 17203569 250 17204187 78 17208797 226 17209412 56 17214025 202 17214637 34 17219253 179 17219862 11 17224481 155 17229709 131 17234937 107 17240165 83 17245393 59 17250621 36 17255849 12',\n",
       "  '10837337 5 10842542 14 10847746 24 10852951 33 10858155 43 10863360 52 10868564 62 10873769 72 10878973 82 10884178 91 10889383 100 10894587 110 10899792 119 10905001 124 10910215 124 10915429 124 10920643 124 10925857 124 10931071 124 10936285 124 10941499 124 10946713 125 10951927 125 10957141 125 10962355 125 10967569 125 10972783 125 10977997 125 10983211 125 10988425 125 10993639 125 10998853 125 11004067 125 11009281 125 11014495 125 11019709 126 11024923 126 11030137 126 11035351 126 11040565 126 11045779 126 11050993 126 11056207 126 11061421 126 11066635 126 11071849 126 11077063 126 11082277 126 11087491 126 11092705 127 11097919 127 11103133 127 11108347 127 11113561 127 11118775 127 11123988 128 11129202 128 11134416 128 11139630 128 11144844 128 11150058 128 11155272 128 11160486 128 11165700 129 11170914 129 11176128 129 11181342 129 11186556 129 11191770 129 11196984 129 11202198 129 11207412 129 11212626 129 11217840 129 11223054 129 11228268 129 11233482 129 11238696 130 11243910 130 11249124 130 11254338 130 11259552 130 11264766 130 11269980 130 11275194 130 11280408 130 11285622 130 11290836 130 11296050 130 11301264 130 11306478 130 11311692 130 11316906 131 11322120 131 11327334 131 11332548 131 11337762 131 11342976 131 11348190 131 11353404 131 11358618 131 11363832 131 11369046 131 11374260 131 11379474 131 11384688 131 11389902 132 11395116 132 11400330 132 11405544 132 11410758 132 11415972 132 11421186 132 11426400 132 11431614 132 11436828 132 11442042 132 11447256 132 11452470 132 11457684 132 11462898 133 11468112 133 11473326 133 11478540 133 11483754 133 11488968 133 11494182 133 11499396 133 11504610 133 11509824 133 11515038 133 11520252 133 11525466 133 11530680 133 11535894 134 11541108 134 11546322 134 11551536 134 11556750 134 11561963 135 11567177 135 11572391 135 11577605 135 11582819 135 11588033 135 11593247 135 11598461 135 11603675 135 11608889 136 11614103 136 11619317 136 11624531 136 11629745 136 11634959 136 11640173 136 11645387 136 11650601 136 11655815 136 11661029 136 11666243 136 11671457 136 11676671 136 11681885 137 11687099 137 11692313 137 11697527 137 11702741 137 11707955 137 11713169 137 11718383 137 11723597 137 11728811 137 11734025 137 11739239 137 11744453 137 11749667 137 11754881 138 11760095 138 11765309 138 11770523 138 11775737 138 11780951 138 11786165 138 11791379 138 11796593 138 11801807 138 11807021 138 11812235 138 11817449 138 11822663 138 11827877 139 11833091 139 11838305 139 11843519 139 11848733 139 11853947 139 11859161 139 11864375 139 11869589 139 11874803 139 11880017 139 11885231 139 11890445 138 11895659 138 11900873 138 11906087 138 11911301 138 11916515 138 11921729 138 11926943 138 11932157 138 11937371 138 11942585 137 11947799 137 11953013 137 11958227 137 11963441 137 11968655 137 11973869 137 11979083 137 11984297 137 11989511 137 11994725 136 11999939 136 12005152 137 12010366 137 12015580 137 12020794 137 12026008 137 12031222 137 12036436 137 12041650 137 12046864 136 12052078 136 12057292 136 12062506 136 12067720 136 12072934 136 12078148 136 12083362 136 12088576 136 12093790 136 12099004 135 12104218 135 12109432 135 12114646 135 12119860 135 12125074 135 12130288 135 12135502 135 12140716 135 12145930 134 12151144 134 12156358 134 12161572 134 12166786 134 12172000 134 12177214 134 12182428 134 12187642 134 12192856 134 12198070 133 12203284 133 12208498 133 12213712 133 12218926 133 12224140 133 12229354 133 12234568 133 12239782 133 12244996 133 12250210 132 12255424 132 12260638 132 12265851 133 12271065 133 12276279 133 12281493 133 12286707 133 12291921 133 12297135 133 12302349 132 12307563 132 12312777 132 12317991 132 12323205 132 12328419 132 12333633 132 12338847 132 12344061 132 12349275 132 12354488 132 12359702 132 12364916 132 12370130 132 12375344 132 12380558 132 12385772 132 12390986 132 12396200 132 12401414 132 12406628 131 12411842 131 12417056 131 12422270 131 12427484 131 12432698 131 12437912 131 12443125 132 12448339 132 12453553 132 12458767 131 12463981 131 12469195 131 12474409 131 12479623 131 12484837 131 12490051 131 12495265 131 12500479 131 12505693 131 12510907 130 12516121 130 12521335 130 12526548 131 12531762 131 12536976 131 12542190 131 12547404 131 12552618 131 12557832 131 12563046 130 12568260 130 12573474 130 12578688 130 12583902 130 12589116 130 12594330 130 12599544 130 12604758 130 12609972 130 12615185 130 12620399 130 12625613 130 12630827 130 12636041 130 12641255 130 12646469 130 12651683 130 12656897 130 12662111 130 12667325 129 12672539 129 12677753 129 12682967 129 12688181 129 12693395 129 12698609 129 12703822 130 12709036 130 12714250 130 12719464 129 12724678 129 12729892 129 12735106 129 12740320 129 12745534 129 12750748 129 12755962 129 12761176 129 12766390 129 12771604 128 12776818 128 12782032 128 12787246 128 12792459 129 12797673 129 12802887 129 12808101 129 12813315 129 12818529 128 12823743 128 12828957 128 12834171 128 12839385 128 12844599 128 12849813 128 12855027 128 12860241 128 12865455 128 12870669 127 12875882 128 12881096 128 12886310 128 12891524 128 12896738 128 12901952 128 12907166 128 12912380 128 12917594 128 12922808 127 12928022 127 12933236 127 12938450 127 12943664 127 12948878 127 12954092 127 12959306 127 12964519 128 12969733 128 12974947 127 12980161 127 12985375 127 12990589 127 12995803 127 13001017 127 13006231 127 13011445 127 13016659 127 13021873 127 13027087 126 13032301 126 13037515 126 13042729 126 13047943 126 13053156 127 13058370 127 13063584 127 13068798 127 13074012 127 13079226 126 13084440 126 13089654 126 13094868 126 13100082 126 13105296 126 13110510 126 13115724 126 13120938 126 13126152 126 13131366 125 13136579 126 13141793 126 13147007 126 13152221 126 13157435 126 13162649 126 13167863 126 13173077 126 13178291 126 13183505 125 13188719 125 13193933 125 13199147 125 13204361 125 13209575 123 13214789 121 13220003 118 13225216 116 13230430 113 13235644 110 13240858 107 13246072 105 13251286 102 13256500 99 13261714 96 13266928 93 13272142 90 13277356 88 13282570 85 13287784 82 13292998 79 13298212 76 13303426 73 13308640 70 13313853 69 13319067 66 13324281 63 13329495 60 13334709 57 13339923 54 13345137 52 13350351 49 13355565 46 13360779 43 13365993 40 13371207 37 13376421 34 13381635 32 13386849 29 13392063 26 13397277 23 13402490 21 13407704 18 13412918 16 13418132 13 13423346 10 13428560 7 13433774 4 13438988 1',\n",
       "  '11464158 10 11469372 30 11474586 43 11479800 48 11485013 54 11490227 59 11495441 64 11500655 70 11505869 75 11511083 80 11516297 85 11521511 90 11526725 96 11531938 102 11537152 107 11542366 112 11547580 120 11552794 130 11558008 140 11563222 150 11568436 160 11573650 170 11578863 181 11584077 191 11589291 201 11594505 211 11599719 216 11604933 218 11610147 219 11615361 220 11620575 221 11625789 222 11631002 225 11636216 226 11641430 227 11646644 228 11651858 229 11657072 231 11662286 232 11667500 233 11672714 234 11677927 236 11683141 238 11688355 239 11693569 240 11698783 241 11703997 242 11709211 244 11714425 245 11719639 246 11724852 248 11730066 249 11735280 249 11740494 249 11745708 249 11750922 249 11756136 249 11761350 249 11766564 249 11771777 250 11776991 250 11782205 250 11787419 250 11792633 250 11797847 250 11803061 250 11808275 250 11813489 250 11818702 251 11823916 251 11829130 251 11834344 251 11839558 251 11844772 251 11849986 251 11855200 251 11860414 251 11865627 252 11870841 252 11876055 252 11881269 252 11886483 252 11891697 252 11896911 252 11902125 252 11907339 252 11912552 253 11917766 253 11922980 253 11928194 253 11933408 253 11938622 253 11943836 253 11949050 253 11954264 253 11959477 254 11964691 254 11969905 254 11975119 254 11980333 254 11985547 254 11990761 254 11995975 254 12001189 254 12006402 255 12011616 255 12016830 255 12022044 256 12027258 256 12032472 256 12037686 256 12042900 256 12048114 256 12053327 257 12058541 257 12063755 257 12068969 257 12074183 257 12079397 257 12084611 257 12089825 257 12095039 257 12100252 258 12105466 258 12110680 258 12115894 258 12121108 258 12126322 258 12131536 258 12136750 258 12141964 258 12147177 259 12152391 259 12157605 259 12162819 259 12168033 259 12173247 259 12178461 259 12183675 259 12188889 259 12194102 260 12199316 260 12204530 260 12209744 260 12214958 260 12220172 260 12225386 260 12230600 260 12235814 260 12241027 261 12246241 261 12251455 261 12256669 261 12261883 261 12267097 261 12272311 261 12277525 261 12282739 261 12287952 262 12293166 262 12298380 262 12303594 262 12308808 262 12314022 262 12319236 262 12324450 262 12329664 262 12334877 263 12340091 262 12345305 262 12350519 262 12355733 262 12360947 262 12366161 262 12371375 262 12376589 262 12381802 263 12387016 263 12392230 263 12397444 263 12402658 263 12407872 262 12413086 262 12418300 262 12423514 262 12428727 263 12433941 263 12439155 263 12444369 263 12449583 263 12454797 263 12460011 263 12465225 263 12470439 262 12475652 263 12480866 263 12486080 263 12491294 263 12496508 263 12501722 263 12506936 263 12512150 263 12517364 263 12522577 264 12527791 264 12533005 263 12538219 263 12543433 263 12548647 263 12553861 263 12559075 263 12564289 263 12569502 264 12574716 264 12579930 264 12585144 264 12590358 264 12595572 264 12600786 263 12606000 263 12611214 263 12616427 264 12621641 264 12626855 264 12632069 264 12637283 264 12642497 264 12647711 264 12652925 264 12658139 264 12663352 264 12668566 264 12673780 264 12678994 264 12684208 264 12689422 264 12694636 264 12699850 264 12705064 264 12710277 265 12715491 265 12720705 265 12725919 265 12731133 264 12736347 264 12741561 264 12746775 264 12751989 264 12757203 264 12762417 264 12767631 264 12772845 264 12778059 264 12783273 264 12788487 264 12793701 263 12798915 263 12804129 263 12809343 263 12814557 263 12819771 263 12824985 263 12830199 263 12835413 263 12840627 263 12845841 263 12851055 263 12856269 263 12861483 262 12866697 262 12871911 262 12877125 262 12882339 262 12887553 262 12892767 262 12897981 262 12903195 262 12908409 261 12913623 261 12918837 261 12924051 261 12929265 261 12934479 261 12939693 260 12944907 260 12950121 260 12955335 260 12960549 260 12965763 260 12970977 260 12976191 259 12981405 259 12986619 259 12991833 259 12997047 259 13002261 259 13007475 258 13012689 258 13017903 258 13023117 258 13028331 258 13033545 258 13038759 257 13043973 257 13049187 257 13054401 257 13059615 257 13064829 257 13070043 257 13075257 256 13080471 256 13085685 256 13090899 256 13096113 256 13101327 256 13106541 255 13111755 255 13116969 255 13122183 255 13127397 255 13132611 255 13137825 254 13143039 254 13148253 254 13153467 254 13158681 254 13163895 254 13169109 254 13174323 253 13179537 253 13184751 253 13189965 253 13195179 253 13200393 253 13205607 252 13210821 252 13216035 252 13221249 252 13226463 252 13231677 252 13236891 251 13242105 251 13247319 251 13252533 251 13257747 251 13262961 251 13268175 251 13273389 250 13278603 250 13283817 250 13289031 250 13294245 250 13299459 250 13304673 249 13309887 249 13315101 249 13320315 249 13325529 249 13330743 249 13335957 248 13341171 248 13346385 248 13351599 248 13356813 248 13362027 248 13367241 248 13372455 247 13377669 247 13382883 247 13388097 247 13393311 247 13398525 247 13403739 246 13408953 246 13414167 246 13419381 246 13424595 246 13429809 246 13435023 245 13440237 245 13445451 245 13450665 245 13455879 245 13461093 245 13466307 245 13471521 244 13476735 244 13481949 244 13487163 244 13492377 244 13497591 244 13502805 243 13508019 243 13513233 243 13518447 243 13523661 243 13528875 243 13534089 242 13539303 242 13544517 242 13549731 242 13554945 242 13560159 242 13565373 242 13570587 241 13575801 241 13581015 241 13586229 239 13591443 236 13596657 232 13601871 228 13607085 225 13612299 221 13617513 218 13622727 214 13627941 211 13633155 207 13638369 204 13643583 200 13648797 197 13654011 193 13659225 190 13664439 186 13669653 182 13674867 179 13680081 175 13685295 172 13690509 168 13695723 165 13700937 161 13706151 158 13711365 154 13716579 151 13721793 147 13727007 143 13732221 140 13737435 136 13742649 133 13747863 129 13753077 126 13758291 122 13763505 119 13768719 115 13773933 112 13779147 108 13784361 104 13789575 101 13794789 97 13800003 94 13805217 90 13810431 87 13815645 83 13820859 80 13826073 76 13831287 73 13836501 69 13841715 65 13846929 62 13852143 58 13857357 55 13862571 51 13867785 48 13872999 44 13878213 41 13883427 37 13888641 34 13893855 30 13899069 26 13904283 23 13909497 19 13914711 16 13919925 12 13925139 9 13930353 5 13935567 2',\n",
       "  '5910568 31 5915775 65 5920982 69 5926189 73 5931396 76 5936604 79 5941811 83 5947018 87 5952225 90 5957432 94 5962638 99 5967842 105 5973047 111 5978251 118 5983456 124 5988660 130 5993864 137 5999069 143 6004273 149 6009477 156 6014682 162 6019886 169 6025091 174 6030295 181 6035499 187 6040704 193 6045909 198 6051115 203 6056322 206 6061528 211 6066734 215 6071941 219 6077147 224 6082354 227 6087560 232 6092766 236 6097973 240 6103179 244 6108385 249 6113592 252 6118798 257 6124004 261 6129211 265 6134417 269 6139623 274 6144830 278 6150036 282 6155243 286 6160449 290 6165655 295 6170862 298 6176068 303 6181274 307 6186481 311 6191687 315 6196893 320 6202100 323 6207306 328 6212513 332 6217720 335 6222927 339 6228134 342 6233341 346 6238548 349 6243755 353 6248962 356 6254169 360 6259376 363 6264583 367 6269790 370 6274997 374 6280204 378 6285411 381 6290618 385 6295825 388 6301032 390 6306239 393 6311446 395 6316653 398 6321860 400 6327067 403 6332274 405 6337481 407 6342688 410 6347895 412 6353102 415 6358309 417 6363516 420 6368723 422 6373930 425 6379137 427 6384344 430 6389551 432 6394759 434 6399967 435 6405174 438 6410382 439 6415590 441 6420798 442 6426006 444 6431214 445 6436421 444 6441629 438 6446837 432 6452045 426 6457253 420 6462461 414 6467668 409 6472876 403 6478084 397 6483292 391 6488500 385 6493708 379 6498915 374 6504123 368 6509331 362 6514539 358 6519747 355 6524955 353 6530162 351 6535370 349 6540578 346 6545786 344 6550995 340 6556205 336 6561415 331 6566625 327 6571835 322 6577045 318 6582255 313 6587465 309 6592675 304 6597885 300 6603095 295 6608305 291 6613515 286 6618725 283 6623935 283 6629145 282 6634355 281 6639565 280 6644775 279 6649985 278 6655196 276 6660407 274 6665618 272 6670829 270 6676039 269 6681250 267 6686461 265 6691672 263 6696883 261 6702094 260 6707304 259 6712515 257 6717726 255 6722937 253 6728148 251 6733359 249 6738569 248 6743780 246 6748991 244 6754202 242 6759413 240 6764624 238 6769834 237 6775045 234 6780256 231 6785467 228 6790678 225 6795889 222 6801099 219 6806310 216 6811521 213 6816732 210 6821943 207 6827154 204 6832364 202 6837575 199 6842786 196 6847997 193 6853208 191 6858419 191 6863629 191 6868840 190 6874051 190 6879262 189 6884473 189 6889684 188 6894894 189 6900105 188 6905317 186 6910528 186 6915739 185 6920950 185 6926161 184 6931373 183 6936584 182 6941795 181 6947006 181 6952217 180 6957428 180 6962640 178 6967851 178 6973062 177 6978273 176 6983484 176 6988696 174 6993907 174 6999118 173 7004329 173 7009540 172 7014751 171 7019963 170 7025174 169 7030385 169 7035596 167 7040807 165 7046019 162 7051230 160 7056441 158 7061652 156 7066863 154 7072075 151 7077288 147 7082501 143 7087713 140 7092926 136 7098139 132 7103352 128 7108564 125 7113777 121 7118990 117 7124202 114 7129415 110 7134628 106 7139841 102 7145053 98 7150266 94 7155479 91 7160692 89 7165904 88 7171117 87 7176330 85 7181542 84 7186755 82 7191968 80 7197181 78 7202393 77 7207606 75 7212819 73 7218032 71 7223244 70 7228457 68 7233670 66 7238882 65 7244095 63 7249308 61 7254521 59 7259733 58 7264946 56 7270159 54 7275371 53 7280584 51 7285797 49 7291010 47 7296222 47 7301435 47 7306648 46 7311861 46 7317074 45 7322287 45 7327500 45 7332713 44 7337927 43 7343140 42 7348353 42 7353566 41 7358779 41 7363993 40 7369206 39 7374419 39 7379632 38 7384846 37 7390059 36 7395272 36 7400485 36 7405699 34 7410912 34 7416125 33 7421338 33 7426552 31 7431765 31 7436978 31 7442191 30 7447405 29 7452618 28 7457831 28 7463044 27 7468257 27 7473471 26 7478684 25 7483897 25 7489110 24 7494324 23 7499537 22 7504750 22 7509963 22 7515177 21 7520390 21 7525603 21 7530816 21 7536030 20 7541243 21 7546456 21 7551669 21 7556883 20 7562096 20 7567310 20 7572523 20 7577737 19 7582951 18 7588164 18 7593378 18 7598591 18 7603805 17 7609018 17 7614232 16 7619445 17 7624659 16 7629873 15 7635086 15 7640300 14 7645513 15 7650727 14 7655940 14 7661154 13 7666367 13 7671581 13 7676795 12 7682008 12 7687222 11 7692435 11 7697649 11 7702863 10 7708076 10 7713290 9 7718504 8 7723718 8 7728931 8 7734145 7 7739359 6 7744573 5 7749786 6 7755000 5 7760214 4 7765428 3 7770641 3 7775855 3 7781069 2 7786283 1 7791496 1',\n",
       "  '6421446 292 6426657 298 6431867 305 6437078 311 6442288 317 6447499 323 6452710 329 6457920 336 6463131 341 6468341 348 6473552 354 6478762 361 6483973 367 6489184 372 6494394 379 6499605 385 6504815 392 6510026 397 6515236 404 6520447 410 6525658 416 6530868 423 6536079 428 6541289 435 6546500 441 6551710 448 6556921 453 6562132 459 6567342 466 6572553 472 6577763 479 6582974 481 6588184 480 6593395 479 6598606 477 6603816 477 6609027 476 6614237 475 6619448 474 6624658 473 6629869 472 6635080 470 6640290 470 6645501 469 6650711 468 6655922 467 6661132 466 6666343 465 6671554 463 6676764 463 6681975 462 6687185 461 6692396 460 6697606 459 6702817 458 6708027 457 6713238 456 6718449 455 6723659 454 6728870 453 6734080 452 6739291 451 6744501 450 6749712 449 6754923 448 6760133 447 6765343 447 6770553 446 6775763 446 6780973 445 6786183 445 6791393 445 6796603 444 6801813 442 6807023 440 6812233 437 6817443 434 6822653 431 6827863 428 6833073 426 6838283 423 6843493 420 6848703 417 6853913 414 6859123 411 6864333 409 6869543 406 6874753 403 6879963 400 6885173 397 6890383 394 6895593 392 6900803 389 6906012 387 6911222 384 6916432 381 6921642 379 6926852 376 6932062 373 6937272 370 6942482 367 6947692 364 6952902 362 6958112 359 6963322 356 6968532 353 6973742 350 6978952 349 6984162 350 6989372 351 6994582 352 6999792 352 7005002 353 7010212 354 7015422 355 7020632 356 7025842 356 7031052 357 7036262 358 7041472 359 7046682 359 7051892 360 7057102 361 7062312 362 7067522 363 7072732 363 7077942 364 7083152 365 7088362 366 7093572 366 7098782 367 7103992 368 7109202 369 7114412 370 7119622 370 7124831 372 7130038 376 7135246 379 7140454 381 7145662 384 7150869 388 7156077 391 7161285 394 7166492 397 7171700 400 7176908 403 7182116 406 7187323 410 7192531 412 7197739 415 7202946 419 7208154 422 7213362 424 7218569 428 7223777 431 7228985 434 7234193 437 7239400 440 7244608 443 7249816 446 7255023 450 7260231 452 7265439 455 7270647 458 7275854 462 7281062 465 7286270 467 7291477 471 7296685 474 7301894 476 7307105 475 7312317 474 7317528 474 7322739 474 7327950 474 7333161 473 7338372 473 7343583 473 7348794 473 7354005 473 7359216 472 7364427 472 7369638 472 7374849 471 7380060 471 7385271 471 7390482 471 7395694 469 7400905 469 7406116 469 7411327 468 7416538 468 7421749 468 7426960 468 7432171 467 7437382 467 7442593 467 7447804 466 7453015 466 7458226 466 7463437 466 7468648 465 7473859 465 7479071 464 7484282 463 7489493 463 7494704 463 7499915 463 7505126 462 7510337 462 7515548 462 7520759 461 7525970 461 7531181 461 7536392 461 7541603 460 7546814 460 7552025 460 7557236 459 7562448 458 7567659 458 7572870 458 7578081 457 7583292 457 7588503 457 7593714 456 7598925 456 7604136 456 7609347 456 7614558 455 7619769 455 7624980 455 7630191 454 7635403 453 7640614 453 7645825 453 7651037 451 7656248 450 7661459 449 7666671 447 7671882 447 7677093 446 7682305 444 7687516 443 7692727 442 7697939 440 7703150 440 7708361 439 7713573 437 7718784 436 7723995 435 7729207 433 7734418 432 7739629 432 7744841 430 7750052 429 7755263 428 7760475 426 7765686 425 7770897 425 7776109 423 7781320 422 7786531 421 7791743 419 7796954 418 7802166 416 7807377 416 7812588 415 7817800 413 7823011 412 7828222 411 7833434 409 7838645 409 7843856 408 7849068 406 7854279 405 7859490 404 7864702 402 7869913 402 7875124 401 7880336 399 7885547 399 7890758 399 7895970 398 7901181 398 7906392 399 7911604 398 7916815 398 7922026 399 7927238 398 7932449 398 7937660 398 7942872 398 7948083 398 7953294 398 7958506 397 7963717 398 7968928 398 7974140 397 7979351 398 7984562 398 7989774 397 7994985 397 8000197 397 8005408 397 8010619 397 8015831 397 8021042 397 8026253 397 8031465 396 8036676 397 8041888 396 8047100 395 8052311 396 8057523 395 8062735 394 8067946 394 8073158 394 8078370 393 8083581 393 8088793 393 8094005 392 8099216 392 8104428 391 8109640 391 8114851 391 8120063 390 8125275 389 8130486 390 8135698 389 8140910 388 8146121 389 8151333 388 8156545 387 8161756 387 8166968 387 8172179 387 8177391 386 8182603 386 8187814 386 8193026 385 8198238 384 8203449 385 8208661 384 8213872 384 8219083 385 8224294 385 8229504 386 8234715 386 8239926 387 8245136 388 8250347 388 8255558 389 8260768 390 8265979 390 8271190 390 8276400 392 8281611 392 8286822 392 8292033 393 8297245 392 8302458 390 8307672 387 8312885 386 8318099 383 8323312 381 8328526 378 8333740 376 8338953 374 8344167 371 8349380 370 8354594 367 8359807 365 8365021 362 8370234 361 8375448 358 8380661 356 8385875 354 8391089 351 8396302 349 8401516 346 8406729 345 8411943 342 8417156 340 8422370 338 8427583 336 8432797 334 8438010 333 8443224 330 8448438 328 8453651 327 8458865 324 8464078 323 8469292 321 8474505 319 8479719 317 8484932 316 8490146 313 8495359 312 8500573 310 8502038 2 8505787 307 8507246 6 8511000 306 8512454 11 8516214 304 8517661 16 8521427 302 8522869 20 8526641 300 8528077 25 8531854 299 8533285 29 8537068 296 8538493 33 8542281 295 8543703 36 8547495 293 8548914 37 8552708 291 8554125 38 8557922 289 8559336 40 8563136 287 8564547 41 8568349 286 8569759 41 8573563 283 8574970 42 8578776 282 8580181 44 8583991 279 8585392 45 8589207 274 8590603 46 8594423 270 8595815 47 8599640 265 8601026 48 8604856 260 8606237 49 8610072 256 8611448 51 8615288 252 8616660 51 8620505 246 8621871 52 8625721 242 8627082 54 8630937 238 8632293 55 8636153 233 8637504 56 8641370 228 8642716 57 8646586 224 8647927 58 8651802 219 8653138 59 8657018 215 8658349 61 8662235 210 8663561 61 8667451 205 8668772 62 8672667 201 8673983 64 8677883 197 8679194 65 8683100 191 8684405 66 8688316 187 8689617 66 8693532 183 8694828 68 8698748 178 8700039 69 8703964 174 8705250 70 8709181 169 8710462 71 8714397 164 8715673 72 8719613 160 8720884 73 8724829 156 8726095 75 8730046 150 8731306 76 8735262 146 8736518 76 8740478 142 8741729 78 8745694 137 8746940 79 8750911 132 8752151 80 8756127 128 8757362 82 8761343 123 8762574 82 8766559 119 8767785 83 8771776 114 8772996 85 8776992 109 8778207 86 8782208 105 8783419 86 8787425 100 8788630 87 8792641 95 8793841 89 8797858 90 8799052 90 8803074 86 8804263 91 8808291 80 8809475 92 8813507 76 8814686 93 8818724 71 8819897 94 8823941 65 8825108 96 8829157 61 8830320 96 8834374 56 8835531 97 8839590 51 8840742 99 8844807 46 8845953 100 8850023 42 8851164 101 8855240 36 8856376 102 8860456 32 8861587 103 8865673 27 8866798 104 8870889 22 8872009 106 8876106 17 8877221 106 8881323 12 8882432 107 8886539 7 8887643 109 8891756 2 8892854 110 8898065 111 8903277 111 8908488 113 8913699 114 8918910 115 8924121 117 8929333 117 8934544 119 8939755 120 8944966 122 8950178 122 8955389 124 8960600 126 8965811 127 8971022 129 8976234 129 8981445 131 8986656 132 8991867 134 8997079 135 9002290 136 9007501 138 9012712 139 9017923 141 9023135 141 9028346 143 9033557 145 9038768 146 9043980 147 9049191 148 9054402 150 9059613 151 9064824 153 9070036 154 9075247 155 9080458 157 9085669 158 9090881 159 9096092 161 9101303 162 9106514 164 9111725 165 9116937 166 9122148 167 9127359 169 9132570 171 9137781 172 9142993 173 9148204 174 9153415 176 9158626 177 9163838 178 9169049 180 9174260 181 9179471 183 9184682 184 9189894 185 9195105 186 9200316 188 9205527 190 9210739 190 9215950 192 9221161 193 9226372 195 9231583 196 9236795 197 9242006 199 9247217 200 9252428 202 9257640 202 9262851 204 9268062 205 9273274 206 9278485 208 9283696 209 9288908 210 9294119 211 9299330 213 9304542 213 9309753 215 9314964 217 9320176 217 9325387 219 9330599 219 9335810 221 9341021 222 9346233 223 9351444 225 9356655 226 9361867 227 9367078 228 9372289 230 9377501 230 9382712 232 9387923 234 9393135 234 9398346 236 9403558 236 9408769 238 9413980 239 9419192 240 9424403 242 9429614 243 9434826 244 9440037 245 9445248 247 9450460 247 9455671 249 9460882 251 9466094 251 9471305 253 9476516 254 9481728 255 9486939 256 9492151 257 9497362 259 9502573 260 9507785 261 9512996 262 9518207 264 9523419 264 9528630 266 9533841 268 9539053 268 9544264 270 9549475 271 9554687 272 9559898 273 9565110 274 9570321 276 9575532 277 9580744 278 9585955 279 9591166 281 9596378 281 9601589 283 9606800 285 9612012 285 9617223 287 9622434 288 9627646 289 9632857 290 9638068 292 9643280 293 9648491 294 9653703 295 9658914 296 9664125 298 9669337 298 9674548 300 9679759 302 9684971 302 9690182 303 9695393 305 9700605 305 9705816 306 9711027 307 9716239 308 9721450 309 9726662 309 9731873 310 9737084 312 9742296 312 9747507 313 9752718 314 9757930 315 9763141 316 9768352 317 9773564 317 9778775 319 9783986 320 9789198 320 9794409 321 9799621 322 9804832 323 9810043 324 9815255 324 9820466 326 9825677 327 9830889 327 9836100 328 9841311 330 9846523 330 9851734 331 9856945 332 9862157 333 9867368 334 9872579 335 9877791 335 9883002 337 9888214 337 9893425 338 9898636 339 9903848 340 9909059 341 9914270 342 9919482 342 9924693 344 9929904 345 9935116 345 9940327 346 9945538 348 9950750 348 9955961 349 9961173 349 9966384 351 9971595 352 9976807 352 9982018 353 9987230 354 9992441 355 9997653 355 10002865 355 10008076 357 10013288 357 10018499 358 10023711 358 10028923 359 10034134 360 10039346 360 10044557 361 10049769 362 10054981 362 10060192 363 10065404 363 10070615 365 10075827 365 10081039 365 10086250 366 10091462 367 10096673 368 10101885 368 10107097 368 10112308 370 10117520 370 10122731 371 10127943 371 10133155 372 10138366 373 10143578 373 10148789 374 10154001 375 10159213 375 10164424 376 10169636 376 10174847 378 10180059 378 10185271 378 10190482 379 10195694 380 10200905 381 10206117 381 10211329 381 10216540 383 10221752 383 10226963 384 10232175 384 10237387 385 10242598 386 10247810 386 10253021 387 10258233 388 10263445 388 10268656 389 10273868 389 10279079 391 10284291 391 10289503 391 10294714 392 10299926 393 10305137 394 10310349 394 10315561 394 10320772 396 10325984 396 10331195 397 10336407 397 10341619 398 10346830 399 10352042 399 10357253 400 10362465 401 10367677 401 10372888 402 10378100 402 10383311 404 10388523 404 10393735 404 10398946 405 10404158 406 10409369 407 10414581 407 10419793 407 10425004 409 10430216 409 10435427 410 10440639 410 10445851 411 10451062 412 10456274 412 10461485 413 10466697 414 10471909 414 10477120 415 10482332 416 10487543 417 10492755 417 10497967 418 10503178 419 10508390 419 10513601 421 10518813 421 10524025 421 10529236 423 10534448 423 10539659 424 10544871 425 10550083 425 10555294 426 10560506 427 10565717 428 10570929 428 10576141 429 10581352 430 10586564 430 10591775 432 10596987 432 10602199 432 10607410 434 10612622 434 10617833 435 10623045 436 10628257 436 10633468 437 10638680 438 10643891 439 10649103 439 10654315 440 10659526 441 10664738 441 10669949 443 10675161 443 10680373 443 10685584 445 10690796 445 10696007 446 10701219 447 10706431 447 10711642 448 10716854 449 10722066 449 10727279 448 10732491 449 10737703 449 10742915 449 10748127 450 10753340 449 10758552 449 10763764 450 10768976 450 10774189 449 10779401 450 10784613 450 10789825 450 10795038 450 10800250 450 10805462 450 10810674 451 10815887 450 10821099 451 10826311 451 10831523 451 10836736 451 10841948 451 10847160 451 10852372 452 10857585 451 10862797 451 10868009 452 10873221 452 10878434 451 10883646 452 10888858 452 10894070 452 10899283 452 10904495 452 10909707 452 10914919 453 10920131 453 10925344 452 10930556 453 10935768 453 10940980 453 10946193 453 10951405 453 10956617 453 10961829 454 10967042 453 10972254 453 10977466 454 10982678 454 10987891 453 10993103 454 10998315 454 11003527 454 11008740 454 11013952 454 11019164 454 11024376 455 11029589 454 11034801 454 11040013 455 11045225 455 11050438 454 11055650 455 11060862 455 11066074 455 11071287 455 11076499 455 11081711 455 11086923 456 11092135 456 11097348 455 11102560 456 11107772 456 11112984 456 11118197 456 11123409 456 11128621 456 11133833 457 11139046 456 11144258 456 11149470 457 11154682 457 11159895 456 11165107 457 11170319 457 11175531 457 11180744 457 11185956 457 11191168 457 11196380 458 11201593 457 11206805 457 11212017 458 11217229 458 11222442 457 11227654 458 11232866 458 11238078 458 11243291 458 11248503 458 11253715 458 11258927 459 11264139 459 11269352 458 11274564 459 11279776 459 11284988 459 11290201 459 11295413 459 11300625 459 11305837 460 11311050 459 11316262 459 11321474 460 11326686 460 11331899 459 11337111 460 11342323 460 11347535 460 11352748 460 11357960 460 11363172 460 11368384 461 11373597 460 11378809 460 11384021 461 11389233 461 11394446 460 11399658 461 11404870 461 11410082 461 11415295 461 11420507 461 11425719 461 11430931 462 11436144 461 11441356 461 11446568 462 11451780 462 11456992 462 11462205 462 11467417 462 11472629 462 11477841 463 11483054 462 11488266 462 11493478 463 11498690 463 11503903 462 11509115 463 11514327 463 11519539 463 11524752 463 11529964 463 11535176 463 11540388 464 11545601 463 11550813 463 11556025 464 11561237 464 11566450 463 11571662 464 11576874 464 11582086 464 11587299 464 11592511 464 11597723 464 11602935 465 11608148 464 11613360 464 11618572 465 11623785 464 11628997 464 11634209 465 11639422 464 11644634 465 11649846 466 11655059 465 11660271 466 11665483 466 11670696 466 11675908 467 11681120 467 11686333 467 11691545 468 11696757 468 11701969 469 11707182 469 11712394 469 11717606 470 11722819 470 11728031 470 11733243 471 11738456 470 11743668 471 11748880 472 11754093 471 11759305 472 11764517 473 11769730 472 11774942 473 11780154 474 11785367 473 11790579 474 11795791 475 11801004 474 11806216 475 11811428 475 11816641 475 11821853 476 11827065 476 11832278 476 11837490 477 11842702 477 11847915 477 11853127 478 11858339 478 11863551 479 11868764 479 11873976 479 11879188 480 11884401 479 11889613 480 11894825 481 11900038 480 11905250 481 11910462 482 11915675 481 11920887 482 11926099 483 11931312 482 11936524 483 11941736 484 11946949 483 11952161 484 11957373 484 11962586 484 11967798 485 11973010 485 11978223 485 11983435 486 11988647 486 11993860 486 11999072 487 12004284 487 12009496 488 12014709 488 12019921 488 12025133 489 12030346 488 12035558 489 12040770 490 12045983 489 12051195 490 12056408 490 12061620 490 12066833 490 12072046 490 12077258 490 12082471 490 12087683 491 12092896 490 12098109 490 12103321 490 12108534 490 12113746 491 12118959 490 12124171 491 12129384 491 12134597 490 12139809 491 12145022 491 12150234 491 12155447 491 12160660 491 12165872 491 12171085 491 12176297 491 12181510 491 12186723 491 12191935 491 12197148 491 12202360 492 12207573 491 12212786 491 12217998 492 12223211 491 12228423 492 12233636 492 12238849 491 12244061 492 12249274 491 12254486 492 12259699 492 12264911 492 12270124 492 12275337 492 12280549 492 12285762 492 12290974 493 12296187 492 12301400 492 12306612 493 12311825 492 12317037 493 12322250 492 12327463 492 12332675 493 12337888 492 12343100 493 12348313 493 12353526 492 12358738 493 12363951 493 12369163 493 12374376 493 12379589 493 12384801 493 12390014 493 12395116 2 12395226 493 12400331 4 12400439 493 12405546 7 12405651 494 12410761 10 12410864 493 12415975 13 12416077 493 12421190 16 12421289 494 12426405 18 12426502 493 12431620 21 12431714 494 12436835 24 12436927 494 12442049 27 12442140 493 12447264 30 12447352 494 12452479 32 12452565 494 12457694 35 12457777 494 12462909 38 12462990 494 12468123 41 12468203 493 12473338 44 12473412 497 12478553 46 12478617 505 12483768 49 12483823 511 12488983 564 12494197 563 12499412 560 12504627 558 12509842 556 12515056 554 12520271 552 12525486 550 12530701 547 12535916 545 12541130 543 12546345 541 12551560 539 12556775 536 12561990 534 12567204 533 12572419 530 12577634 528 12582849 526 12588064 523 12593278 522 12598493 520 12603708 517 12608923 515 12614138 512 12619353 510 12624568 508 12629783 505 12634998 503 12640213 501 12645428 498 12650642 497 12655857 495 12661072 492 12666287 490 12671502 487 12676717 322 12677041 161 12681932 320 12682256 159 12687147 318 12687471 156 12692362 316 12692686 154 12697577 314 12697901 151 12702792 313 12703116 149 12708006 312 12708331 146 12713221 310 12713546 144 12718436 308 12718761 142 12723651 306 12723976 139 12728866 304 12729191 137 12734081 303 12734406 134 12739296 301 12739620 133 12744511 299 12744835 131 12749726 297 12750050 128 12754941 295 12755265 126 12760156 293 12760480 123 12765371 292 12765695 121 12770585 291 12770910 118 12775800 289 12776125 116 12781015 287 12781340 114 12786230 285 12786555 111 12791445 283 12791770 109 12796660 282 12796985 106 12801875 280 12802200 104 12807090 278 12807415 102 12812305 276 12812629 100 12817520 274 12817844 98 12822735 272 12823059 95 12827949 272 12828274 93 12833164 270 12833489 90 12838379 268 12838704 88 12843594 266 12843919 86 12848809 264 12849134 83 12854024 262 12854349 81 12859239 261 12859564 78 12864454 259 12864779 76 12869669 257 12869994 74 12874884 255 12875209 71 12880099 253 12880424 69 12885314 251 12885638 67 12890528 251 12890853 65 12895743 249 12896068 62 12900958 247 12901283 60 12906173 245 12906498 58 12911388 243 12911713 55 12916602 242 12916928 53 12921817 241 12922143 50 12927032 239 12927358 48 12932247 237 12932573 46 12937462 235 12937788 43 12942676 234 12943003 41 12947891 232 12948218 38 12953106 231 12953433 36 12958321 229 12958647 34 12963536 227 12963862 32 12968750 226 12969077 30 12973965 224 12974292 27 12979180 222 12979507 25 12984395 221 12984722 22 12989610 219 12989937 20 12994824 218 12995152 18 13000039 216 13000367 15 13005254 214 13005582 13 13010469 212 13010797 10 13015684 211 13016012 8 13020898 210 13021227 5 13026113 208 13026442 3 13031328 206 13031656 2 13036543 204 13041758 202 13046972 202 13052187 200 13057402 198 13062617 196 13067832 194 13073047 192 13078262 191 13083477 189 13088692 122 13088828 51 13093908 112 13094061 31 13099123 104 13099295 10 13104338 95 13109554 85 13114769 76 13119984 68 13125199 59 13130415 49 13135630 41 13140845 32 13146061 22 13151276 13 13156491 5',\n",
       "  '4566382 8 4571592 25 4576803 41 4582013 58 4587223 75 4592433 92 4597644 104 4602854 112 4608064 120 4613274 128 4618485 135 4623695 143 4628905 151 4634116 158 4639326 166 4644537 173 4649749 179 4654962 184 4660174 190 4665386 197 4670599 202 4675811 208 4681023 214 4686235 220 4691448 225 4696660 231 4701872 237 4707085 242 4712297 248 4717509 253 4722722 257 4727934 263 4733146 268 4738358 273 4743571 278 4748783 283 4753995 289 4759208 293 4764420 298 4769632 304 4774845 308 4780057 313 4785269 319 4790481 324 4795694 329 4800906 334 4806119 338 4811332 343 4816544 348 4821757 352 4826970 357 4832182 362 4837395 367 4842608 371 4847820 376 4853033 381 4858246 385 4863458 390 4868671 395 4873884 399 4879095 417 4884305 446 4884793 30 4889515 522 4894725 527 4899935 531 4905145 535 4910355 539 4915565 543 4920775 548 4925985 552 4931194 557 4936404 561 4941614 566 4946824 570 4952034 574 4957244 578 4962454 583 4967664 587 4972874 591 4978084 595 4983294 599 4988504 604 4993714 608 4998924 612 5004134 616 5009343 622 5014552 627 5019761 632 5024970 636 5030179 640 5035388 644 5040597 648 5045806 653 5051015 657 5056224 661 5061433 665 5066642 670 5071851 674 5077060 678 5082269 682 5087478 686 5092687 689 5097896 693 5103105 696 5108314 700 5113523 703 5118732 706 5123941 710 5129150 713 5134359 716 5139568 720 5144777 723 5149985 727 5155194 731 5160403 734 5165611 738 5170818 744 5176025 749 5181232 755 5186439 760 5191646 765 5196853 771 5202060 776 5207267 781 5212474 787 5217570 26 5217681 792 5222783 33 5222888 796 5227996 40 5228095 801 5233208 48 5233302 805 5238421 56 5238509 810 5243634 63 5243716 814 5248846 71 5248923 819 5254059 895 5259272 893 5264484 893 5269697 891 5274910 890 5280122 889 5285335 888 5290548 886 5295760 886 5300973 884 5306186 883 5311398 883 5316611 881 5321824 880 5327036 879 5332249 878 5337462 876 5342674 876 5347887 874 5353100 873 5358311 873 5363521 875 5368731 877 5373940 879 5379150 881 5384360 882 5389570 884 5394780 885 5399990 887 5405199 889 5410409 891 5415619 892 5420829 894 5426039 896 5431249 897 5436458 901 5441668 904 5446878 908 5452088 911 5457298 915 5462508 918 5467717 922 5472927 926 5478137 929 5483346 934 5488556 937 5493766 941 5498976 944 5504185 949 5509395 952 5514605 956 5519815 959 5525024 964 5530234 967 5535444 971 5540654 974 5545863 978 5551073 982 5556283 985 5561494 988 5566705 990 5571916 993 5577127 995 5582338 998 5587548 1001 5592759 1004 5597970 1006 5603181 1009 5608392 1011 5613603 1014 5618814 1016 5624024 1019 5629235 1022 5634446 1024 5639657 1027 5644868 1029 5650079 1032 5655290 1034 5660500 1038 5665711 1040 5670922 1043 5676133 1045 5681344 1048 5686555 1050 5691766 1052 5696976 1056 5702187 1058 5707398 1061 5712609 1063 5717820 1066 5723031 1068 5728242 1071 5733452 1074 5738663 1076 5743874 1078 5749085 1080 5754296 1082 5759507 1084 5764717 1087 5769928 1089 5775139 1091 5780350 1093 5785561 1095 5790772 1097 5795983 1099 5801193 1102 5806405 1103 5811616 1105 5816827 1107 5822038 1109 5827249 1111 5832461 1112 5837672 1114 5842883 1116 5848094 1118 5853306 1119 5858517 1121 5863728 1123 5868939 1125 5874151 1126 5879362 1128 5884573 1130 5889784 1132 5894996 1133 5900207 1135 5905354 17 5905418 1137 5910562 52 5910629 1139 5915769 1212 5920977 1217 5926185 1222 5931393 1227 5936601 1232 5941809 1237 5947016 1243 5952224 1248 5957432 1253 5962638 1260 5967842 1269 5973047 1277 5978251 1286 5983456 1294 5988660 1303 5993864 1312 5999069 1320 6004273 1329 6009477 1338 6014682 1346 6019886 1355 6025091 1363 6030295 1372 6035499 1380 6040704 1388 6045909 1396 6051115 1403 6056322 1409 6061528 1416 6066734 1423 6071941 1430 6077147 1437 6082354 1443 6087560 1450 6092766 1457 6097973 1463 6103179 1470 6108385 1477 6113592 1483 6118798 1490 6124004 1497 6129211 1503 6134417 1510 6139623 1517 6144830 1524 6150036 1531 6155243 1537 6160449 1544 6165655 1551 6170862 1557 6176068 1564 6181274 1571 6186481 1577 6191687 1584 6196893 1591 6202100 1597 6207306 1604 6212513 1611 6217720 1617 6222927 1623 6228134 1629 6233341 1635 6238548 1641 6243755 1647 6248962 1653 6254169 1659 6259376 1665 6264583 1671 6269790 1677 6274997 1683 6280204 1689 6285411 1696 6290618 1702 6295825 1708 6301032 1714 6306239 1720 6311446 1726 6316653 1732 6321860 1303 6323174 424 6327067 1289 6328388 423 6332274 1275 6333602 422 6337481 1261 6338817 420 6342688 1247 6344031 419 6347895 1233 6349245 418 6353102 1219 6354459 418 6358309 1205 6359673 417 6363516 1199 6364887 416 6368723 1200 6370102 414 6373930 1201 6375316 413 6379137 1202 6380530 412 6384344 1203 6385744 411 6389551 1204 6390958 410 6394759 1204 6396173 408 6399967 1204 6401387 407 6405174 1205 6406601 406 6410382 1205 6411815 405 6415590 1205 6417029 404 6420798 1205 6422243 404 6426006 1205 6427458 402 6431214 1206 6432672 401 6436421 1207 6437886 400 6441629 1207 6443100 399 6446837 1207 6448314 398 6452045 1207 6453528 397 6457253 1207 6458743 395 6462461 1207 6463957 394 6467668 1208 6469171 393 6472876 1208 6474385 392 6478084 1208 6479599 391 6483292 1208 6484813 390 6488500 1208 6490028 388 6493708 1208 6495242 388 6498915 1209 6500456 387 6504123 1209 6505670 386 6509331 1209 6510884 385 6514539 1209 6516099 383 6519747 1209 6521313 382 6524955 1209 6526527 381 6530162 1210 6531741 380 6535370 1210 6536955 379 6540578 1211 6542169 378 6545786 1211 6547384 376 6550995 1210 6552598 375 6556205 1208 6557812 374 6561415 1206 6563026 372 6566625 1204 6568240 370 6571835 1202 6573454 368 6577045 1200 6578669 365 6582255 1199 6583883 363 6587465 1198 6589097 361 6592675 1198 6594311 359 6597885 1197 6599525 357 6603095 1197 6604740 354 6608305 1197 6609954 352 6613515 1196 6615168 350 6618725 1196 6620382 348 6623935 1195 6625596 346 6629145 1195 6630810 344 6634355 1195 6636025 341 6639565 1194 6641239 339 6644775 1194 6646453 337 6649985 1193 6651667 336 6655196 1192 6656881 334 6660407 1191 6662095 332 6665618 1189 6667310 329 6670829 1188 6672524 327 6676039 1187 6677738 325 6681250 1186 6682952 323 6686461 1185 6688166 321 6691672 1183 6693380 319 6696883 1182 6698595 316 6702094 1180 6703809 314 6707304 1180 6709023 312 6712515 1179 6714237 310 6717726 1177 6719451 308 6722937 1176 6724666 305 6728148 1174 6729880 303 6733359 1173 6735094 301 6738569 1173 6740308 299 6743780 1171 6745523 296 6748991 1170 6750738 293 6754202 1168 6755953 290 6759413 1167 6761168 287 6764624 1166 6766383 284 6769834 1165 6771599 280 6775045 1164 6776814 277 6780256 1162 6782029 274 6785467 1161 6787244 271 6790678 1160 6792459 268 6795889 1158 6797674 265 6801099 1156 6802889 262 6806310 1153 6808104 259 6811521 1149 6813319 257 6816732 1145 6818534 254 6821943 1141 6823749 251 6827154 1137 6828964 248 6832364 1135 6834179 245 6837575 1131 6839394 242 6842786 1127 6844609 239 6847997 1123 6849824 236 6853208 1119 6855039 233 6858419 1115 6860254 230 6863629 1113 6865469 227 6868840 1109 6870684 224 6874051 1105 6875899 221 6879262 1101 6881114 217 6884473 1097 6886329 213 6889684 1093 6891544 210 6894894 1091 6896759 206 6900105 1087 6901974 202 6905317 1082 6907189 199 6910528 1078 6912404 195 6915739 1074 6917619 191 6920950 1071 6922834 188 6926161 1067 6928049 184 6931373 1062 6933264 180 6936584 1058 6938479 177 6941795 1054 6943694 173 6947006 1050 6948909 169 6952217 1047 6954124 166 6957428 1043 6959339 162 6962640 1038 6964554 158 6967851 1034 6969769 155 6973062 1030 6974984 151 6978273 1028 6980199 147 6983484 1028 6985414 144 6988696 1027 6990629 140 6993907 1026 6995844 137 6999118 1026 7001059 133 7004329 1026 7006274 129 7009540 1026 7011489 126 7014751 1025 7016704 122 7019963 1024 7021919 118 7025174 1024 7027134 115 7030385 1024 7032349 111 7035596 1023 7037564 107 7040807 1023 7042779 104 7046019 1022 7047994 100 7051230 1022 7053209 96 7056441 1021 7058424 93 7061652 1021 7063639 89 7066863 1021 7068855 84 7072075 1020 7074071 80 7077288 1017 7079287 75 7082501 1015 7084503 70 7087713 1014 7089720 65 7092926 1011 7094936 60 7098139 1009 7100152 55 7103352 1007 7105368 51 7108564 1006 7110584 46 7113777 1003 7115800 41 7118990 1001 7121017 36 7124202 1000 7126233 31 7129415 998 7131449 27 7134628 995 7136665 22 7139841 993 7141881 17 7145053 992 7147097 13 7150266 990 7152314 7 7155479 987 7157530 2 7160692 985 7165904 984 7171117 982 7176330 979 7181542 978 7186755 976 7191968 973 7197181 971 7202393 970 7207606 968 7212819 965 7218032 963 7223244 962 7228457 960 7233670 957 7238882 956 7244095 954 7249308 952 7254521 949 7259733 948 7264946 946 7270159 943 7275371 942 7280584 940 7285797 938 7291010 935 7296222 934 7301435 932 7306648 930 7311861 927 7317074 925 7322287 923 7327500 921 7332713 918 7337927 915 7343140 913 7348353 911 7353566 908 7358779 906 7363993 903 7369206 901 7374419 898 7379632 896 7384846 893 7390059 891 7395272 888 7400485 886 7405699 883 7410912 881 7416125 879 7421338 876 7426552 873 7431765 871 7436978 869 7442191 866 7447405 863 7452618 861 7457831 859 7463044 856 7468257 854 7473471 851 7478684 849 7483897 847 7489110 844 7494324 841 7499537 839 7504750 837 7509963 834 7515177 831 7520390 829 7525603 827 7530816 825 7536030 821 7541243 819 7546456 817 7551669 815 7556883 811 7562096 809 7567310 806 7572523 804 7577737 800 7582951 797 7588164 795 7593378 792 7598591 790 7603805 786 7609018 784 7614232 781 7619445 779 7624659 775 7629873 772 7635086 770 7640300 767 7645513 765 7650727 761 7655940 758 7661154 754 7666367 751 7671581 748 7676795 744 7682008 741 7687222 737 7692435 734 7697649 730 7702863 727 7708076 724 7713290 720 7718504 716 7723717 713 7728931 709 7734145 705 7739358 703 7744572 699 7749786 695 7755000 691 7760213 688 7765427 684 7770641 681 7775854 678 7781068 674 7786282 670 7791495 667 7796709 663 7801923 659 7807136 657 7812350 653 7817564 649 7822777 646 7827991 642 7833204 639 7838418 636 7843632 632 7848845 629 7854059 625 7859273 621 7864486 618 7869700 615 7874913 612 7880127 608 7885341 605 7890554 603 7895768 600 7900981 598 7906195 596 7911409 593 7916622 591 7921836 589 7927050 586 7932263 584 7937477 581 7942690 580 7947904 577 7953117 575 7958331 572 7963544 571 7968757 569 7973971 566 7979184 565 7984398 562 7989611 560 7994825 557 8000038 556 8005252 553 8010465 551 8015679 549 8020892 547 8026106 544 8031319 542 8036532 541 8041746 538 8046959 536 8052173 534 8057386 532 8062600 529 8067813 527 8073027 525 8078240 523 8083454 520 8088667 519 8093881 516 8099094 514 8104307 512 8109521 510 8114734 508 8119948 505 8125161 503 8130375 501 8135588 499 8140802 496 8146015 495 8151229 492 8156442 490 8161656 487 8166869 486 8172083 483 8177296 481 8182509 480 8187723 477 8192936 475 8198150 472 8203363 471 8208577 468 8213790 466 8219004 464 8224217 462 8229430 460 8234644 457 8239857 456 8245070 454 8250284 451 8255497 450 8260710 448 8265924 445 8268042 131 8271137 443 8273120 285 8276350 442 8278306 330 8281564 439 8283491 377 8286777 437 8288677 423 8291991 435 8293863 469 8297204 433 8299049 514 8302417 431 8304234 561 8307631 428 8309420 607 8312844 427 8314606 653 8318057 425 8319792 698 8323271 422 8324977 745 8328484 420 8330163 787 8333697 419 8335360 813 8338911 416 8340569 827 8344124 414 8345778 842 8349337 413 8350986 857 8354551 410 8356195 871 8359764 408 8361404 886 8364977 406 8366613 900 8370191 404 8371821 915 8375404 402 8377030 930 8380618 399 8382239 944 8385831 398 8387447 959 8391044 396 8392656 974 8396258 393 8397865 988 8401471 391 8403074 1002 8406684 390 8408282 1018 8411898 387 8413491 1032 8417111 385 8418700 1046 8422325 383 8423908 1062 8427539 380 8429117 1076 8432752 379 8434326 1090 8437966 377 8439535 1105 8443179 375 8444743 1120 8448393 373 8449952 1134 8453606 372 8455161 1147 8458820 369 8460370 1158 8464034 367 8465578 1169 8469247 366 8470787 1180 8474461 363 8475996 1191 8479674 362 8481204 1203 8484888 360 8486413 1213 8490102 357 8491622 1224 8495315 356 8496831 1235 8500529 354 8502039 1247 8505742 352 8507246 1260 8510956 350 8512454 1271 8516170 348 8517662 1283 8521383 7 8521399 330 8522869 1296 8526615 326 8528077 1308 8531831 322 8533284 1320 8537047 317 8538492 1332 8542263 313 8543702 1342 8547479 309 8548913 1351 8552695 304 8554124 1360 8557911 300 8559335 1368 8563127 296 8564546 1377 8568343 292 8569758 1385 8573559 287 8574969 1394 8578775 283 8580180 1402 8583991 279 8585391 1411 8589207 274 8590603 1419 8594423 270 8595814 1428 8599640 265 8601025 1436 8604856 260 8606236 1445 8610072 256 8611447 1454 8615288 252 8616659 1462 8620505 246 8621870 1471 8625721 242 8627081 1479 8630937 238 8632292 1488 8636153 233 8637504 1496 8641370 228 8642715 1505 8646586 224 8647926 1513 8651802 219 8653137 1522 8657018 215 8658348 1531 8662235 210 8663560 1538 8667451 205 8668771 1544 8672667 201 8673982 1550 8677883 197 8679193 1556 8683100 191 8684405 1561 8688316 187 8689616 1568 8693532 183 8694827 1574 8698748 178 8700038 1580 8703964 174 8705250 1585 8709181 169 8710461 1591 8714397 164 8715672 1598 8719613 160 8720883 1604 8724829 156 8726094 1610 8730046 150 8731306 1615 8735262 146 8736517 1621 8740478 142 8741728 1628 8745694 137 8746939 1634 8750911 132 8752151 1639 8756127 128 8757362 1645 8761343 123 8762573 1651 8766559 119 8767784 1658 8771776 114 8772995 1664 8776992 109 8778207 1669 8782208 105 8783418 1675 8787425 100 8788629 1681 8792641 95 8793840 1688 8797858 90 8799052 1693 8803074 86 8804263 1699 8808291 80 8809474 1705 8813507 76 8814685 1711 8818724 71 8819897 1717 8823941 65 8825108 1723 8829157 61 8830319 1729 8834374 56 8835530 1735 8839590 51 8840741 1741 8844807 46 8845953 1747 8850023 42 8851164 1753 8855240 36 8856375 1759 8860456 32 8861586 1765 8865673 27 8866798 1770 8870889 22 8872009 1774 8876106 17 8877220 1778 8881323 12 8882431 1782 8886539 7 8887642 1786 8891756 2 8892854 1790 8898065 1794 8903276 1798 8908487 1802 8913699 1806 8918910 1810 8924121 1814 8929332 1818 8934543 1823 8939755 1826 8944966 1830 8950177 1834 8955388 1839 8960600 1842 8965811 1846 8971022 1850 8976233 1855 8981445 1858 8986656 1862 8991867 1866 8997078 1871 9002289 1875 9007501 1878 9012712 1882 9017923 1887 9023134 1891 9028346 1894 9033557 1898 9038768 1903 9043979 1907 9049190 1911 9054402 1914 9059613 1918 9064824 1923 9070035 1927 9075247 1930 9080458 1934 9085669 1939 9090880 1943 9096091 1947 9101303 1950 9106514 1955 9111725 1959 9116936 1963 9122148 1966 9127359 1971 9132570 1975 9137781 1979 9142993 1982 9148204 1987 9153415 1991 9158626 1995 9163837 1999 9169049 2003 9174260 2007 9179471 2011 9184682 2015 9189894 2019 9195105 2023 9200316 2027 9205527 2031 9210738 2035 9215950 2038 9221161 2041 9226372 2044 9231583 2048 9236795 2050 9242006 2053 9247217 2057 9252428 2060 9257640 2062 9262851 2066 9268062 2069 9273274 2072 9278485 2075 9283696 2078 9288908 2081 9294119 2084 9299330 2087 9304542 2090 9309753 2093 9314964 2097 9320176 2099 9325387 2102 9330599 2105 9335810 2108 9341021 2111 9346233 2114 9351444 2117 9356655 2120 9361867 2123 9367078 2126 9372289 2130 9377501 2132 9382712 2135 9387923 2139 9393135 2141 9398346 2144 9403558 2147 9408769 2150 9413980 2154 9419192 2156 9424403 2159 9429614 2163 9434826 2165 9440037 2168 9445248 2172 9450460 2174 9455671 2178 9460882 2181 9466094 2183 9471305 2187 9476516 2190 9481728 2192 9486939 2196 9492151 2198 9497362 2201 9502573 2205 9507785 2207 9512996 2211 9518207 2214 9523419 2216 9528630 2220 9533841 2223 9539053 2225 9544264 2229 9549475 2232 9554687 2234 9559898 2237 9565110 2239 9570321 2242 9575532 2245 9580744 2246 9585955 2249 9591166 2252 9596378 2254 9601589 2257 9606800 2260 9612012 2262 9617223 2265 9622434 2268 9627646 2270 9632857 2273 9638068 2276 9643280 2278 9648491 2280 9653703 2282 9658914 2285 9664125 2288 9669337 2290 9674548 2293 9679759 2296 9684971 2298 9690182 2301 9695393 2304 9700605 2306 9705816 2309 9711027 2312 9716239 2313 9721450 2316 9726662 2318 9731873 2321 9737084 2324 9742296 2326 9747507 2329 9752718 2332 9757930 2334 9763141 2337 9768352 2340 9773564 2342 9778775 2344 9783986 2347 9789198 2349 9794409 2352 9799621 2354 9804832 2357 9810043 2360 9815255 2362 9820466 2365 9825677 2368 9830889 2370 9836100 2373 9841311 2376 9846523 2377 9851734 2380 9856945 2383 9862157 2385 9867368 2388 9872579 2391 9877791 2393 9883002 2396 9888214 2398 9893425 2401 9898636 2404 9903848 2406 9909059 2409 9914270 2411 9919482 2413 9924693 2416 9929904 2419 9935116 2421 9940327 2424 9945538 2427 9950750 2429 9955961 2432 9961173 2434 9966384 2437 9971595 2440 9976807 2442 9982018 2444 9987230 2446 9992441 2449 9997653 2451 10002865 2453 10008076 2456 10013288 2458 10018499 2461 10023711 2463 10028923 2465 10034134 2468 10039346 2470 10044557 2472 10049769 2474 10054981 2476 10060192 2479 10065404 2481 10070615 2484 10075827 2486 10081039 2488 10086250 2491 10091462 2493 10096673 2496 10101885 2498 10107097 2500 10112308 2502 10117520 2504 10122731 2507 10127943 2509 10133155 2511 10138366 2514 10143578 2516 10148789 2519 10154001 2521 10159213 2523 10164424 2526 10169636 2528 10174847 2531 10180059 2532 10185271 2534 10190482 2537 10195694 2539 10200905 2542 10206117 2544 10211329 2546 10216540 2549 10221752 2551 10226963 2554 10232175 2556 10237387 2558 10242598 2561 10247810 2562 10253021 2565 10258233 2567 10263445 2569 10268656 2572 10273868 2574 10279079 2577 10284291 2579 10289503 2581 10294714 2584 10299926 2586 10305137 2589 10310349 2591 10315561 2593 10320772 2595 10325984 2597 10331195 2600 10336407 2602 10341619 2604 10346830 2607 10352042 2609 10357253 2612 10362465 2614 10367677 2616 10372888 2619 10378100 2621 10383311 2624 10388523 2626 10393735 2628 10398946 2631 10404158 2632 10409369 2635 10414581 2637 10419793 2639 10425004 2642 10430216 2644 10435427 2647 10440639 2649 10445851 2651 10451062 2654 10456274 2656 10461485 2659 10466697 2661 10471909 2663 10477120 2666 10482332 2668 10487543 2670 10492755 2672 10497967 2674 10503178 2677 10508390 2679 10513601 2682 10518813 2684 10524025 2686 10529236 2689 10534448 2691 10539659 2694 10544871 2696 10550083 2698 10555294 2701 10560506 2703 10565717 2706 10570929 2708 10576141 2709 10581352 2712 10586564 2714 10591775 2717 10596987 2719 10602199 2721 10607410 2724 10612622 2726 10617833 2729 10623045 2731 10628257 2733 10633468 2736 10638680 2738 10643891 2741 10649103 2743 10654315 2745 10659526 2747 10664738 2749 10669949 2752 10675161 2754 10680373 2756 10685584 2759 10690796 2761 10696007 2764 10701219 2766 10706431 2768 10711642 2771 10716854 2773 10722066 2775 10727279 2776 10732491 2778 10737703 2780 10742915 2781 10748127 2783 10753340 2784 10758552 2786 10763764 2788 10768976 2790 10774189 2791 10779401 2793 10784613 2795 10789825 2797 10795038 2798 10800250 2800 10805462 2802 10810674 2804 10815887 2805 10821099 2807 10826311 2808 10831523 2810 10836736 2811 10841948 2813 10847160 2815 10852372 2817 10857585 2818 10862797 2820 10868009 2822 10873221 2824 10878434 2825 10883646 2827 10888858 2829 10894070 2831 10899283 2832 10904495 2834 10909707 2835 10914919 2837 10920131 2839 10925344 2840 10930556 2842 10935768 2844 10940980 2846 10946193 2847 10951405 2849 10956617 2851 10961829 2853 10967042 2854 10972254 2856 10977466 2858 10982678 2860 10987891 2861 10993103 2863 10998315 2864 11003527 2866 11008740 2867 11013952 2869 11019164 2871 11024376 2873 11029589 2874 11034801 2876 11040013 2878 11045225 2880 11050438 2881 11055650 2883 11060862 2885 11066074 2887 11071287 2888 11076499 2890 11081711 2891 11086923 2893 11092135 2895 11097348 2896 11102560 2898 11107772 2900 11112984 2902 11118197 2903 11123409 2905 11128621 2907 11133833 2909 11139046 2910 11144258 2912 11149470 2914 11154682 2915 11159895 2916 11165107 2918 11170319 2920 11175531 2922 11180744 2923 11185956 2925 11191168 2927 11196380 2929 11201593 2930 11206805 2932 11212017 2933 11217229 2935 11222442 2936 11227654 2938 11232866 2940 11238078 2942 11243291 2943 11248503 2945 11253715 2947 11258927 2949 11264139 2951 11269352 2951 11274564 2953 11279776 2955 11284988 2957 11290201 2958 11295413 2960 11300625 2962 11305837 2964 11311050 2965 11316262 2967 11321474 2969 11326686 2971 11331899 2971 11337111 2973 11342323 2975 11347535 2977 11352748 2978 11357960 2980 11363172 2982 11368384 2984 11373597 2985 11378809 2987 11384021 2989 11389233 2990 11394446 2991 11399658 2993 11404870 2995 11410082 2997 11415295 2998 11420507 3000 11425719 3002 11430931 3004 11436144 3005 11441356 3007 11446568 3009 11451780 3010 11456992 3012 11462205 3013 11467417 3015 11472629 3017 11477841 3019 11483054 3020 11488266 3022 11493478 3024 11498690 3026 11503903 3027 11509115 3028 11514327 3030 11519539 3032 11524752 3033 11529964 3035 11535176 3037 11540388 3039 11545601 3040 11550813 3042 11556025 3044 11561237 3046 11566450 3047 11571662 3048 11576874 3050 11582086 3052 11587299 3053 11592511 3055 11597723 3057 11602935 3059 11608148 3060 11613360 3062 11618572 3064 11623785 3065 11628997 3066 11634209 3068 11639422 3069 11644634 3071 11649846 3073 11655059 3074 11660271 3076 11665483 3078 11670696 3079 11675908 3081 11681120 3083 11686333 3083 11691545 3085 11696757 3087 11701969 3089 11707182 3090 11712394 3092 11717606 3094 11722819 3095 11728031 3097 11733243 3099 11738456 3100 11743668 3102 11748880 3103 11754093 3104 11759305 3106 11764517 3108 11769730 3109 11774942 3111 11780154 3113 11785367 3114 11790579 3116 11795791 3118 11801004 3119 11806216 3120 11811428 3122 11816641 3123 11821853 3125 11827065 3127 11832278 3128 11837490 3130 11842702 3132 11847915 3133 11853127 3135 11858339 3137 11863551 3139 11868764 3139 11873976 3141 11879188 3143 11884401 3144 11889613 3146 11894825 3148 11900038 3149 11905250 3151 11910462 3153 11915675 3154 11920887 3156 11926099 3157 11931312 3158 11936524 3160 11941736 3162 11946949 3163 11952161 3165 11957373 3167 11962586 3168 11967798 3170 11973010 3172 11978223 3173 11983435 3175 11988647 3176 11993860 3177 11999072 3179 12004284 3181 12009496 3183 12014709 3184 12019921 3186 12025133 3188 12030346 3189 12035558 3191 12040770 3193 12045983 3193 12051195 3195 12056408 3196 12061620 3198 12066833 3199 12072046 3200 12077258 3202 12082471 3203 12087683 3205 12092896 3206 12098109 3207 12103321 3208 12108534 3209 12113746 3211 12118959 3212 12124171 3214 12129384 3215 12134597 3216 12139809 3218 12145022 3219 12150234 3221 12155447 3222 12160660 3223 12165872 3224 12171085 3225 12176297 3227 12181510 3228 12186723 3229 12191935 3231 12197148 3232 12202360 3234 12207573 3235 12212786 3236 12217998 3238 12223211 3238 12228423 3240 12233636 3241 12238849 3242 12244061 3244 12249274 3245 12254486 3247 12259699 3248 12264911 3250 12270124 3251 12275337 3252 12280549 3254 12285762 3254 12290974 3256 12296187 3257 12301400 3258 12306612 3260 12311825 3261 12317037 3263 12322250 3264 12327463 3265 12332675 3267 12337888 3268 12343100 3269 12348313 3270 12353526 3240 12356772 25 12358738 3237 12361993 18 12363951 3233 12367214 11 12369163 3230 12372435 4 12374376 3227 12379589 3223 12384801 3220 12390014 3217 12395116 2 12395226 3214 12400331 4 12400439 3210 12405546 7 12405651 3207 12410761 10 12410864 3204 12415975 13 12416077 3200 12421190 16 12421289 3197 12426405 18 12426502 3194 12431620 21 12431714 3191 12436835 24 12436927 3187 12442049 27 12442140 3183 12447264 30 12447352 3180 12452479 32 12452565 3176 12457694 35 12457777 3173 12462909 38 12462990 3169 12468123 41 12468203 3165 12473338 44 12473412 3165 12478553 46 12478617 3169 12483768 49 12483823 3172 12488983 3221 12494197 3216 12499412 3210 12504627 3204 12509842 3198 12515056 3192 12520271 3186 12525486 3179 12530701 3172 12535916 3166 12541130 3160 12546345 3153 12551560 3146 12556775 3140 12561990 3133 12567204 3127 12572419 3120 12577634 3113 12582849 3107 12588064 3100 12593278 3096 12598493 3093 12603708 3089 12608923 3086 12614138 3083 12619353 3080 12624568 3077 12629783 3073 12634998 3070 12640213 3067 12645428 3064 12650642 3062 12655857 3059 12661072 3055 12666287 3052 12671502 3049 12676717 3046 12681932 3043 12687147 3039 12692362 3036 12697577 3033 12702792 3030 12708006 3028 12713221 3024 12718436 3021 12723651 3018 12728866 3015 12734081 3012 12739296 3009 12744511 3005 12749726 3002 12754941 2999 12760156 2996 12765371 2993 12770585 2990 12775800 2987 12781015 2984 12786230 2981 12791445 2978 12796660 2975 12801875 2973 12807090 2970 12812305 2967 12817520 2964 12822735 2961 12827949 2959 12833164 2957 12838379 2954 12843594 2951 12848809 2948 12854024 2945 12859239 2943 12864454 2940 12869669 2937 12874884 2934 12880099 2931 12885314 2929 12890528 2927 12895743 2924 12900958 2921 12906173 2918 12911388 2915 12916602 2914 12921817 2911 12927032 2908 12932247 2905 12937462 2902 12942676 2901 12947891 2898 12953106 2896 12958321 2896 12963536 2895 12968750 2896 12973965 2895 12979180 2895 12984395 2895 12989610 2894 12994824 2895 13000039 2894 13005254 2894 13010469 2893 13015684 2893 13020898 2894 13026113 2893 13031328 2893 13036543 2892 13041758 2892 13046972 2892 13052187 2892 13057402 2891 13062617 2891 13067832 2891 13073047 2890 13078262 2890 13083477 2889 13088692 2889 13093907 2888 13099123 2887 13104338 2887 13109553 2886 13114768 2886 13119984 2884 13125199 2884 13130414 2883 13135629 2883 13140845 2882 13146060 2881 13151275 2881 13156490 2880 13161705 2880 13166920 2879 13172134 2880 13177349 2879 13182563 2880 13187778 2880 13192993 2879 13198207 2880 13203422 2879 13208636 2880 13213851 2879 13219065 2880 13224280 2880 13229495 2879 13234709 2880 13239924 2879 13245138 2880 13250353 2879 13255567 2880 13260782 2879 13265997 2879 13271211 2880 13276426 2879 13281640 2880 13286855 2879 13292069 2880 13297284 2879 13302499 2879 13307713 2880 13312928 2879 13318142 2880 13323357 2879 13328571 2880 13333786 2879 13339000 2880 13344215 2879 13349430 2879 13354644 2880 13359859 2879 13365073 2880 13370288 2879 13375502 2880 13380717 2879 13385932 2879 13391146 2880 13396361 2879 13401575 2880 13406790 2879 13412004 2879 13417219 2879 13422434 2878 13427648 2878 13432863 2878 13438077 2878 13443292 2877 13448506 2878 13453721 2877 13458935 2877 13464150 2877 13469364 2877 13474579 2876 13479793 2877 13485008 2876 13490222 2876 13495437 2875 13500651 2876 13505866 2875 13511080 2875 13516295 2875 13521509 2875 13526724 2874 13531938 2875 13537153 2874 13542367 2874 13547582 2874 13552796 2874 13558011 2873 13563225 2874 13568440 2873 13573654 2873 13578869 2873 13584083 2873 13589298 2872 13594512 2872 13599727 2872 13604941 2872 13610156 2871 13615370 2872 13620585 2871 13625799 2871 13631014 2871 13636228 2871 13641443 2870 13646657 2871 13651872 2870 13657087 2869 13662301 2870 13667516 2869 13672730 2869 13677945 2869 13683159 2869 13688374 2868 13693588 2868 13698803 2868 13704017 2868 13709232 2867 13714446 2868 13719661 2867 13724875 2867 13730090 2867 13735304 2867 13740519 2866 13745733 2867 13750948 2866 13756162 2866 13761377 2866 13766591 2866 13771806 2865 13777020 2866 13782235 2865 13787449 2865 13792664 2864 13797878 2865 13803093 2864 13808307 2864 13813522 2864 13818736 2864 13823951 2863 13829165 2864 13834380 2863 13839594 2863 13844809 2863 13850023 2863 13855238 2862 13860452 2863 13865667 2862 13870881 2862 13876096 2862 13881310 2862 13886525 2861 13891739 2861 13896954 2861 13902168 2861 13907383 2860 13912597 2861 13917812 2860 13923026 2860 13928241 2860 13933455 2860 13938670 2859 13943884 2860 13949099 2859 13954313 2859 13959528 2859 13964742 2859 13969957 2858 13975171 2859 13980386 2858 13985600 2858 13990815 2857 13996029 2858 14001244 2857 14006458 2857 14011673 2857 14016887 2857 14022102 2856 14027317 2856 14032531 2856 14037746 2855 14042960 2856 14048175 2855 14053389 2855 14058604 2855 14063818 2855 14069033 2854 14074247 2855 14079462 2854 14084676 2854 14089891 2853 14095105 2854 14100320 2853 14105534 2853 14110749 2853 14115963 2853 14121178 2852 14126392 2853 14131607 2852 14136821 2852 14142036 2852 14147250 2852 14152465 2851 14157679 2852 14162894 2851 14168108 2851 14173323 2851 14178537 2851 14183752 2850 14188966 2850 14194181 2850 14199395 2850 14204610 2849 14209824 2850 14215039 2849 14220253 2849 14225468 2849 14230682 2849 14235897 2848 14241111 2849 14246326 2848 14251540 2848 14256755 2848 14261969 2848 14267184 2847 14272398 2848 14277613 2847 14282827 2847 14288042 2846 14293256 2847 14298471 2846 14303685 2846 14308900 2846 14314114 2846 14319329 2845 14324543 2846 14329758 2845 14334972 2845 14340187 2845 14345401 2845 14350616 2844 14355830 2845 14361045 2844 14366259 2844 14371474 2844 14376688 2844 14381903 2843 14387118 2842 14392332 2843 14397547 2842 14402761 2842 14407976 2842 14413190 2842 14418405 2841 14423619 2842 14428834 2841 14434048 2841 14439263 2841 14444477 2841 14449692 2840 14454906 2841 14460121 2840 14465335 2840 14470550 2840 14475764 2840 14480979 2839 14486193 2839 14491408 2839 14496622 2839 14501837 2838 14507051 2839 14512266 2838 14517480 2838 14522695 2838 14527909 2838 14533124 2838 14538338 2838 14543553 2837 14548767 2838 14553982 2837 14559196 2837 14564411 2837 14569625 2837 14574840 2836 14580054 2837 14585269 2836 14590483 2836 14595698 2836 14600912 2836 14606127 2835 14611341 2836 14616556 2835 14621770 2835 14626985 2835 14632199 2835 14637413 2835 14640432 3 14642628 2835 14645639 9 14647842 2835 14650846 15 14653057 2834 14656053 22 14658271 2835 14661261 27 14663486 2834 14666468 34 14668700 2834 14671675 40 14673915 2834 14676883 45 14679129 2834 14682092 50 14684344 2833 14687301 54 14689558 2834 14692510 59 14694773 2833 14697719 63 14699987 2833 14702928 67 14705202 2833 14708136 73 14710416 2833 14713345 77 14715631 2832 14718554 82 14720845 2833 14723763 86 14726060 2832 14728972 90 14731274 2832 14734181 95 14736489 2832 14739389 100 14741703 2832 14744598 105 14746918 2831 14749807 109 14752132 2832 14755016 113 14757347 2831 14760225 118 14762561 2831 14765434 122 14767776 2831 14770642 127 14772990 2831 14775851 132 14778205 2830 14781060 136 14783419 2831 14786269 141 14788634 2830 14791478 145 14793848 2830 14796687 149 14799063 2830 14801895 155 14804277 2986 14809492 2984 14814706 2982 14819921 2979 14825135 2977 14830350 2974 14835564 2973 14840779 2970 14845993 2968 14851208 2965 14856422 2963 14861637 2959 14866851 2957 14872066 2953 14877280 2950 14882495 2947 14887709 2944 14892924 2941 14898138 2938 14903352 2936 14908567 2932 14913781 2930 14918996 2926 14924210 2923 14929425 2920 14934639 2917 14939854 2913 14945068 2911 14950283 2907 14955497 2905 14960712 2901 14965926 2898 14971141 2895 14976355 2892 14981570 2888 14986784 2886 14991999 2882 14997213 2879 15002428 2875 15007642 2872 15012857 2867 15018071 2864 15023286 2860 15028500 2856 15033715 2852 15038929 2849 15044144 2844 15049358 2841 15054573 2837 15059787 2833 15065002 2829 15070216 2826 15075431 2822 15080645 2820 15085860 2819 15091074 2820 15096289 2819 15101503 2819 15106718 2818 15111932 2819 15117147 2818 15122361 2818 15127576 2817 15132790 2818 15138005 2817 15143219 2817 15148434 2816 15153648 2817 15158863 2816 15164077 2816 15169292 2816 15174506 2816 15179720 2816 15184935 2815 15190149 2816 15195364 2815 15200578 2815 15205793 2814 15211007 2815 15216222 2814 15221436 2814 15226651 2813 15231865 2814 15237080 2813 15242294 2813 15247509 2812 15252723 2813 15257938 2812 15263152 2812 15268367 2811 15273581 2812 15278796 2811 15284010 2811 15289225 2810 15294439 2811 15299654 2810 15304868 2810 15310083 2810 15315297 2810 15320512 2809 15325726 2809 15330941 2809 15336155 2809 15341370 2808 15346584 2808 15351799 2808 15357013 2808 15362228 2807 15367442 2807 15372657 2807 15377871 2807 15383086 2806 15388300 2806 15393515 2806 15398729 2806 15403944 2805 15409158 2805 15414373 2805 15419588 2804 15424802 2804 15430017 2803 15435231 2804 15440446 2803 15445660 2803 15450875 2803 15456089 2803 15461304 2802 15466518 2802 15471733 2802 15476947 2802 15482162 2801 15487376 2801 15492591 2801 15497805 2801 15503020 2800 15508234 2800 15513449 2800 15518663 2800 15523878 2799 15529092 2799 15534307 2799 15539521 2799 15544736 2798 15549951 2797 15555165 2798 15560380 2797 15565594 2797 15570809 2797 15576023 2797 15581238 2796 15586452 2796 15591667 2653 15594334 129 15596881 2649 15599571 106 15602096 2644 15604809 82 15607310 2640 15610047 58 15612525 2635 15615284 36 15617739 2631 15620522 12 15622954 2626 15628168 2622 15633383 2617 15638597 2613 15643812 2608 15649026 2604 15654241 2599 15659455 2595 15664670 2590 15669884 2586 15675099 2581 15680313 2577 15685528 2572 15690743 2567 15695957 2563 15701172 2558 15706386 2554 15711601 2549 15716815 2545 15722030 2540 15727244 2536 15732459 2531 15737673 2527 15742888 2523 15748102 2520 15753317 2516 15758531 2514 15763746 2510 15768960 2508 15774175 2504 15779389 2501 15784604 2498 15789818 2495 15795033 2492 15800247 2489 15805462 2486 15810676 2483 15815891 2479 15821106 2476 15826320 2473 15831535 2470 15836749 2467 15841964 2463 15847178 2461 15852393 2457 15857607 2455 15862822 2451 15868036 2448 15873251 2445 15878465 2442 15883680 2439 15888894 2436 15894109 2433 15899323 2430 15904538 2426 15909752 2424 15914967 2420 15920181 2418 15925396 2414 15930610 2411 15935825 2408 15941039 2405 15946254 2402 15951468 2399 15956683 2395 15961898 2392 15967112 2389 15972327 2386 15977541 2383 15982756 2380 15987970 2377 15993185 2373 15998399 2371 16003614 2367 16008828 2365 16014043 2361 16019257 2358 16024471 2356 16029686 2352 16034900 2350 16040115 2346 16045329 2343 16050544 2340 16055758 2337 16060972 2335 16066187 2331 16071401 2328 16076616 2325 16081830 2322 16087045 2319 16092259 2316 16097473 2314 16102688 2310 16107902 2307 16113117 2304 16118331 2301 16123545 2298 16128760 2294 16133974 2291 16139189 2287 16144403 2284 16149618 2280 16154832 2277 16160046 2274 16165261 2270 16170475 2267 16175690 2263 16180904 2260 16186119 2256 16191333 2253 16196547 2250 16201762 2246 16206976 2243 16212191 2239 16217405 2236 16222619 2233 16227834 2229 16233048 2226 16238263 2222 16243478 2218 16248694 2213 16253910 2208 16259126 2203 16264342 2198 16269558 2193 16274773 2189 16279989 2184 16285205 2179 16290421 2174 16295637 2169 16300853 2164 16306069 2159 16311285 2154 16316501 2149 16321717 2144 16326933 2139 16332149 2134 16337365 2129 16342581 2124 16347796 2120 16353012 2115 16358228 2110 16363444 2105 16368660 2100 16373876 2094 16379092 2089 16384308 2084 16389524 2079 16394740 2074 16399956 2069 16405172 2064 16410388 2059 16415604 2054 16420819 2050 16426035 2045 16431251 2040 16436467 2035 16441683 2030 16446899 2025 16452115 2020 16457331 2015 16462547 2010 16467763 2005 16472979 2000 16478195 1995 16483411 1990 16488627 1985 16493843 1980 16499058 1976 16504274 1971 16509490 1966 16514706 1961 16519922 1956 16525138 1951 16530354 1946 16535570 1941 16540786 1936 16546002 1931 16551218 1926 16556434 1921 16561650 1916 16566866 1911 16572081 1907 16577297 1902 16582513 1897 16587729 1892 16592945 1887 16598161 1882 16603377 1877 16608593 1872 16613809 1867 16619025 1862 16624241 1857 16629457 1852 16634673 1847 16639889 1842 16645104 1838 16650320 1833 16655536 1827 16660752 1822 16665968 1817 16671184 1812 16676400 1807 16681616 1802 16686832 1796 16692049 1789 16697268 1780 16702486 1773 16707705 1764 16712924 1755 16718142 1747 16723361 1738 16728579 1731 16733798 1722 16739016 1714 16744235 1705 16749454 1696 16754672 1688 16759891 1680 16765109 1672 16770328 1663 16775546 1655 16780765 1646 16785984 1637 16791202 1630 16796421 1621 16801639 1613 16806858 1604 16812077 1595 16817295 1587 16822514 1579 16827732 1571 16832951 1562 16838169 1554 16843388 1545 16848607 1536 16853825 1529 16859044 1520 16864262 1512 16869481 1503 16874699 1495 16879918 1486 16885137 1478 16890355 1470 16895574 1461 16900792 1453 16906011 1444 16911230 1435 16916448 1428 16921667 1419 16926885 1411 16932104 1402 16937322 1394 16942541 1385 16947760 1377 16952978 1369 16958197 1360 16963415 1352 16968634 1343 16973852 1335 16979071 1327 16984290 1318 16989508 1310 16994727 1301 16999945 1293 17005164 1284 17010383 1276 17015601 1268 17020820 1259 17026038 1251 17031257 1242 17036475 1234 17041694 1226 17046913 1217 17052131 1209 17057350 1200 17062568 1192 17067787 1183 17073005 1176 17078224 1167 17083443 1154 17088661 1139 17093880 1123 17099098 1108 17104317 1092 17109536 1076 17114754 595 17115359 456 17119973 580 17120585 433 17125191 566 17125810 411 17130410 551 17131035 389 17135628 538 17136260 367 17140847 523 17141485 345 17146066 508 17146710 322 17151289 489 17151935 300 17156517 465 17157161 277 17161745 441 17162386 255 17166973 417 17167611 233 17172201 394 17172836 211 17177429 370 17178061 189 17182657 346 17183286 167 17187885 322 17188511 145 17193113 298 17193737 122 17198341 274 17198962 100 17203569 250 17204187 78 17208797 227 17209412 56 17214025 203 17214637 34 17219253 179 17219862 11 17224481 155 17229709 131 17234937 107 17240165 83 17245393 60 17250621 36 17255849 12'],\n",
       " 'height': 5214,\n",
       " 'width': 3676}"
      ]
     },
     "execution_count": 398,
     "metadata": {},
     "output_type": "execute_result"
    }
   ],
   "source": [
    "dataset.image_info[0]"
   ]
  },
  {
   "cell_type": "code",
   "execution_count": 264,
   "metadata": {
    "ExecuteTime": {
     "end_time": "2020-04-06T20:14:16.850043Z",
     "start_time": "2020-04-06T20:14:16.846053Z"
    }
   },
   "outputs": [],
   "source": [
    "# Create Pytorch Dataloader\n",
    "data_loader = DataLoader(dataset, batch_size=2, shuffle=True, num_workers=1)"
   ]
  },
  {
   "cell_type": "code",
   "execution_count": 265,
   "metadata": {
    "ExecuteTime": {
     "end_time": "2020-04-06T20:14:16.872010Z",
     "start_time": "2020-04-06T20:14:16.852052Z"
    }
   },
   "outputs": [],
   "source": [
    "iter_dataset = iter(dataset)"
   ]
  },
  {
   "cell_type": "code",
   "execution_count": 266,
   "metadata": {
    "ExecuteTime": {
     "end_time": "2020-04-06T20:14:17.996625Z",
     "start_time": "2020-04-06T20:14:16.873979Z"
    }
   },
   "outputs": [
    {
     "name": "stdout",
     "output_type": "stream",
     "text": [
      "train\\00000663ed1ff0c4e0132b9b9ac53f6e.jpg\n"
     ]
    }
   ],
   "source": [
    "# Get the first item of the iterator\n",
    "img, targets = next(iter_dataset)"
   ]
  },
  {
   "cell_type": "code",
   "execution_count": 267,
   "metadata": {
    "ExecuteTime": {
     "end_time": "2020-04-06T20:14:18.006473Z",
     "start_time": "2020-04-06T20:14:17.997463Z"
    }
   },
   "outputs": [
    {
     "data": {
      "text/plain": [
       "{'boxes': tensor([[ 81., 194., 197., 255.],\n",
       "         [ 85.,  68., 166., 195.],\n",
       "         [114.,  68., 166.,  92.],\n",
       "         [173.,  90., 230., 225.],\n",
       "         [145., 124., 179., 130.],\n",
       "         [154., 185., 186., 197.],\n",
       "         [ 79.,  88., 103., 155.],\n",
       "         [ 86.,  71., 175., 166.],\n",
       "         [ 61.,  71., 230., 239.]]),\n",
       " 'labels': tensor([ 7,  1, 29, 32, 33, 33, 32, 30,  5], dtype=torch.uint8),\n",
       " 'masks': tensor([[[0, 0, 0,  ..., 0, 0, 0],\n",
       "          [0, 0, 0,  ..., 0, 0, 0],\n",
       "          [0, 0, 0,  ..., 0, 0, 0],\n",
       "          ...,\n",
       "          [0, 0, 0,  ..., 0, 0, 0],\n",
       "          [0, 0, 0,  ..., 0, 0, 0],\n",
       "          [0, 0, 0,  ..., 0, 0, 0]],\n",
       " \n",
       "         [[0, 0, 0,  ..., 0, 0, 0],\n",
       "          [0, 0, 0,  ..., 0, 0, 0],\n",
       "          [0, 0, 0,  ..., 0, 0, 0],\n",
       "          ...,\n",
       "          [0, 0, 0,  ..., 0, 0, 0],\n",
       "          [0, 0, 0,  ..., 0, 0, 0],\n",
       "          [0, 0, 0,  ..., 0, 0, 0]],\n",
       " \n",
       "         [[0, 0, 0,  ..., 0, 0, 0],\n",
       "          [0, 0, 0,  ..., 0, 0, 0],\n",
       "          [0, 0, 0,  ..., 0, 0, 0],\n",
       "          ...,\n",
       "          [0, 0, 0,  ..., 0, 0, 0],\n",
       "          [0, 0, 0,  ..., 0, 0, 0],\n",
       "          [0, 0, 0,  ..., 0, 0, 0]],\n",
       " \n",
       "         ...,\n",
       " \n",
       "         [[0, 0, 0,  ..., 0, 0, 0],\n",
       "          [0, 0, 0,  ..., 0, 0, 0],\n",
       "          [0, 0, 0,  ..., 0, 0, 0],\n",
       "          ...,\n",
       "          [0, 0, 0,  ..., 0, 0, 0],\n",
       "          [0, 0, 0,  ..., 0, 0, 0],\n",
       "          [0, 0, 0,  ..., 0, 0, 0]],\n",
       " \n",
       "         [[0, 0, 0,  ..., 0, 0, 0],\n",
       "          [0, 0, 0,  ..., 0, 0, 0],\n",
       "          [0, 0, 0,  ..., 0, 0, 0],\n",
       "          ...,\n",
       "          [0, 0, 0,  ..., 0, 0, 0],\n",
       "          [0, 0, 0,  ..., 0, 0, 0],\n",
       "          [0, 0, 0,  ..., 0, 0, 0]],\n",
       " \n",
       "         [[0, 0, 0,  ..., 0, 0, 0],\n",
       "          [0, 0, 0,  ..., 0, 0, 0],\n",
       "          [0, 0, 0,  ..., 0, 0, 0],\n",
       "          ...,\n",
       "          [0, 0, 0,  ..., 0, 0, 0],\n",
       "          [0, 0, 0,  ..., 0, 0, 0],\n",
       "          [0, 0, 0,  ..., 0, 0, 0]]], dtype=torch.uint8),\n",
       " 'image_id': tensor([0], dtype=torch.int32),\n",
       " 'area': tensor([ 7076., 10287.,  1248.,  7695.,   204.,   384.,  1608.,  8455., 28392.])}"
      ]
     },
     "execution_count": 267,
     "metadata": {},
     "output_type": "execute_result"
    }
   ],
   "source": [
    "targets"
   ]
  },
  {
   "cell_type": "code",
   "execution_count": 268,
   "metadata": {
    "ExecuteTime": {
     "end_time": "2020-04-06T20:14:18.012457Z",
     "start_time": "2020-04-06T20:14:18.007436Z"
    }
   },
   "outputs": [
    {
     "data": {
      "text/plain": [
       "torch.Size([256, 256, 9])"
      ]
     },
     "execution_count": 268,
     "metadata": {},
     "output_type": "execute_result"
    }
   ],
   "source": [
    "targets['masks'].shape"
   ]
  },
  {
   "cell_type": "code",
   "execution_count": 269,
   "metadata": {
    "ExecuteTime": {
     "end_time": "2020-04-06T20:14:18.126119Z",
     "start_time": "2020-04-06T20:14:18.014417Z"
    }
   },
   "outputs": [
    {
     "data": {
      "text/plain": [
       "<matplotlib.image.AxesImage at 0x1f563402790>"
      ]
     },
     "execution_count": 269,
     "metadata": {},
     "output_type": "execute_result"
    },
    {
     "data": {
      "image/png": "[encoded data removed]",
      "text/plain": [
       "<Figure size 432x288 with 1 Axes>"
      ]
     },
     "metadata": {
      "needs_background": "light"
     },
     "output_type": "display_data"
    }
   ],
   "source": [
    "plt.imshow(img)"
   ]
  },
  {
   "cell_type": "code",
   "execution_count": 405,
   "metadata": {
    "ExecuteTime": {
     "end_time": "2020-04-08T00:09:00.167138Z",
     "start_time": "2020-04-08T00:09:00.018488Z"
    }
   },
   "outputs": [
    {
     "data": {
      "text/plain": [
       "<matplotlib.image.AxesImage at 0x1f55ef24130>"
      ]
     },
     "execution_count": 405,
     "metadata": {},
     "output_type": "execute_result"
    },
    {
     "data": {
      "image/png": "[encoded data removed]",
      "text/plain": [
       "<Figure size 432x288 with 1 Axes>"
      ]
     },
     "metadata": {
      "needs_background": "light"
     },
     "output_type": "display_data"
    }
   ],
   "source": [
    "plt.imshow(np.array(targets['masks'])[:,:,0].astype(np.uint8))"
   ]
  },
  {
   "cell_type": "markdown",
   "metadata": {},
   "source": [
    "### Ensure decorder works"
   ]
  },
  {
   "cell_type": "code",
   "execution_count": 409,
   "metadata": {
    "ExecuteTime": {
     "end_time": "2020-04-08T00:11:57.353581Z",
     "start_time": "2020-04-08T00:11:57.349591Z"
    }
   },
   "outputs": [
    {
     "data": {
      "text/plain": [
       "'8521389 10 8526585 30 8531789 42 8537002 46 8542215 49 8547428 52 8552641 55 8557854 58 8563067 61 8568279 66 8573492 69 8578705 72 8583918 75 8589131 78 8594344 82 8599557 85 8604769 89 8609982 92 8615195 95 8620408 98 8625621 102 8630834 105 8636047 108 8641259 112 8646472 115 8651685 118 8656898 122 8662111 125 8667324 128 8672537 131 8677750 134 8682962 139 8688175 142 8693388 145 8698601 148 8703814 87 8703904 61 8709027 87 8709122 59 8714240 87 8714341 57 8719452 87 8719559 55 8724665 87 8724777 53 8729878 87 8729995 51 8735091 86 8735214 48 8740304 86 8740432 47 8745517 86 8745648 47 8750730 85 8750864 47 8755942 86 8756079 48 8761155 86 8761294 49 8766368 85 8766509 50 8771581 85 8771724 52 8776794 84 8776939 53 8782007 84 8782154 54 8787220 83 8787369 56 8792433 82 8792585 56 8797645 83 8797800 58 8802858 82 8803015 59 8808071 82 8808230 61 8813284 81 8813445 62 8818497 81 8818660 64 8823710 80 8823875 66 8828923 80 8829090 67 8834135 80 8834306 68 8839348 80 8839521 69 8844561 79 8844736 71 8849774 78 8849951 72 8854987 78 8855166 74 8860200 77 8860381 75 8865413 77 8865596 77 8870625 77 8870811 78 8875838 77 8876027 79 8881051 76 8881242 81 8886264 76 8886457 82 8891477 75 8891672 84 8896690 75 8896887 84 8901903 74 8902102 84 8907116 74 8907317 84 8912328 74 8912532 84 8917541 73 8917747 84 8922754 73 8922962 84 8927967 72 8928176 85 8933180 72 8933391 84 8938393 71 8938606 83 8943606 71 8943821 80 8948818 71 8949035 79 8954031 71 8954250 76 8959244 70 8959465 73 8964457 70 8964679 72 8969670 69 8969894 69 8974883 68 8975109 67 8980096 68 8980324 64 8985308 68 8985538 62 8990521 68 8990753 60 8995734 67 8995968 57 9000947 67 9001183 54 9006160 66 9006397 53 9011373 66 9011612 50 9016586 65 9016827 47 9021799 65 9022041 46 9027012 64 9027256 42 9032225 64 9032471 37 9037438 63 9037686 33 9042651 62 9042900 29 9047864 62 9048115 24 9053077 61 9053330 20 9058290 61 9058544 16 9063503 60 9063759 11 9068716 60 9068974 6 9073929 59 9074189 2 9079142 59 9084355 58 9089568 58 9094781 57 9099994 56 9105207 56 9110420 55 9115633 55 9120846 54 9126059 54 9131272 53 9136485 53 9141698 52 9146911 52 9152124 51 9157337 51 9162550 50 9167763 49 9172976 49 9178189 48 9183402 48 9188615 47 9193828 47 9199041 46 9204254 46 9209467 45 9214680 45 9219893 45 9225106 45 9230319 45 9235532 44 9240745 44 9245958 44 9251171 44 9256384 44 9261597 43 9266810 43 9272023 43 9277236 43 9282449 43 9287662 42 9292875 42 9298088 42 9303301 42 9308514 42 9313727 41 9318940 41 9324153 41 9329366 41 9334579 41 9339796 36 9345017 28 9350238 20 9355459 12 9360679 5 10575655 1 10580867 5 10586079 8 10591291 11 10596503 14 10601715 17 10606927 20 10612139 21 10617351 23 10622564 24 10627777 24 10632990 25 10638204 24 10643417 25 10648630 25 10653843 26 10659057 26 10664270 26 10669483 28 10674697 30 10679910 32 10685123 35 10690337 37 10695550 40 10700763 42 10705977 44 10711190 47 10716403 50 10721616 53 10726830 54 10732043 57 10737256 60 10742470 62 10747683 64 10752896 67 10758110 69 10763323 72 10768536 74 10773750 76 10778963 79 10784176 82 10789389 85 10794603 86 10799816 89 10805029 92 10810243 94 10815456 96 10820669 99 10825883 101 10831096 104 10836309 107 10841523 108 10846736 111 10851949 114 10857162 117 10862375 119 10867589 121 10872802 124 10878015 127 10883228 129 10888441 132 10893654 135 10898868 137 10904081 140 10909294 143 10914507 146 10919720 149 10924934 151 10930147 154 10935360 157 10940573 160 10945786 163 10951000 165 10956213 168 10961426 171 10966639 174 10971852 176 10977066 178 10982279 181 10987492 184 10992705 187 10997918 190 11003132 192 11008345 195 11013558 198 11018771 201 11023984 204 11029198 206 11034411 209 11039624 212 11044837 215 11050050 218 11055264 220 11060477 223 11065690 226 11070903 229 11076116 232 11081330 234 11086543 237 11091756 239 11096969 242 11102182 245 11107396 247 11112609 250 11117822 253 11123035 256 11128248 259 11133462 260 11138675 263 11143888 266 11149101 269 11154314 272 11159528 274 11164741 277 11169954 280 11175167 282 11180380 285 11185594 287 11190807 290 11196020 293 11201233 296 11206446 299 11211660 301 11216873 303 11222086 306 11227299 309 11232512 312 11237726 314 11242939 316 11248152 316 11253365 317 11258578 318 11263792 317 11269005 318 11274218 318 11279431 319 11284644 319 11289858 319 11295071 320 11300284 320 11305497 320 11310710 320 11315924 318 11321137 318 11326350 318 11331563 317 11336776 317 11341989 317 11347203 315 11352416 315 11357629 314 11362842 314 11368055 314 11373269 312 11378482 312 11383695 312 11388908 311 11394121 311 11399335 309 11404548 309 11409761 309 11414974 308 11420187 308 11425401 307 11430614 306 11435827 306 11441040 305 11446253 305 11451467 304 11456680 303 11461893 303 11467106 303 11472319 302 11477533 301 11482746 300 11487959 300 11493172 300 11498385 299 11503599 298 11508812 298 11514025 297 11519238 297 11524451 296 11529665 295 11534878 295 11540091 294 11545304 294 11550517 294 11555731 292 11560944 292 11566157 291 11571370 291 11576583 291 11581797 289 11587010 289 11592223 289 11597436 288 11602649 287 11607863 286 11613076 285 11618289 284 11623502 284 11628715 283 11633929 281 11639142 281 11644355 280 11649568 279 11654781 278 11659995 277 11665208 276 11670421 275 11675634 275 11680847 274 11686061 272 11691274 272 11696487 271 11701700 270 11706913 270 11712127 268 11717340 267 11722553 267 11727766 266 11732979 265 11738192 264 11743406 263 11748619 262 11753832 261 11759045 261 11764258 260 11769472 258 11774685 258 11779898 257 11785111 256 11790324 256 11795538 254 11800751 253 11805964 252 11811177 252 11816390 251 11821603 250 11826817 249 11832030 248 11837243 247 11842456 247 11847669 246 11852883 244 11858096 244 11863309 243 11868522 242 11873735 242 11878948 241 11884162 239 11889375 238 11894588 238 11899801 237 11905014 236 11910228 235 11915441 234 11920654 233 11925867 233 11931080 232 11936294 230 11941507 230 11946720 229 11951933 228 11957146 227 11962359 227 11967573 225 11972786 224 11977999 224 11983212 223 11988425 222 11993639 221 11998852 220 12004065 219 12009278 219 12014491 218 12019705 216 12024918 216 12030131 215 12035344 214 12040557 213 12045770 213 12050984 211 12056197 211 12061410 210 12066623 210 12071836 210 12077050 208 12082263 208 12087476 207 12092689 207 12097902 207 12103116 205 12108329 205 12113542 204 12118755 204 12123968 203 12129181 203 12134395 202 12139608 201 12144821 201 12150034 200 12155247 200 12160461 199 12165674 198 12170887 198 12176100 197 12181313 197 12186526 197 12191737 198 12196948 200 12202159 201 12207371 202 12212582 204 12217793 205 12223005 206 12228216 207 12233427 209 12238638 211 12243850 211 12249061 213 12254272 214 12259486 213 12264703 208 12269919 205 12275136 201 12280352 197 12285569 193 12290785 189 12296002 185 12301218 182 12306434 178 12311651 174 12316867 170 12322084 166 12327300 163 12332517 158 12337733 155 12342950 150 12348166 147 12353383 143 12358599 139 12363816 135 12369032 131 12374249 127 12379465 124 12384682 119 12389898 116 12395115 111 12400332 107 12405550 101 12410767 97 12415985 92 12421203 86 12426421 81 12431639 75 12436857 70 12442074 66 12447292 60 12452510 55 12457728 49 12462946 44 12468164 39 12473381 31 12478599 18 12483817 6'"
      ]
     },
     "execution_count": 409,
     "metadata": {},
     "output_type": "execute_result"
    }
   ],
   "source": [
    "info['annotations'][2]"
   ]
  },
  {
   "cell_type": "code",
   "execution_count": 271,
   "metadata": {
    "ExecuteTime": {
     "end_time": "2020-04-06T20:14:18.337553Z",
     "start_time": "2020-04-06T20:14:18.239814Z"
    }
   },
   "outputs": [],
   "source": [
    "info = dataset.image_info[0]\n",
    "mask_list = info['annotations']\n",
    "h, w = info['height'], info['width']\n",
    "\n",
    "# Decode the original masks with re_decode()\n",
    "decode_ex = dataset.rle_decode(mask_list, h, w)"
   ]
  },
  {
   "cell_type": "code",
   "execution_count": 272,
   "metadata": {
    "ExecuteTime": {
     "end_time": "2020-04-06T20:14:18.872124Z",
     "start_time": "2020-04-06T20:14:18.338550Z"
    }
   },
   "outputs": [
    {
     "data": {
      "text/plain": [
       "<matplotlib.image.AxesImage at 0x1f55e9a3c70>"
      ]
     },
     "execution_count": 272,
     "metadata": {},
     "output_type": "execute_result"
    },
    {
     "data": {
      "image/png": "[encoded data removed]",
      "text/plain": [
       "<Figure size 432x288 with 1 Axes>"
      ]
     },
     "metadata": {
      "needs_background": "light"
     },
     "output_type": "display_data"
    }
   ],
   "source": [
    "plt.imshow(decode_ex[0])"
   ]
  },
  {
   "cell_type": "markdown",
   "metadata": {},
   "source": [
    "### Ensure encoder works"
   ]
  },
  {
   "cell_type": "code",
   "execution_count": 273,
   "metadata": {
    "ExecuteTime": {
     "end_time": "2020-04-06T20:14:18.877112Z",
     "start_time": "2020-04-06T20:14:18.873121Z"
    }
   },
   "outputs": [],
   "source": [
    "def rle_to_string(runs):\n",
    "    '''Turn rle array to string'''\n",
    "    return ' '.join(str(x) for x in runs)"
   ]
  },
  {
   "cell_type": "code",
   "execution_count": 274,
   "metadata": {
    "ExecuteTime": {
     "end_time": "2020-04-06T20:14:18.920992Z",
     "start_time": "2020-04-06T20:14:18.878108Z"
    }
   },
   "outputs": [
    {
     "data": {
      "text/plain": [
       "array([ 6068157,        7,  6073371, ...,       20, 14807263,        7],\n",
       "      dtype=int64)"
      ]
     },
     "execution_count": 274,
     "metadata": {},
     "output_type": "execute_result"
    }
   ],
   "source": [
    "# Original mask #1\n",
    "mask_1_encoded = dataset.rle_encode(decode_ex[0])\n",
    "mask_1_encoded"
   ]
  },
  {
   "cell_type": "code",
   "execution_count": 275,
   "metadata": {
    "ExecuteTime": {
     "end_time": "2020-04-06T20:14:18.928972Z",
     "start_time": "2020-04-06T20:14:18.921990Z"
    }
   },
   "outputs": [
    {
     "data": {
      "text/plain": [
       "'6068157 7 6073371 20 6078584 34 6083797 48 6089010 62 6094223 72 6099436 76 6104649 80 6109862 85 6115075 89 6120288 93 6125501 98 6130714 102 6135927 106 6141140 111 6146354 114 6151567 118 6156780 123 6161993 127 6167206 131 6172419 136 6177632 140 6182845 144 6188058 149 6193271 153 6198484 157 6203697 162 6208910 166 6214124 169 6219337 174 6224550 178 6229763 182 6234976 187 6240189 191 6245402 195 6250615 200 6255828 204 6261041 208 6266254 213 6271467 218 6276680 224 6281893 229 6287107 233 6292320 238 6297533 244 6302746 249 6307959 254 6313172 259 6318385 265 6323598 270 6328811 275 6334024 280 6339237 286 6344450 291 6349663 296 6354877 300 6360090 306 6365303 311 6370516 316 6375729 322 6380942 327 6386155 332 6391368 337 6396581 343 6401794 348 6407007 353 6412220 358 6417433 364 6422647 368 6427860 373 6433073 378 6438286 384 6443499 389 6448712 394 6453925 399 6459138 405 6464351 410 6469564 415 6474777 420 6479990 426 6485203 431 6490416 436 6495630 441 6500843 446 6506056 451 6511269 456 6516482 462 6521695 467 6526908 472 6532121 477 6537334 483 6542547 488 6547760 493 6552973 498 6558186 504 6563398 510 6568610 516 6573822 522 6579034 529 6584246 535 6589458 541 6594670 548 6599882 554 6605094 572 6610306 602 6615518 621 6620730 628 6625942 635 6631154 643 6636366 650 6641578 657 6646790 665 6652003 671 6657215 679 6662427 686 6667639 693 6672851 701 6678063 708 6683275 715 6688487 723 6693699 730 6698911 737 6704123 745 6709335 752 6714547 760 6719759 767 6724971 774 6730183 782 6735395 789 6740607 796 6745819 804 6751031 811 6756243 818 6761455 826 6766667 833 6771879 841 6777091 848 6782303 855 6787515 863 6792727 870 6797939 877 6803151 885 6808363 892 6813576 898 6818788 906 6824000 913 6829212 920 6834424 926 6839636 932 6844848 938 6850060 944 6855272 950 6860484 956 6865696 962 6870908 968 6876120 975 6881331 982 6886542 989 6891754 995 6896965 1002 6902176 1009 6907388 1015 6912599 1022 6917810 1029 6923022 1035 6928233 1042 6933444 1049 6938656 1055 6943867 1062 6949078 1069 6954290 1076 6959501 1083 6964712 1090 6969924 1096 6975135 1103 6980346 1110 6985558 1117 6990769 1125 6995981 1133 7001192 1141 7006403 1150 7011615 1157 7016826 1166 7022037 1174 7027249 1182 7032460 1190 7037671 1199 7042883 1206 7048094 1215 7053305 1223 7058517 1231 7063728 1239 7068939 1245 7074151 1247 7079362 1250 7084573 1253 7089785 1255 7094996 1258 7100207 1261 7105419 1263 7110630 1266 7115841 1269 7121053 1271 7126264 1274 7131476 1276 7136687 1279 7141898 1282 7147110 1284 7152321 1287 7157532 1290 7162746 1290 7167961 1289 7173176 1288 7178392 1286 7183607 1285 7188823 1283 7194038 1282 7199254 1280 7204469 1279 7209684 1278 7214900 1276 7220115 1275 7225331 1273 7230546 1272 7235761 1271 7240975 1271 7246190 1270 7251404 1270 7256618 1270 7261833 1269 7267047 1269 7272261 1269 7277476 1268 7282690 1268 7287904 1268 7293119 1267 7298333 1267 7303547 1267 7308762 1266 7313976 1266 7319190 1266 7324404 1266 7329619 1265 7334833 1265 7340047 1265 7345262 1264 7350476 1264 7355690 1264 7360905 1263 7366119 1263 7371333 1263 7376548 1262 7381762 1262 7386976 1262 7392191 1261 7397405 1261 7402619 1261 7407833 1261 7413048 1260 7418262 1260 7423476 1260 7428691 1259 7433905 1259 7439119 1259 7444334 1258 7449548 1258 7454762 1258 7459977 1257 7465191 1257 7470405 1257 7475620 1256 7480834 1256 7486048 1256 7491262 1256 7496477 1255 7501691 1255 7506905 1255 7512120 1254 7517334 1254 7522548 1254 7527763 1253 7532977 1253 7538191 1253 7543406 1252 7548620 1252 7553834 1252 7559049 1251 7564263 1251 7569477 1251 7574691 1251 7579906 1250 7585120 1250 7590334 1250 7595549 1249 7600763 1249 7605977 1249 7611192 1248 7616406 1248 7621620 1248 7626835 1247 7632049 1247 7637263 1247 7642478 1246 7647692 1246 7652906 1246 7658120 1246 7663335 1245 7668549 1245 7673763 1245 7678978 1244 7684192 1244 7689406 1244 7694621 1243 7699835 1243 7705049 1243 7710264 1242 7715478 1242 7720692 1242 7725907 1241 7731121 1241 7736335 1241 7741549 1241 7746764 1240 7751978 1240 7757192 1240 7762407 1239 7767621 1239 7772835 1239 7778050 1238 7783264 1238 7788478 1238 7793693 1237 7798907 1237 7804121 1237 7809336 1236 7814550 1236 7819764 1236 7824978 1236 7830193 1235 7835407 1235 7840621 1235 7845835 1235 7851049 1235 7856263 1235 7861477 1235 7866691 1235 7871905 1235 7877118 1236 7882332 1236 7887546 1236 7892760 1236 7897974 1236 7903188 1236 7908402 1236 7913616 1236 7918830 1236 7924044 1236 7929258 1236 7934472 1236 7939686 1236 7944900 1236 7950114 1236 7955328 1236 7960542 1236 7965755 1237 7970969 1237 7976183 1237 7981397 1237 7986611 1237 7991825 1237 7997039 1237 8002253 1237 8007467 1237 8012681 1237 8017895 1237 8023109 1237 8028323 1237 8033537 1237 8038751 1237 8043965 1237 8049178 1238 8054392 1238 8059606 1238 8064820 1238 8070034 1238 8075248 1238 8080462 1238 8085676 1238 8090890 1238 8096104 1238 8101318 1238 8106532 1238 8111746 1238 8116960 1238 8122174 1238 8127388 1238 8132602 1238 8137815 1239 8143029 1239 8148243 1239 8153457 1239 8158671 1239 8163885 1239 8169099 1239 8174313 1239 8179527 1239 8184741 1239 8189955 1239 8195169 1239 8200383 1239 8205597 1239 8210811 1239 8216025 1239 8221239 1239 8226452 1240 8231666 1240 8236880 1240 8242094 1240 8247308 1240 8252522 1240 8257736 1240 8262950 1240 8268173 1231 8273405 1213 8278636 1196 8283868 1178 8289100 1160 8294332 1142 8299563 1125 8304795 1107 8310027 1089 8315259 1071 8320490 1054 8325722 1036 8330950 1022 8336173 1013 8341396 1004 8346620 994 8351843 985 8357066 976 8362290 966 8367513 957 8372736 948 8377960 938 8383183 929 8388406 920 8393630 910 8398853 901 8404076 892 8409300 882 8414523 873 8419746 864 8424970 854 8430193 845 8435416 836 8440640 826 8445863 817 8451086 808 8456308 800 8461528 794 8466747 789 8471967 783 8477187 777 8482407 771 8487626 766 8492846 760 8498066 754 8503286 748 8508506 742 8513725 737 8518945 731 8524165 725 8529385 719 8534604 714 8539824 708 8545044 702 8550264 696 8555484 690 8560703 685 8565923 679 8571143 673 8576363 667 8581582 662 8586802 656 8592022 650 8597242 644 8602461 639 8607681 633 8612901 627 8618121 621 8623341 615 8628560 610 8633780 604 8639000 598 8644220 592 8649439 587 8654659 581 8659879 575 8665098 570 8670315 567 8675532 564 8680749 561 8685966 558 8691184 554 8696401 551 8701618 548 8706835 545 8712052 542 8717270 538 8722487 535 8727704 532 8732921 529 8738138 526 8743356 522 8748573 519 8753790 516 8759007 513 8764224 510 8769442 506 8774659 503 8779876 500 8785093 497 8790310 494 8795528 490 8800745 487 8805962 484 8811179 481 8816396 478 8821614 474 8826831 471 8832048 468 8837265 465 8842482 462 8847700 458 8852917 455 8858134 452 8863351 449 8868568 446 8873783 445 8878998 444 8884213 443 8889428 442 8894644 440 8899859 439 8905074 438 8910289 437 8915505 435 8920720 434 8925935 433 8931150 432 8936366 430 8941581 429 8946796 428 8952011 427 8957227 425 8962442 424 8967657 423 8972872 422 8978088 420 8983303 419 8988518 418 8993733 417 8998949 415 9004164 414 9009379 413 9014594 412 9019810 410 9025025 409 9030240 408 9035455 407 9040671 405 9045886 404 9051101 403 9056316 402 9061531 401 9066747 399 9071962 398 9077177 397 9082392 396 9087608 394 9092823 393 9098038 392 9103253 391 9108469 389 9113684 388 9118899 387 9124114 386 9129330 384 9134545 383 9139760 382 9144975 381 9150191 379 9155406 378 9160621 377 9165836 376 9171052 374 9176267 373 9181482 372 9186697 371 9191913 369 9197128 368 9202343 367 9207558 366 9212773 365 9217988 364 9223202 364 9228416 364 9233631 363 9238845 363 9244059 363 9249274 362 9254488 362 9259702 362 9264917 361 9270131 361 9275346 360 9280560 360 9285774 360 9290989 359 9296203 359 9301417 359 9306632 358 9311846 358 9317061 357 9322275 357 9327489 357 9332704 356 9337918 356 9343132 356 9348347 355 9353561 355 9358775 355 9363990 354 9369204 354 9374419 353 9379633 353 9384847 353 9390062 352 9395276 352 9400490 352 9405705 351 9410919 351 9416134 350 9421348 350 9426562 350 9431777 349 9436991 349 9442205 349 9447420 348 9452634 348 9457849 347 9463063 347 9468277 347 9473492 346 9478706 346 9483920 346 9489135 345 9494349 345 9499563 345 9504778 344 9509992 344 9515207 343 9520421 343 9525635 343 9530850 342 9536064 342 9541278 342 9546493 341 9551707 341 9556921 341 9562135 341 9567349 341 9572563 341 9577777 341 9582990 342 9588204 342 9593418 342 9598632 342 9603846 342 9609060 342 9614274 342 9619488 342 9624702 342 9629916 342 9635130 342 9640344 342 9645558 342 9650771 343 9655985 343 9661199 343 9666413 343 9671627 343 9676841 343 9682055 343 9687269 343 9692483 343 9697697 343 9702911 343 9708125 343 9713339 343 9718552 344 9723766 344 9728980 344 9734194 344 9739408 344 9744622 344 9749836 344 9755050 344 9760264 344 9765478 344 9770692 344 9775906 344 9781119 345 9786333 345 9791547 345 9796761 345 9801975 345 9807189 345 9812403 345 9817617 345 9822831 345 9828045 345 9833259 345 9838473 345 9843687 345 9848900 346 9854114 346 9859328 346 9864542 346 9869756 346 9874970 346 9880184 346 9885398 346 9890612 346 9895826 346 9901040 346 9906254 346 9911468 346 9916681 347 9921895 347 9927109 347 9932323 347 9937537 347 9942751 347 9947965 347 9953179 347 9958393 347 9963607 347 9968821 347 9974035 347 9979249 347 9984462 348 9989676 348 9994890 348 10000104 348 10005318 348 10010532 348 10015746 348 10020960 348 10026174 348 10031388 348 10036602 348 10041816 348 10047029 349 10052243 349 10057457 349 10062671 349 10067885 349 10073099 349 10078313 349 10083527 349 10088741 349 10093955 349 10099169 349 10104383 349 10109597 349 10114810 350 10120024 350 10125238 350 10130452 350 10135666 350 10140880 350 10146094 350 10151308 350 10156522 350 10161736 350 10166950 350 10172164 350 10177378 350 10182591 351 10187805 351 10193019 351 10198233 351 10203447 351 10208661 351 10213875 351 10219089 351 10224303 351 10229517 351 10234731 351 10239945 351 10245159 351 10250372 352 10255586 352 10260800 352 10266014 352 10271228 352 10276442 352 10281656 352 10286870 352 10292084 352 10297298 352 10302512 352 10307726 352 10312940 352 10318153 353 10323367 353 10328581 353 10333795 353 10339009 353 10344223 353 10349437 353 10354651 353 10359865 353 10365079 353 10370293 353 10375507 353 10380721 353 10385935 353 10391149 353 10396362 354 10401576 354 10406790 354 10412004 354 10417218 354 10422432 354 10427646 354 10432860 354 10438074 354 10443288 354 10448502 354 10453716 354 10458930 354 10464144 354 10469358 354 10474571 355 10479785 355 10484999 355 10490213 355 10495427 355 10500641 355 10505855 355 10511069 355 10516283 355 10521497 355 10526711 355 10531925 355 10537139 355 10542353 355 10547566 356 10552780 356 10557994 356 10563208 356 10568422 356 10573636 356 10578850 356 10584064 356 10589278 356 10594492 356 10599706 356 10604920 356 10610134 356 10615348 356 10620562 356 10625775 357 10630989 357 10636203 357 10641417 357 10646631 357 10651845 357 10657059 357 10662273 357 10667487 357 10672701 357 10677915 357 10683129 357 10688343 357 10693557 357 10698771 357 10703984 358 10709198 358 10714412 358 10719626 358 10724840 358 10730054 358 10735268 358 10740482 358 10745696 358 10750910 358 10756124 358 10761338 358 10766552 358 10771766 358 10776980 358 10782193 359 10787407 359 10792621 359 10797835 359 10803049 359 10808263 359 10813477 359 10818691 359 10823905 359 10829119 359 10834333 359 10839547 359 10844761 359 10849975 359 10855188 360 10860402 360 10865616 360 10870830 360 10876044 360 10881258 360 10886472 360 10891686 360 10896900 360 10902114 360 10907328 360 10912542 360 10917756 360 10922970 360 10928184 360 10933397 361 10938611 361 10943825 361 10949039 361 10954253 361 10959467 361 10964681 361 10969895 361 10975109 361 10980323 361 10985537 361 10990751 361 10995965 361 11001179 361 11006393 361 11011606 362 11016820 362 11022034 362 11027248 362 11032462 362 11037676 362 11042890 362 11048104 362 11053318 362 11058532 362 11063746 362 11068960 362 11074174 362 11079388 362 11084602 362 11089815 363 11095029 363 11100243 363 11105457 363 11110671 363 11115885 363 11121099 363 11126313 363 11131527 363 11136741 363 11141955 363 11147169 363 11152383 363 11157596 364 11162810 364 11168024 364 11173238 364 11178452 364 11183666 364 11188880 364 11194094 364 11199308 364 11204522 364 11209736 364 11214950 364 11220163 365 11225377 365 11230591 365 11235805 365 11241019 365 11246233 365 11251447 365 11256661 365 11261875 365 11267089 365 11272303 365 11277517 365 11282730 366 11287944 366 11293158 366 11298372 366 11303586 366 11308800 366 11314014 366 11319228 366 11324442 366 11329656 366 11334870 366 11340084 366 11345297 367 11350511 367 11355725 367 11360939 367 11366153 367 11371367 367 11376581 367 11381795 367 11387009 367 11392223 367 11397437 367 11402651 367 11407864 368 11413078 368 11418292 368 11423506 368 11428720 368 11433934 368 11439148 368 11444362 368 11449576 368 11454790 368 11460004 368 11465218 368 11470431 369 11475645 369 11480859 369 11486073 369 11491287 369 11496501 369 11501715 369 11506929 369 11512143 369 11517357 369 11522571 369 11527785 369 11532998 370 11538212 370 11543426 370 11548640 370 11553854 370 11559068 370 11564282 370 11569496 370 11574710 370 11579924 370 11585138 370 11590352 370 11595565 371 11600779 371 11605993 371 11611207 371 11616421 371 11621635 371 11626849 371 11632063 371 11637277 371 11642491 371 11647705 371 11652919 371 11658132 372 11663346 372 11668560 372 11673774 372 11678988 372 11684202 372 11689416 372 11694630 372 11699844 372 11705058 372 11710272 372 11715486 372 11720699 373 11725913 373 11731127 373 11736341 373 11741555 373 11746769 373 11751983 373 11757197 373 11762411 373 11767625 373 11772839 373 11778053 373 11783266 374 11788480 374 11793694 374 11798908 374 11804122 374 11809336 374 11814550 374 11819764 374 11824978 374 11830192 374 11835406 374 11840620 374 11845833 375 11851047 375 11856261 375 11861475 375 11866689 375 11871903 375 11877117 375 11882331 375 11887545 375 11892759 375 11897973 375 11903187 375 11908400 376 11913614 376 11918828 376 11924042 376 11929256 376 11934470 376 11939684 376 11944898 376 11950112 376 11955326 376 11960540 376 11965754 376 11970967 377 11976181 377 11981395 377 11986609 377 11991823 377 11997037 377 12002251 377 12007465 377 12012679 377 12017893 377 12023107 377 12028321 377 12033534 378 12038748 378 12043962 378 12049176 378 12054390 378 12059604 378 12064818 378 12070032 378 12075246 378 12080460 378 12085674 378 12090888 378 12096101 379 12101315 379 12106529 379 12111743 379 12116957 379 12122171 379 12127385 379 12132599 379 12137813 379 12143027 379 12148241 379 12153455 379 12158668 380 12163882 380 12169096 380 12174310 380 12179524 380 12184738 380 12189952 380 12195166 380 12200380 380 12205594 380 12210808 380 12216022 380 12221235 381 12226449 381 12231663 381 12236877 381 12242091 381 12247305 381 12252519 381 12257733 381 12262947 381 12268161 381 12273375 381 12278589 381 12283802 382 12289016 382 12294230 382 12299444 382 12304658 382 12309872 382 12315086 382 12320300 382 12325514 382 12330728 382 12335942 382 12341156 382 12346369 383 12351583 383 12356797 383 12362011 383 12367225 383 12372439 383 12377654 382 12382870 380 12388086 378 12393301 377 12398517 375 12403733 373 12408949 371 12414165 369 12419381 367 12424597 365 12429813 363 12435028 362 12440244 360 12445460 358 12450676 356 12455892 354 12461107 353 12466322 352 12471536 352 12476750 352 12481965 351 12487179 351 12492394 350 12497608 350 12502822 350 12508037 349 12513251 349 12518466 348 12523680 348 12528894 348 12534109 347 12539323 347 12544537 347 12549752 346 12554966 346 12560181 345 12565395 345 12570609 345 12575824 344 12581038 344 12586253 343 12591467 343 12596681 343 12601896 342 12607110 342 12612325 341 12617539 341 12622753 341 12627968 340 12633182 340 12638397 339 12643611 339 12648825 339 12654040 338 12659254 338 12664469 337 12669683 337 12674897 337 12680112 336 12685326 336 12690541 335 12695755 335 12700969 335 12706184 334 12711398 334 12716612 334 12721826 334 12727040 334 12732254 334 12737468 334 12742682 334 12747896 334 12753110 334 12758324 334 12763538 334 12768751 335 12773965 335 12779179 335 12784393 335 12789607 335 12794821 335 12800035 335 12805249 335 12810463 335 12815677 335 12820891 335 12826105 335 12831319 335 12836533 335 12841747 335 12846961 335 12852175 335 12857389 335 12862603 335 12867817 335 12873031 335 12878245 335 12883458 336 12888672 336 12893886 336 12899100 336 12904314 336 12909528 336 12914742 336 12919956 336 12925170 336 12930384 336 12935598 336 12940812 336 12946028 334 12951243 333 12956458 332 12961673 331 12966888 330 12972104 328 12977319 327 12982534 326 12987749 325 12992964 324 12998180 322 13003395 321 13008610 320 13013825 319 13019040 318 13024255 317 13029471 315 13034686 314 13039901 313 13045116 312 13050331 311 13055547 309 13060762 308 13065977 307 13071192 306 13076407 305 13081622 304 13086836 304 13092050 304 13097264 304 13102478 304 13107692 304 13112906 304 13118120 304 13123334 304 13128548 304 13133762 304 13138976 304 13144190 304 13149404 304 13154618 304 13159832 304 13165046 304 13170260 304 13175474 304 13180688 304 13185902 304 13191116 304 13196330 304 13201544 304 13206758 304 13211972 304 13217186 304 13222400 304 13227614 304 13232828 304 13238042 304 13243256 304 13248471 303 13253685 303 13258899 303 13264113 303 13269327 303 13274541 303 13279755 303 13284969 303 13290183 303 13295397 303 13300611 303 13305825 303 13311039 303 13316253 303 13321467 303 13326681 303 13331895 303 13337109 303 13342323 303 13347537 303 13352751 303 13357965 303 13363179 303 13368393 303 13373607 303 13378821 303 13384035 303 13389249 303 13394463 303 13399677 303 13404891 303 13410105 303 13415318 304 13420531 305 13425744 306 13430957 307 13436169 309 13441382 310 13446595 311 13451808 312 13457021 313 13462233 315 13467446 316 13472659 317 13477872 318 13483085 319 13488297 321 13493510 322 13498723 323 13503936 324 13509148 326 13514361 327 13519574 328 13524787 329 13530000 330 13535212 332 13540425 333 13545638 334 13550851 335 13556064 336 13561277 337 13566491 337 13571706 336 13576920 336 13582134 336 13587349 335 13592563 335 13597777 335 13602992 334 13608206 334 13613420 334 13618634 334 13623849 333 13629063 333 13634277 333 13639492 332 13644706 332 13649920 332 13655134 332 13660349 331 13665563 331 13670777 331 13675992 330 13681206 330 13686420 330 13691635 329 13696849 329 13702063 329 13707277 329 13712492 328 13717706 328 13722920 328 13728135 327 13733349 327 13738563 327 13743778 326 13748992 326 13754206 326 13759420 326 13764635 325 13769849 325 13775063 325 13780278 324 13785492 324 13790706 324 13795921 323 13801135 323 13806349 323 13811563 323 13816776 324 13821990 324 13827204 324 13832418 324 13837631 325 13842845 325 13848059 325 13853272 326 13858486 326 13863700 326 13868914 326 13874127 327 13879341 327 13884555 327 13889769 327 13894982 328 13900196 328 13905410 328 13910624 328 13915837 329 13921051 329 13926265 329 13931478 330 13936692 330 13941906 330 13947120 330 13952333 331 13957547 331 13962761 331 13967975 331 13973188 332 13978402 332 13983616 332 13988830 332 13994043 333 13999257 333 14004471 333 14009684 334 14014898 334 14020112 334 14025326 334 14030539 335 14035753 335 14040967 335 14046181 335 14051394 336 14056608 336 14061820 338 14067030 342 14072239 347 14077449 351 14082659 355 14087869 359 14093079 363 14098288 368 14103498 372 14108708 376 14113920 378 14119135 377 14124349 377 14129563 377 14134778 376 14139992 376 14145207 375 14150421 375 14155636 374 14160850 374 14166065 373 14171279 373 14176493 373 14181708 372 14186922 372 14192137 371 14197351 371 14202566 370 14207780 370 14212994 370 14218209 369 14223423 369 14228638 368 14233852 368 14239067 367 14244281 367 14249495 367 14254710 366 14259924 366 14265139 365 14270353 365 14275568 364 14280782 364 14285997 363 14291211 363 14296425 363 14301640 362 14306854 362 14312069 361 14317283 361 14322498 360 14327712 360 14332926 360 14338141 359 14343355 359 14348570 358 14353784 358 14358997 359 14364210 360 14369424 360 14374637 361 14379850 362 14385064 362 14390277 363 14395490 364 14400704 364 14405917 365 14411131 365 14416344 366 14421557 367 14426771 367 14431984 368 14437197 369 14442411 369 14447624 370 14452837 371 14458051 371 14463264 372 14468477 373 14473691 373 14478904 374 14484118 374 14489331 375 14494544 376 14499758 376 14504971 377 14510184 378 14515398 378 14520611 379 14525824 380 14531038 380 14536251 381 14541464 382 14546678 382 14551891 383 14557105 383 14562318 384 14567531 385 14572742 388 14577949 395 14583156 402 14588364 408 14593571 415 14598779 421 14603986 428 14609194 434 14614401 441 14619608 448 14624816 454 14630023 461 14635231 467 14640438 474 14645649 477 14650862 478 14656075 479 14661289 479 14666502 468 14671716 445 14676929 423 14682142 401 14687356 378 14692569 356 14697782 334 14702996 311 14708209 289 14713423 266 14718636 244 14723849 227 14729063 212 14734276 199 14739489 186 14744703 171 14749916 158 14755130 144 14760343 130 14765556 117 14770770 103 14775983 89 14781196 76 14786410 61 14791623 48 14796837 34 14802050 20 14807263 7'"
      ]
     },
     "execution_count": 275,
     "metadata": {},
     "output_type": "execute_result"
    }
   ],
   "source": [
    "rle_to_string(mask_1_encoded)"
   ]
  },
  {
   "cell_type": "code",
   "execution_count": 276,
   "metadata": {
    "ExecuteTime": {
     "end_time": "2020-04-06T20:14:18.935953Z",
     "start_time": "2020-04-06T20:14:18.929970Z"
    }
   },
   "outputs": [],
   "source": [
    "assert rle_to_string(mask_1_encoded) == image_df.EncodedPixels[0][0]"
   ]
  },
  {
   "cell_type": "markdown",
   "metadata": {},
   "source": [
    "### Apply the encoding to our 256x256 mask"
   ]
  },
  {
   "cell_type": "code",
   "execution_count": 277,
   "metadata": {
    "ExecuteTime": {
     "end_time": "2020-04-06T20:14:18.943932Z",
     "start_time": "2020-04-06T20:14:18.936950Z"
    }
   },
   "outputs": [
    {
     "data": {
      "text/plain": [
       "array([20946,     1, 21202,     5, 21457,     8, 21712,    12, 21968,\n",
       "          15, 22223,    19, 22479,    22, 22734,    26, 22988,    34,\n",
       "       23243,    39, 23497,    45, 23752,    49, 24006,    53, 24260,\n",
       "          59, 24514,    62, 24770,    62, 25026,    62, 25282,    62,\n",
       "       25539,    61, 25795,    61, 26051,    61, 26307,    61, 26564,\n",
       "          60, 26820,    60, 27076,    60, 27332,    60, 27588,    60,\n",
       "       27844,    60, 28100,    60, 28356,    60, 28619,    53, 28883,\n",
       "          45, 29146,    38, 29405,    35, 29666,    30, 29925,    27,\n",
       "       30183,    25, 30442,    22, 30699,    21, 30956,    20, 31213,\n",
       "          19, 31470,    18, 31727,    17, 31983,    17, 32239,    17,\n",
       "       32495,    17, 32752,    16, 33008,    16, 33264,    16, 33520,\n",
       "          16, 33776,    16, 34032,    16, 34287,    17, 34543,    17,\n",
       "       34799,    17, 35055,    17, 35311,    17, 35567,    17, 35823,\n",
       "          17, 36079,    17, 36335,    17, 36591,    17, 36847,    17,\n",
       "       37103,    17, 37359,    17, 37615,    17, 37871,    17, 38127,\n",
       "          17, 38383,    17, 38639,    17, 38895,    17, 39150,    18,\n",
       "       39406,    18, 39662,    18, 39918,    18, 40174,    18, 40430,\n",
       "          18, 40686,    18, 40942,    18, 41198,    18, 41454,    18,\n",
       "       41710,    18, 41966,    18, 42222,    18, 42478,    18, 42735,\n",
       "          17, 42991,    17, 43248,    16, 43504,    16, 43760,    16,\n",
       "       44016,    16, 44272,    16, 44528,    16, 44785,    15, 45042,\n",
       "          14, 45298,    14, 45554,    14, 45810,    14, 46066,    14,\n",
       "       46321,    15, 46576,    16, 46832,    16, 47088,    16, 47345,\n",
       "          15, 47600,    16, 47856,    16, 48112,    16, 48367,    17,\n",
       "       48622,    18, 48878,    18, 49135,    17, 49391,    17, 49646,\n",
       "          18, 49902,    18, 50155,    21, 50409,    21, 50664,     8],\n",
       "      dtype=int64)"
      ]
     },
     "execution_count": 277,
     "metadata": {},
     "output_type": "execute_result"
    }
   ],
   "source": [
    "encoded_256 = dataset.rle_encode(targets['masks'][:,:,0])\n",
    "encoded_256"
   ]
  },
  {
   "cell_type": "code",
   "execution_count": 381,
   "metadata": {
    "ExecuteTime": {
     "end_time": "2020-04-06T23:43:45.173753Z",
     "start_time": "2020-04-06T23:43:45.168766Z"
    }
   },
   "outputs": [
    {
     "data": {
      "text/plain": [
       "(234,)"
      ]
     },
     "execution_count": 381,
     "metadata": {},
     "output_type": "execute_result"
    }
   ],
   "source": [
    "encoded_256.shape"
   ]
  },
  {
   "cell_type": "markdown",
   "metadata": {},
   "source": [
    "### Visualize Images"
   ]
  },
  {
   "cell_type": "code",
   "execution_count": 288,
   "metadata": {
    "ExecuteTime": {
     "end_time": "2020-04-06T20:21:46.927735Z",
     "start_time": "2020-04-06T20:21:46.921752Z"
    }
   },
   "outputs": [],
   "source": [
    "def display_images(images, titles=None, cols=4, cmap=None, norm=None,\n",
    "                   interpolation=None):\n",
    "    \"\"\"Display the given set of images, optionally with titles.\n",
    "    images: list or array of image tensors in HWC format.\n",
    "    titles: optional. A list of titles to display with each image.\n",
    "    cols: number of images per row\n",
    "    cmap: Optional. Color map to use. For example, \"Blues\".\n",
    "    norm: Optional. A Normalize instance to map values to colors.\n",
    "    interpolation: Optional. Image interpolation to use for display.\n",
    "    \"\"\"\n",
    "    titles = titles if titles is not None else [\"\"] * len(images)\n",
    "    rows = len(images) // cols + 1\n",
    "    plt.figure(figsize=(14, 14 * rows // cols))\n",
    "    i = 1\n",
    "    for image, title in zip(images, titles):\n",
    "        plt.subplot(rows, cols, i)\n",
    "        plt.title(title, fontsize=9)\n",
    "        plt.axis('off')\n",
    "        plt.imshow(image.astype(np.uint8), cmap=cmap,\n",
    "                   norm=norm, interpolation=interpolation)\n",
    "        i += 1\n",
    "    plt.show()"
   ]
  },
  {
   "cell_type": "code",
   "execution_count": 307,
   "metadata": {
    "ExecuteTime": {
     "end_time": "2020-04-06T20:28:18.472590Z",
     "start_time": "2020-04-06T20:28:18.468598Z"
    }
   },
   "outputs": [],
   "source": [
    "my_masks = [mask.numpy() for mask in torch.unbind(targets['masks'], dim=2)]"
   ]
  },
  {
   "cell_type": "code",
   "execution_count": 312,
   "metadata": {
    "ExecuteTime": {
     "end_time": "2020-04-06T20:29:33.345225Z",
     "start_time": "2020-04-06T20:29:33.342201Z"
    }
   },
   "outputs": [],
   "source": [
    "to_display = [img, *my_masks]"
   ]
  },
  {
   "cell_type": "code",
   "execution_count": 314,
   "metadata": {
    "ExecuteTime": {
     "end_time": "2020-04-06T20:33:36.854747Z",
     "start_time": "2020-04-06T20:33:36.588426Z"
    }
   },
   "outputs": [
    {
     "data": {
      "image/png": "[encoded data removed]",
      "text/plain": [
       "<Figure size 1008x720 with 9 Axes>"
      ]
     },
     "metadata": {
      "needs_background": "light"
     },
     "output_type": "display_data"
    }
   ],
   "source": [
    "display_images(to_display)"
   ]
  },
  {
   "cell_type": "markdown",
   "metadata": {},
   "source": [
    "Postprocessing: Delete small objects? "
   ]
  },
  {
   "cell_type": "markdown",
   "metadata": {},
   "source": [
    "## Yang RLE"
   ]
  },
  {
   "cell_type": "code",
   "execution_count": 37,
   "metadata": {
    "ExecuteTime": {
     "end_time": "2020-04-06T15:00:37.755445Z",
     "start_time": "2020-04-06T15:00:37.741483Z"
    }
   },
   "outputs": [],
   "source": [
    "\n",
    "from typing import List\n",
    "import numpy as np\n",
    "from collections import namedtuple\n",
    "\n",
    "# Run Length Decoding.\n",
    "# This is a specialized module to make it less PITA.\n",
    "#\n",
    "\n",
    "\n",
    "class RLE_encoding:  # Rune Length Encoding process from a mask to RLE\n",
    "    def __init__(\n",
    "        self,\n",
    "        mask: np.array,  # a 2d nmumpy matrix array\n",
    "        mask_value=1,  # default assume the mask is 0 for background and 1 for mask value.\n",
    "        background_value=0,  # default assume the mask is 0 for background and 1 for mask value.\n",
    "        mask_value_higher=True,\n",
    "    ):\n",
    "        \"\"\"\n",
    "        Establish the assumption before encoding.\n",
    "        :param order: the Nth pixel count.\n",
    "        :param length: the number of pixels to include (inclusive both ends)\n",
    "        :param x_max: max x values (items per row)\n",
    "        :param y_max: max y values (number of rows)\n",
    "        :param y_encoded_first:\n",
    "        \"\"\"\n",
    "        self.mask = mask\n",
    "\n",
    "        self.mask_value = mask_value\n",
    "        self.background_value = background_value\n",
    "        self.mask_value_higher = mask_value_higher\n",
    "\n",
    "        self.list_order = []\n",
    "        self.list_length = []\n",
    "        self.list_order_length = []\n",
    "        self.encode()\n",
    "\n",
    "    def get(self):\n",
    "        \"\"\"\n",
    "        Return the List of Order Length\n",
    "        :return:\n",
    "        \"\"\"\n",
    "        return self.list_order_length\n",
    "\n",
    "    def encode(self):\n",
    "        \"\"\"\n",
    "        Return a string representation of POSITION & Length pair.\n",
    "        Encode the image into a string.\n",
    "        Source inspired by: https://www.kaggle.com/paulorzp/rle-functions-run-lenght-encode-decode\n",
    "        :param list_orderlength:a list of pixel order (n-th pixel) and length of the commit\n",
    "        :return: list of tuple(x,y)\n",
    "        \"\"\"\n",
    "\n",
    "        # Flatten into 1D array, fortran style, which is VERTICALLY based!\n",
    "        mask_1d = self.mask.flatten(order=\"F\")\n",
    "\n",
    "        # Do check a few simple assumptions about values.\n",
    "        if self.mask_value_higher:\n",
    "            assert max(mask_1d) <= self.mask_value\n",
    "            assert min(mask_1d) == self.background_value\n",
    "        else:\n",
    "            assert max(mask_1d) == self.background_value\n",
    "            assert min(mask_1d) >= self.mask_value\n",
    "\n",
    "        # Append 0 to both end to accommodate the upcoming shift.\n",
    "        mask_1d_padded_both = np.concatenate(\n",
    "            [[self.background_value], mask_1d, [self.background_value]]\n",
    "        )\n",
    "        mask_1d_padded_left = mask_1d_padded_both[:-1]  # skipped right pad\n",
    "        mask_1d_padded_right = mask_1d_padded_both[1:]  # skipped left pad\n",
    "\n",
    "        # Determine where non-continuity occcur:  e.g. 0 & 1 at the same position in the left and right shifted version\n",
    "        # e.g. [Pad, 0, 1, 1, 0] & [0, 1, 1, 0, Pad]\n",
    "        # Compare the above two, where they are not the same. 0 & 1\n",
    "\n",
    "        # np.where return tuples, only first element matters\n",
    "        boundaries = np.where(mask_1d_padded_left != mask_1d_padded_right)[0]\n",
    "\n",
    "        # +1 because index are 1 based in the final CSV report for pixel wise counting.\n",
    "        # i.e. there is no 0th pixel.\n",
    "        boundaries = boundaries + 1\n",
    "\n",
    "        # every other element is where 0 starts (since they are continuous).\n",
    "        boundaries_background = boundaries[1::2]\n",
    "        # every other element is where 1 starts (since they are continuous).\n",
    "        boundaries_mask = boundaries[::2]\n",
    "\n",
    "        run_length = []\n",
    "        # Compute the length part before adding Run/Length couple to the output list.\n",
    "        for index, element in enumerate(boundaries_mask):\n",
    "            # Element: is the place where 1 start\n",
    "            run = element\n",
    "            # This is used to correct a bug where an extra row&column seems to have been encoded.\n",
    "            self.list_order.append(run - 257)\n",
    "\n",
    "            # Length is the differences between where 0 starts and where proceeding 0 starts.\n",
    "            length = boundaries_background[index] - element\n",
    "            self.list_length.append(length)\n",
    "\n",
    "            self.list_order_length.append((run - 257, length))"
   ]
  },
  {
   "cell_type": "code",
   "execution_count": 319,
   "metadata": {
    "ExecuteTime": {
     "end_time": "2020-04-06T23:12:29.883711Z",
     "start_time": "2020-04-06T23:12:29.873769Z"
    }
   },
   "outputs": [
    {
     "data": {
      "text/plain": [
       "tensor([[0, 0, 0,  ..., 0, 0, 0],\n",
       "        [0, 0, 0,  ..., 0, 0, 0],\n",
       "        [0, 0, 0,  ..., 0, 0, 0],\n",
       "        ...,\n",
       "        [0, 0, 0,  ..., 0, 0, 0],\n",
       "        [0, 0, 0,  ..., 0, 0, 0],\n",
       "        [0, 0, 0,  ..., 0, 0, 0]], dtype=torch.uint8)"
      ]
     },
     "execution_count": 319,
     "metadata": {},
     "output_type": "execute_result"
    }
   ],
   "source": [
    "targets['masks'][:,:,0]"
   ]
  },
  {
   "cell_type": "code",
   "execution_count": 320,
   "metadata": {
    "ExecuteTime": {
     "end_time": "2020-04-06T23:12:41.411990Z",
     "start_time": "2020-04-06T23:12:41.389056Z"
    }
   },
   "outputs": [],
   "source": [
    "mask_encoding = RLE_encoding(targets['masks'][:,:,0].numpy())"
   ]
  },
  {
   "cell_type": "code",
   "execution_count": 389,
   "metadata": {
    "ExecuteTime": {
     "end_time": "2020-04-07T21:50:01.028601Z",
     "start_time": "2020-04-07T21:50:00.955797Z"
    }
   },
   "outputs": [
    {
     "data": {
      "text/plain": [
       "[(20690, 1),\n",
       " (20946, 5),\n",
       " (21201, 8),\n",
       " (21456, 12),\n",
       " (21712, 15),\n",
       " (21967, 19),\n",
       " (22223, 22),\n",
       " (22478, 26),\n",
       " (22732, 34),\n",
       " (22987, 39),\n",
       " (23241, 45),\n",
       " (23496, 49),\n",
       " (23750, 53),\n",
       " (24004, 59),\n",
       " (24258, 62),\n",
       " (24514, 62),\n",
       " (24770, 62),\n",
       " (25026, 62),\n",
       " (25283, 61),\n",
       " (25539, 61),\n",
       " (25795, 61),\n",
       " (26051, 61),\n",
       " (26308, 60),\n",
       " (26564, 60),\n",
       " (26820, 60),\n",
       " (27076, 60),\n",
       " (27332, 60),\n",
       " (27588, 60),\n",
       " (27844, 60),\n",
       " (28100, 60),\n",
       " (28363, 53),\n",
       " (28627, 45),\n",
       " (28890, 38),\n",
       " (29149, 35),\n",
       " (29410, 30),\n",
       " (29669, 27),\n",
       " (29927, 25),\n",
       " (30186, 22),\n",
       " (30443, 21),\n",
       " (30700, 20),\n",
       " (30957, 19),\n",
       " (31214, 18),\n",
       " (31471, 17),\n",
       " (31727, 17),\n",
       " (31983, 17),\n",
       " (32239, 17),\n",
       " (32496, 16),\n",
       " (32752, 16),\n",
       " (33008, 16),\n",
       " (33264, 16),\n",
       " (33520, 16),\n",
       " (33776, 16),\n",
       " (34031, 17),\n",
       " (34287, 17),\n",
       " (34543, 17),\n",
       " (34799, 17),\n",
       " (35055, 17),\n",
       " (35311, 17),\n",
       " (35567, 17),\n",
       " (35823, 17),\n",
       " (36079, 17),\n",
       " (36335, 17),\n",
       " (36591, 17),\n",
       " (36847, 17),\n",
       " (37103, 17),\n",
       " (37359, 17),\n",
       " (37615, 17),\n",
       " (37871, 17),\n",
       " (38127, 17),\n",
       " (38383, 17),\n",
       " (38639, 17),\n",
       " (38894, 18),\n",
       " (39150, 18),\n",
       " (39406, 18),\n",
       " (39662, 18),\n",
       " (39918, 18),\n",
       " (40174, 18),\n",
       " (40430, 18),\n",
       " (40686, 18),\n",
       " (40942, 18),\n",
       " (41198, 18),\n",
       " (41454, 18),\n",
       " (41710, 18),\n",
       " (41966, 18),\n",
       " (42222, 18),\n",
       " (42479, 17),\n",
       " (42735, 17),\n",
       " (42992, 16),\n",
       " (43248, 16),\n",
       " (43504, 16),\n",
       " (43760, 16),\n",
       " (44016, 16),\n",
       " (44272, 16),\n",
       " (44529, 15),\n",
       " (44786, 14),\n",
       " (45042, 14),\n",
       " (45298, 14),\n",
       " (45554, 14),\n",
       " (45810, 14),\n",
       " (46065, 15),\n",
       " (46320, 16),\n",
       " (46576, 16),\n",
       " (46832, 16),\n",
       " (47089, 15),\n",
       " (47344, 16),\n",
       " (47600, 16),\n",
       " (47856, 16),\n",
       " (48111, 17),\n",
       " (48366, 18),\n",
       " (48622, 18),\n",
       " (48879, 17),\n",
       " (49135, 17),\n",
       " (49390, 18),\n",
       " (49646, 18),\n",
       " (49899, 21),\n",
       " (50153, 21),\n",
       " (50408, 8),\n",
       " (20690, 1),\n",
       " (20946, 5),\n",
       " (21201, 8),\n",
       " (21456, 12),\n",
       " (21712, 15),\n",
       " (21967, 19),\n",
       " (22223, 22),\n",
       " (22478, 26),\n",
       " (22732, 34),\n",
       " (22987, 39),\n",
       " (23241, 45),\n",
       " (23496, 49),\n",
       " (23750, 53),\n",
       " (24004, 59),\n",
       " (24258, 62),\n",
       " (24514, 62),\n",
       " (24770, 62),\n",
       " (25026, 62),\n",
       " (25283, 61),\n",
       " (25539, 61),\n",
       " (25795, 61),\n",
       " (26051, 61),\n",
       " (26308, 60),\n",
       " (26564, 60),\n",
       " (26820, 60),\n",
       " (27076, 60),\n",
       " (27332, 60),\n",
       " (27588, 60),\n",
       " (27844, 60),\n",
       " (28100, 60),\n",
       " (28363, 53),\n",
       " (28627, 45),\n",
       " (28890, 38),\n",
       " (29149, 35),\n",
       " (29410, 30),\n",
       " (29669, 27),\n",
       " (29927, 25),\n",
       " (30186, 22),\n",
       " (30443, 21),\n",
       " (30700, 20),\n",
       " (30957, 19),\n",
       " (31214, 18),\n",
       " (31471, 17),\n",
       " (31727, 17),\n",
       " (31983, 17),\n",
       " (32239, 17),\n",
       " (32496, 16),\n",
       " (32752, 16),\n",
       " (33008, 16),\n",
       " (33264, 16),\n",
       " (33520, 16),\n",
       " (33776, 16),\n",
       " (34031, 17),\n",
       " (34287, 17),\n",
       " (34543, 17),\n",
       " (34799, 17),\n",
       " (35055, 17),\n",
       " (35311, 17),\n",
       " (35567, 17),\n",
       " (35823, 17),\n",
       " (36079, 17),\n",
       " (36335, 17),\n",
       " (36591, 17),\n",
       " (36847, 17),\n",
       " (37103, 17),\n",
       " (37359, 17),\n",
       " (37615, 17),\n",
       " (37871, 17),\n",
       " (38127, 17),\n",
       " (38383, 17),\n",
       " (38639, 17),\n",
       " (38894, 18),\n",
       " (39150, 18),\n",
       " (39406, 18),\n",
       " (39662, 18),\n",
       " (39918, 18),\n",
       " (40174, 18),\n",
       " (40430, 18),\n",
       " (40686, 18),\n",
       " (40942, 18),\n",
       " (41198, 18),\n",
       " (41454, 18),\n",
       " (41710, 18),\n",
       " (41966, 18),\n",
       " (42222, 18),\n",
       " (42479, 17),\n",
       " (42735, 17),\n",
       " (42992, 16),\n",
       " (43248, 16),\n",
       " (43504, 16),\n",
       " (43760, 16),\n",
       " (44016, 16),\n",
       " (44272, 16),\n",
       " (44529, 15),\n",
       " (44786, 14),\n",
       " (45042, 14),\n",
       " (45298, 14),\n",
       " (45554, 14),\n",
       " (45810, 14),\n",
       " (46065, 15),\n",
       " (46320, 16),\n",
       " (46576, 16),\n",
       " (46832, 16),\n",
       " (47089, 15),\n",
       " (47344, 16),\n",
       " (47600, 16),\n",
       " (47856, 16),\n",
       " (48111, 17),\n",
       " (48366, 18),\n",
       " (48622, 18),\n",
       " (48879, 17),\n",
       " (49135, 17),\n",
       " (49390, 18),\n",
       " (49646, 18),\n",
       " (49899, 21),\n",
       " (50153, 21),\n",
       " (50408, 8),\n",
       " (20690, 1),\n",
       " (20946, 5),\n",
       " (21201, 8),\n",
       " (21456, 12),\n",
       " (21712, 15),\n",
       " (21967, 19),\n",
       " (22223, 22),\n",
       " (22478, 26),\n",
       " (22732, 34),\n",
       " (22987, 39),\n",
       " (23241, 45),\n",
       " (23496, 49),\n",
       " (23750, 53),\n",
       " (24004, 59),\n",
       " (24258, 62),\n",
       " (24514, 62),\n",
       " (24770, 62),\n",
       " (25026, 62),\n",
       " (25283, 61),\n",
       " (25539, 61),\n",
       " (25795, 61),\n",
       " (26051, 61),\n",
       " (26308, 60),\n",
       " (26564, 60),\n",
       " (26820, 60),\n",
       " (27076, 60),\n",
       " (27332, 60),\n",
       " (27588, 60),\n",
       " (27844, 60),\n",
       " (28100, 60),\n",
       " (28363, 53),\n",
       " (28627, 45),\n",
       " (28890, 38),\n",
       " (29149, 35),\n",
       " (29410, 30),\n",
       " (29669, 27),\n",
       " (29927, 25),\n",
       " (30186, 22),\n",
       " (30443, 21),\n",
       " (30700, 20),\n",
       " (30957, 19),\n",
       " (31214, 18),\n",
       " (31471, 17),\n",
       " (31727, 17),\n",
       " (31983, 17),\n",
       " (32239, 17),\n",
       " (32496, 16),\n",
       " (32752, 16),\n",
       " (33008, 16),\n",
       " (33264, 16),\n",
       " (33520, 16),\n",
       " (33776, 16),\n",
       " (34031, 17),\n",
       " (34287, 17),\n",
       " (34543, 17),\n",
       " (34799, 17),\n",
       " (35055, 17),\n",
       " (35311, 17),\n",
       " (35567, 17),\n",
       " (35823, 17),\n",
       " (36079, 17),\n",
       " (36335, 17),\n",
       " (36591, 17),\n",
       " (36847, 17),\n",
       " (37103, 17),\n",
       " (37359, 17),\n",
       " (37615, 17),\n",
       " (37871, 17),\n",
       " (38127, 17),\n",
       " (38383, 17),\n",
       " (38639, 17),\n",
       " (38894, 18),\n",
       " (39150, 18),\n",
       " (39406, 18),\n",
       " (39662, 18),\n",
       " (39918, 18),\n",
       " (40174, 18),\n",
       " (40430, 18),\n",
       " (40686, 18),\n",
       " (40942, 18),\n",
       " (41198, 18),\n",
       " (41454, 18),\n",
       " (41710, 18),\n",
       " (41966, 18),\n",
       " (42222, 18),\n",
       " (42479, 17),\n",
       " (42735, 17),\n",
       " (42992, 16),\n",
       " (43248, 16),\n",
       " (43504, 16),\n",
       " (43760, 16),\n",
       " (44016, 16),\n",
       " (44272, 16),\n",
       " (44529, 15),\n",
       " (44786, 14),\n",
       " (45042, 14),\n",
       " (45298, 14),\n",
       " (45554, 14),\n",
       " (45810, 14),\n",
       " (46065, 15),\n",
       " (46320, 16),\n",
       " (46576, 16),\n",
       " (46832, 16),\n",
       " (47089, 15),\n",
       " (47344, 16),\n",
       " (47600, 16),\n",
       " (47856, 16),\n",
       " (48111, 17),\n",
       " (48366, 18),\n",
       " (48622, 18),\n",
       " (48879, 17),\n",
       " (49135, 17),\n",
       " (49390, 18),\n",
       " (49646, 18),\n",
       " (49899, 21),\n",
       " (50153, 21),\n",
       " (50408, 8),\n",
       " (20690, 1),\n",
       " (20946, 5),\n",
       " (21201, 8),\n",
       " (21456, 12),\n",
       " (21712, 15),\n",
       " (21967, 19),\n",
       " (22223, 22),\n",
       " (22478, 26),\n",
       " (22732, 34),\n",
       " (22987, 39),\n",
       " (23241, 45),\n",
       " (23496, 49),\n",
       " (23750, 53),\n",
       " (24004, 59),\n",
       " (24258, 62),\n",
       " (24514, 62),\n",
       " (24770, 62),\n",
       " (25026, 62),\n",
       " (25283, 61),\n",
       " (25539, 61),\n",
       " (25795, 61),\n",
       " (26051, 61),\n",
       " (26308, 60),\n",
       " (26564, 60),\n",
       " (26820, 60),\n",
       " (27076, 60),\n",
       " (27332, 60),\n",
       " (27588, 60),\n",
       " (27844, 60),\n",
       " (28100, 60),\n",
       " (28363, 53),\n",
       " (28627, 45),\n",
       " (28890, 38),\n",
       " (29149, 35),\n",
       " (29410, 30),\n",
       " (29669, 27),\n",
       " (29927, 25),\n",
       " (30186, 22),\n",
       " (30443, 21),\n",
       " (30700, 20),\n",
       " (30957, 19),\n",
       " (31214, 18),\n",
       " (31471, 17),\n",
       " (31727, 17),\n",
       " (31983, 17),\n",
       " (32239, 17),\n",
       " (32496, 16),\n",
       " (32752, 16),\n",
       " (33008, 16),\n",
       " (33264, 16),\n",
       " (33520, 16),\n",
       " (33776, 16),\n",
       " (34031, 17),\n",
       " (34287, 17),\n",
       " (34543, 17),\n",
       " (34799, 17),\n",
       " (35055, 17),\n",
       " (35311, 17),\n",
       " (35567, 17),\n",
       " (35823, 17),\n",
       " (36079, 17),\n",
       " (36335, 17),\n",
       " (36591, 17),\n",
       " (36847, 17),\n",
       " (37103, 17),\n",
       " (37359, 17),\n",
       " (37615, 17),\n",
       " (37871, 17),\n",
       " (38127, 17),\n",
       " (38383, 17),\n",
       " (38639, 17),\n",
       " (38894, 18),\n",
       " (39150, 18),\n",
       " (39406, 18),\n",
       " (39662, 18),\n",
       " (39918, 18),\n",
       " (40174, 18),\n",
       " (40430, 18),\n",
       " (40686, 18),\n",
       " (40942, 18),\n",
       " (41198, 18),\n",
       " (41454, 18),\n",
       " (41710, 18),\n",
       " (41966, 18),\n",
       " (42222, 18),\n",
       " (42479, 17),\n",
       " (42735, 17),\n",
       " (42992, 16),\n",
       " (43248, 16),\n",
       " (43504, 16),\n",
       " (43760, 16),\n",
       " (44016, 16),\n",
       " (44272, 16),\n",
       " (44529, 15),\n",
       " (44786, 14),\n",
       " (45042, 14),\n",
       " (45298, 14),\n",
       " (45554, 14),\n",
       " (45810, 14),\n",
       " (46065, 15),\n",
       " (46320, 16),\n",
       " (46576, 16),\n",
       " (46832, 16),\n",
       " (47089, 15),\n",
       " (47344, 16),\n",
       " (47600, 16),\n",
       " (47856, 16),\n",
       " (48111, 17),\n",
       " (48366, 18),\n",
       " (48622, 18),\n",
       " (48879, 17),\n",
       " (49135, 17),\n",
       " (49390, 18),\n",
       " (49646, 18),\n",
       " (49899, 21),\n",
       " (50153, 21),\n",
       " (50408, 8)]"
      ]
     },
     "execution_count": 389,
     "metadata": {},
     "output_type": "execute_result"
    }
   ],
   "source": [
    "mask_encoding.encode()\n",
    "mask_encoding.list_order_length"
   ]
  },
  {
   "cell_type": "code",
   "execution_count": 384,
   "metadata": {
    "ExecuteTime": {
     "end_time": "2020-04-06T23:45:49.929606Z",
     "start_time": "2020-04-06T23:45:49.922626Z"
    }
   },
   "outputs": [
    {
     "data": {
      "text/plain": [
       "array([20690,     1, 20946,     5, 21201,     8, 21456,    12, 21712,\n",
       "          15, 21967,    19, 22223,    22, 22478,    26, 22732,    34,\n",
       "       22987,    39, 23241,    45, 23496,    49, 23750,    53, 24004,\n",
       "          59, 24258,    62, 24514,    62, 24770,    62, 25026,    62,\n",
       "       25283,    61, 25539,    61, 25795,    61, 26051,    61, 26308,\n",
       "          60, 26564,    60, 26820,    60, 27076,    60, 27332,    60,\n",
       "       27588,    60, 27844,    60, 28100,    60, 28363,    53, 28627,\n",
       "          45, 28890,    38, 29149,    35, 29410,    30, 29669,    27,\n",
       "       29927,    25, 30186,    22, 30443,    21, 30700,    20, 30957,\n",
       "          19, 31214,    18, 31471,    17, 31727,    17, 31983,    17,\n",
       "       32239,    17, 32496,    16, 32752,    16, 33008,    16, 33264,\n",
       "          16, 33520,    16, 33776,    16, 34031,    17, 34287,    17,\n",
       "       34543,    17, 34799,    17, 35055,    17, 35311,    17, 35567,\n",
       "          17, 35823,    17, 36079,    17, 36335,    17, 36591,    17,\n",
       "       36847,    17, 37103,    17, 37359,    17, 37615,    17, 37871,\n",
       "          17, 38127,    17, 38383,    17, 38639,    17, 38894,    18,\n",
       "       39150,    18, 39406,    18, 39662,    18, 39918,    18, 40174,\n",
       "          18, 40430,    18, 40686,    18, 40942,    18, 41198,    18,\n",
       "       41454,    18, 41710,    18, 41966,    18, 42222,    18, 42479,\n",
       "          17, 42735,    17, 42992,    16, 43248,    16, 43504,    16,\n",
       "       43760,    16, 44016,    16, 44272,    16, 44529,    15, 44786,\n",
       "          14, 45042,    14, 45298,    14, 45554,    14, 45810,    14,\n",
       "       46065,    15, 46320,    16, 46576,    16, 46832,    16, 47089,\n",
       "          15, 47344,    16, 47600,    16, 47856,    16, 48111,    17,\n",
       "       48366,    18, 48622,    18, 48879,    17, 49135,    17, 49390,\n",
       "          18, 49646,    18, 49899,    21, 50153,    21, 50408,     8,\n",
       "       20690,     1, 20946,     5, 21201,     8, 21456,    12, 21712,\n",
       "          15, 21967,    19, 22223,    22, 22478,    26, 22732,    34,\n",
       "       22987,    39, 23241,    45, 23496,    49, 23750,    53, 24004,\n",
       "          59, 24258,    62, 24514,    62, 24770,    62, 25026,    62,\n",
       "       25283,    61, 25539,    61, 25795,    61, 26051,    61, 26308,\n",
       "          60, 26564,    60, 26820,    60, 27076,    60, 27332,    60,\n",
       "       27588,    60, 27844,    60, 28100,    60, 28363,    53, 28627,\n",
       "          45, 28890,    38, 29149,    35, 29410,    30, 29669,    27,\n",
       "       29927,    25, 30186,    22, 30443,    21, 30700,    20, 30957,\n",
       "          19, 31214,    18, 31471,    17, 31727,    17, 31983,    17,\n",
       "       32239,    17, 32496,    16, 32752,    16, 33008,    16, 33264,\n",
       "          16, 33520,    16, 33776,    16, 34031,    17, 34287,    17,\n",
       "       34543,    17, 34799,    17, 35055,    17, 35311,    17, 35567,\n",
       "          17, 35823,    17, 36079,    17, 36335,    17, 36591,    17,\n",
       "       36847,    17, 37103,    17, 37359,    17, 37615,    17, 37871,\n",
       "          17, 38127,    17, 38383,    17, 38639,    17, 38894,    18,\n",
       "       39150,    18, 39406,    18, 39662,    18, 39918,    18, 40174,\n",
       "          18, 40430,    18, 40686,    18, 40942,    18, 41198,    18,\n",
       "       41454,    18, 41710,    18, 41966,    18, 42222,    18, 42479,\n",
       "          17, 42735,    17, 42992,    16, 43248,    16, 43504,    16,\n",
       "       43760,    16, 44016,    16, 44272,    16, 44529,    15, 44786,\n",
       "          14, 45042,    14, 45298,    14, 45554,    14, 45810,    14,\n",
       "       46065,    15, 46320,    16, 46576,    16, 46832,    16, 47089,\n",
       "          15, 47344,    16, 47600,    16, 47856,    16, 48111,    17,\n",
       "       48366,    18, 48622,    18, 48879,    17, 49135,    17, 49390,\n",
       "          18, 49646,    18, 49899,    21, 50153,    21, 50408,     8,\n",
       "       20690,     1, 20946,     5, 21201,     8, 21456,    12, 21712,\n",
       "          15, 21967,    19, 22223,    22, 22478,    26, 22732,    34,\n",
       "       22987,    39, 23241,    45, 23496,    49, 23750,    53, 24004,\n",
       "          59, 24258,    62, 24514,    62, 24770,    62, 25026,    62,\n",
       "       25283,    61, 25539,    61, 25795,    61, 26051,    61, 26308,\n",
       "          60, 26564,    60, 26820,    60, 27076,    60, 27332,    60,\n",
       "       27588,    60, 27844,    60, 28100,    60, 28363,    53, 28627,\n",
       "          45, 28890,    38, 29149,    35, 29410,    30, 29669,    27,\n",
       "       29927,    25, 30186,    22, 30443,    21, 30700,    20, 30957,\n",
       "          19, 31214,    18, 31471,    17, 31727,    17, 31983,    17,\n",
       "       32239,    17, 32496,    16, 32752,    16, 33008,    16, 33264,\n",
       "          16, 33520,    16, 33776,    16, 34031,    17, 34287,    17,\n",
       "       34543,    17, 34799,    17, 35055,    17, 35311,    17, 35567,\n",
       "          17, 35823,    17, 36079,    17, 36335,    17, 36591,    17,\n",
       "       36847,    17, 37103,    17, 37359,    17, 37615,    17, 37871,\n",
       "          17, 38127,    17, 38383,    17, 38639,    17, 38894,    18,\n",
       "       39150,    18, 39406,    18, 39662,    18, 39918,    18, 40174,\n",
       "          18, 40430,    18, 40686,    18, 40942,    18, 41198,    18,\n",
       "       41454,    18, 41710,    18, 41966,    18, 42222,    18, 42479,\n",
       "          17, 42735,    17, 42992,    16, 43248,    16, 43504,    16,\n",
       "       43760,    16, 44016,    16, 44272,    16, 44529,    15, 44786,\n",
       "          14, 45042,    14, 45298,    14, 45554,    14, 45810,    14,\n",
       "       46065,    15, 46320,    16, 46576,    16, 46832,    16, 47089,\n",
       "          15, 47344,    16, 47600,    16, 47856,    16, 48111,    17,\n",
       "       48366,    18, 48622,    18, 48879,    17, 49135,    17, 49390,\n",
       "          18, 49646,    18, 49899,    21, 50153,    21, 50408,     8],\n",
       "      dtype=int64)"
      ]
     },
     "execution_count": 384,
     "metadata": {},
     "output_type": "execute_result"
    }
   ],
   "source": [
    "encoded_mask = [item for tupl in mask_encoding.list_order_length for item in tupl]\n",
    "np.array(encoded_mask)"
   ]
  },
  {
   "cell_type": "code",
   "execution_count": 383,
   "metadata": {
    "ExecuteTime": {
     "end_time": "2020-04-06T23:44:57.191587Z",
     "start_time": "2020-04-06T23:44:57.186626Z"
    }
   },
   "outputs": [
    {
     "data": {
      "text/plain": [
       "array([20946,     1, 21202,     5, 21457,     8, 21712,    12, 21968,\n",
       "          15, 22223,    19, 22479,    22, 22734,    26, 22988,    34,\n",
       "       23243,    39, 23497,    45, 23752,    49, 24006,    53, 24260,\n",
       "          59, 24514,    62, 24770,    62, 25026,    62, 25282,    62,\n",
       "       25539,    61, 25795,    61, 26051,    61, 26307,    61, 26564,\n",
       "          60, 26820,    60, 27076,    60, 27332,    60, 27588,    60,\n",
       "       27844,    60, 28100,    60, 28356,    60, 28619,    53, 28883,\n",
       "          45, 29146,    38, 29405,    35, 29666,    30, 29925,    27,\n",
       "       30183,    25, 30442,    22, 30699,    21, 30956,    20, 31213,\n",
       "          19, 31470,    18, 31727,    17, 31983,    17, 32239,    17,\n",
       "       32495,    17, 32752,    16, 33008,    16, 33264,    16, 33520,\n",
       "          16, 33776,    16, 34032,    16, 34287,    17, 34543,    17,\n",
       "       34799,    17, 35055,    17, 35311,    17, 35567,    17, 35823,\n",
       "          17, 36079,    17, 36335,    17, 36591,    17, 36847,    17,\n",
       "       37103,    17, 37359,    17, 37615,    17, 37871,    17, 38127,\n",
       "          17, 38383,    17, 38639,    17, 38895,    17, 39150,    18,\n",
       "       39406,    18, 39662,    18, 39918,    18, 40174,    18, 40430,\n",
       "          18, 40686,    18, 40942,    18, 41198,    18, 41454,    18,\n",
       "       41710,    18, 41966,    18, 42222,    18, 42478,    18, 42735,\n",
       "          17, 42991,    17, 43248,    16, 43504,    16, 43760,    16,\n",
       "       44016,    16, 44272,    16, 44528,    16, 44785,    15, 45042,\n",
       "          14, 45298,    14, 45554,    14, 45810,    14, 46066,    14,\n",
       "       46321,    15, 46576,    16, 46832,    16, 47088,    16, 47345,\n",
       "          15, 47600,    16, 47856,    16, 48112,    16, 48367,    17,\n",
       "       48622,    18, 48878,    18, 49135,    17, 49391,    17, 49646,\n",
       "          18, 49902,    18, 50155,    21, 50409,    21, 50664,     8],\n",
       "      dtype=int64)"
      ]
     },
     "execution_count": 383,
     "metadata": {},
     "output_type": "execute_result"
    }
   ],
   "source": [
    "encoded_256"
   ]
  },
  {
   "cell_type": "markdown",
   "metadata": {
    "heading_collapsed": true
   },
   "source": [
    "## Abishek"
   ]
  },
  {
   "cell_type": "code",
   "execution_count": 5,
   "metadata": {
    "ExecuteTime": {
     "end_time": "2020-04-05T23:59:01.907908Z",
     "start_time": "2020-04-05T23:59:01.865989Z"
    },
    "hidden": true
   },
   "outputs": [],
   "source": [
    "def rle_decode(mask_rle, shape):\n",
    "    '''\n",
    "    mask_rle: run-length as string formated: [start0] [length0] [start1] [length1]... in 1d array\n",
    "    shape: (height,width) of array to return\n",
    "    Returns numpy array according to the shape, 1 - mask, 0 - background\n",
    "    '''\n",
    "    shape = (shape[1], shape[0])\n",
    "    s = mask_rle.split()\n",
    "    # gets starts & lengths 1d arrays\n",
    "    starts, lengths = [np.asarray(x, dtype=int) for x in (s[0::2], s[1::2])]\n",
    "    starts -= 1\n",
    "    # gets ends 1d array\n",
    "    ends = starts + lengths\n",
    "    # creates blank mask image 1d array\n",
    "    img = np.zeros(shape[0] * shape[1], dtype=np.uint8)\n",
    "    # sets mark pixles\n",
    "    for lo, hi in zip(starts, ends):\n",
    "        img[lo:hi] = 1\n",
    "    # reshape as a 2d mask image\n",
    "    return img.reshape(shape).T  # Needed to align to RLE direction\n",
    "\n",
    "class FashionDataset(torch.utils.data.Dataset):\n",
    "    def __init__(self, image_dir, df_path, height, width, transforms=None):\n",
    "        self.transforms = transforms\n",
    "        self.image_dir = image_dir\n",
    "        self.df = pd.read_csv(df_path, nrows=10000)\n",
    "        self.height = height\n",
    "        self.width = width\n",
    "        self.image_info = collections.defaultdict(dict)\n",
    "        self.df['CategoryId'] = self.df.ClassId.apply(lambda x: str(x).split(\"_\")[0])\n",
    "        temp_df = self.df.groupby('ImageId')['EncodedPixels', 'CategoryId'].agg(lambda x: list(x)).reset_index()\n",
    "        size_df = self.df.groupby('ImageId')['Height', 'Width'].mean().reset_index()\n",
    "        temp_df = temp_df.merge(size_df, on='ImageId', how='left')\n",
    "        for index, row in tqdm(temp_df.iterrows(), total=len(temp_df)):\n",
    "            image_id = row['ImageId']\n",
    "            image_path = os.path.join(self.image_dir, image_id)\n",
    "            self.image_info[index][\"image_id\"] = image_id\n",
    "            self.image_info[index][\"image_path\"] = image_path\n",
    "            self.image_info[index][\"width\"] = self.width\n",
    "            self.image_info[index][\"height\"] = self.height\n",
    "            self.image_info[index][\"labels\"] = row[\"CategoryId\"]\n",
    "            self.image_info[index][\"orig_height\"] = row[\"Height\"]\n",
    "            self.image_info[index][\"orig_width\"] = row[\"Width\"]\n",
    "            self.image_info[index][\"annotations\"] = row[\"EncodedPixels\"]\n",
    "\n",
    "    def __getitem__(self, idx):\n",
    "        # load images ad masks\n",
    "        img_path = self.image_info[idx][\"image_path\"]\n",
    "        img = Image.open(img_path).convert(\"RGB\")\n",
    "        img = img.resize((self.width, self.height), resample=Image.BILINEAR)\n",
    "\n",
    "        info = self.image_info[idx]\n",
    "        mask = np.zeros((len(info['annotations']), self.width, self.height), dtype=np.uint8)\n",
    "        labels = []\n",
    "        for m, (annotation, label) in enumerate(zip(info['annotations'], info['labels'])):\n",
    "            sub_mask = rle_decode(annotation, (info['orig_height'], info['orig_width']))\n",
    "            sub_mask = Image.fromarray(sub_mask)\n",
    "            sub_mask = sub_mask.resize((self.width, self.height), resample=Image.BILINEAR)\n",
    "            mask[m, :, :] = sub_mask\n",
    "            labels.append(int(label) + 1)\n",
    "\n",
    "        num_objs = len(labels)\n",
    "        boxes = []\n",
    "        new_labels = []\n",
    "        new_masks = []\n",
    "        \n",
    "        for i in range(num_objs):\n",
    "            try:\n",
    "                pos = np.where(mask[i, :, :])\n",
    "                xmin = np.min(pos[1])\n",
    "                xmax = np.max(pos[1])\n",
    "                ymin = np.min(pos[0])\n",
    "                ymax = np.max(pos[0])\n",
    "                if abs(xmax - xmin) >= 20 and abs(ymax - ymin) >= 20:\n",
    "                    boxes.append([xmin, ymin, xmax, ymax])\n",
    "                    new_labels.append(labels[i])\n",
    "                    new_masks.append(mask[i, :, :])\n",
    "            except ValueError:\n",
    "                continue\n",
    "\n",
    "        if len(new_labels) == 0:\n",
    "            boxes.append([0, 0, 20, 20])\n",
    "            new_labels.append(0)\n",
    "            new_masks.append(mask[0, :, :])\n",
    "\n",
    "        nmx = np.zeros((len(new_masks), self.width, self.height), dtype=np.uint8)\n",
    "        for i, n in enumerate(new_masks):\n",
    "            nmx[i, :, :] = n\n",
    "\n",
    "        boxes = torch.as_tensor(boxes, dtype=torch.float32)\n",
    "        labels = torch.as_tensor(new_labels, dtype=torch.int64)\n",
    "        masks = torch.as_tensor(nmx, dtype=torch.uint8)\n",
    "\n",
    "        image_id = torch.tensor([idx])\n",
    "        area = (boxes[:, 3] - boxes[:, 1]) * (boxes[:, 2] - boxes[:, 0])\n",
    "        iscrowd = torch.zeros((num_objs,), dtype=torch.int64)\n",
    "\n",
    "        target = {}\n",
    "        target[\"boxes\"] = boxes\n",
    "        target[\"labels\"] = labels\n",
    "        target[\"masks\"] = masks\n",
    "        target[\"image_id\"] = image_id\n",
    "        target[\"area\"] = area\n",
    "        target[\"iscrowd\"] = iscrowd\n",
    "        %set_trace()\n",
    "        if self.transforms is not None:\n",
    "            img, target = self.transforms(img, target)\n",
    "\n",
    "        return img, target\n",
    "\n",
    "    def __len__(self):\n",
    "        return len(self.image_info)"
   ]
  },
  {
   "cell_type": "code",
   "execution_count": null,
   "metadata": {
    "hidden": true
   },
   "outputs": [],
   "source": []
  },
  {
   "cell_type": "code",
   "execution_count": 29,
   "metadata": {
    "ExecuteTime": {
     "end_time": "2020-04-03T22:51:02.150824Z",
     "start_time": "2020-04-03T22:51:02.143888Z"
    },
    "hidden": true
   },
   "outputs": [],
   "source": [
    "def build_data_loader(image_dir, df_path, is_training: bool) -> DataLoader:\n",
    "    \"\"\"\n",
    "    generate data loader\n",
    "    :param data_list: list of (img, labels)\n",
    "    :param data_cfg: data config node\n",
    "    :param is_training: whether training\n",
    "    :return: data loader\n",
    "    \"\"\"\n",
    "    height = HEIGHT\n",
    "    width = WIDTH\n",
    "    dataset = FashionDataset(image_dir, df_path, height, width, is_training)\n",
    "    #collator = BengaliDataBatchCollator(is_training, data_cfg.DO_AUGMIX)\n",
    "    batch_size = 4\n",
    "\n",
    "    # limit the number of works based on CPU number.\n",
    "    num_workers = 1\n",
    "\n",
    "    data_loader = DataLoader(dataset, batch_size=batch_size, shuffle=is_training, collate_fn=lambda x: tuple(zip(*x)),\n",
    "                             num_workers=num_workers)\n",
    "    return data_loader"
   ]
  },
  {
   "cell_type": "code",
   "execution_count": 30,
   "metadata": {
    "ExecuteTime": {
     "end_time": "2020-04-03T22:51:02.958360Z",
     "start_time": "2020-04-03T22:51:02.834690Z"
    },
    "hidden": true
   },
   "outputs": [
    {
     "name": "stderr",
     "output_type": "stream",
     "text": [
      "<ipython-input-28-efc8d88d40ff>:31: FutureWarning: Indexing with multiple keys (implicitly converted to a tuple of keys) will be deprecated, use a list instead.\n",
      "  temp_df = self.df.groupby('ImageId')['EncodedPixels', 'CategoryId'].agg(lambda x: list(x)).reset_index()\n",
      "<ipython-input-28-efc8d88d40ff>:32: FutureWarning: Indexing with multiple keys (implicitly converted to a tuple of keys) will be deprecated, use a list instead.\n",
      "  size_df = self.df.groupby('ImageId')['Height', 'Width'].mean().reset_index()\n",
      "100%|██████████| 150/150 [00:00<00:00, 6836.38it/s]\n"
     ]
    }
   ],
   "source": [
    "loader = build_data_loader(image_dir, df_path, True)"
   ]
  },
  {
   "cell_type": "code",
   "execution_count": null,
   "metadata": {
    "ExecuteTime": {
     "start_time": "2020-04-03T22:51:09.944Z"
    },
    "hidden": true
   },
   "outputs": [],
   "source": [
    "img, target = next(iter(loader))"
   ]
  },
  {
   "cell_type": "markdown",
   "metadata": {
    "heading_collapsed": true
   },
   "source": [
    "## catalyst"
   ]
  },
  {
   "cell_type": "code",
   "execution_count": 79,
   "metadata": {
    "ExecuteTime": {
     "end_time": "2020-04-03T18:09:47.696808Z",
     "start_time": "2020-04-03T18:09:47.691793Z"
    },
    "hidden": true
   },
   "outputs": [],
   "source": [
    "df['code'] = df['ClassId']#.apply(lambda x: x.split('_')[0])\n",
    "code = list(set(df['code'].values))"
   ]
  },
  {
   "cell_type": "code",
   "execution_count": 148,
   "metadata": {
    "ExecuteTime": {
     "end_time": "2020-04-03T18:34:14.075736Z",
     "start_time": "2020-04-03T18:34:14.052774Z"
    },
    "hidden": true
   },
   "outputs": [
    {
     "ename": "NameError",
     "evalue": "name 'dataclass' is not defined",
     "output_type": "error",
     "traceback": [
      "\u001b[1;31m---------------------------------------------------------------------------\u001b[0m",
      "\u001b[1;31mNameError\u001b[0m                                 Traceback (most recent call last)",
      "\u001b[1;32m<ipython-input-148-f418964089a4>\u001b[0m in \u001b[0;36m<module>\u001b[1;34m\u001b[0m\n\u001b[0;32m     27\u001b[0m     \u001b[1;32mreturn\u001b[0m \u001b[0mFlowField\u001b[0m\u001b[1;33m(\u001b[0m\u001b[0msize\u001b[0m\u001b[1;33m[\u001b[0m\u001b[1;36m2\u001b[0m\u001b[1;33m:\u001b[0m\u001b[1;33m]\u001b[0m\u001b[1;33m,\u001b[0m \u001b[0mgrid\u001b[0m\u001b[1;33m)\u001b[0m\u001b[1;33m\u001b[0m\u001b[1;33m\u001b[0m\u001b[0m\n\u001b[0;32m     28\u001b[0m \u001b[1;33m\u001b[0m\u001b[0m\n\u001b[1;32m---> 29\u001b[1;33m \u001b[1;33m@\u001b[0m\u001b[0mdataclass\u001b[0m\u001b[1;33m\u001b[0m\u001b[1;33m\u001b[0m\u001b[0m\n\u001b[0m\u001b[0;32m     30\u001b[0m \u001b[1;32mclass\u001b[0m \u001b[0mFlowField\u001b[0m\u001b[1;33m(\u001b[0m\u001b[1;33m)\u001b[0m\u001b[1;33m:\u001b[0m\u001b[1;33m\u001b[0m\u001b[1;33m\u001b[0m\u001b[0m\n\u001b[0;32m     31\u001b[0m     \u001b[1;34m\"Wrap together some coords `flow` with a `size`.\"\u001b[0m\u001b[1;33m\u001b[0m\u001b[1;33m\u001b[0m\u001b[0m\n",
      "\u001b[1;31mNameError\u001b[0m: name 'dataclass' is not defined"
     ]
    }
   ],
   "source": [
    "def pil2tensor(image,dtype):\n",
    "    \"Convert PIL style `image` array to torch style image tensor.\"\n",
    "    a = np.asarray(image)\n",
    "    if a.ndim==2 : a = np.expand_dims(a,2)\n",
    "    a = np.transpose(a, (1, 0, 2))\n",
    "    a = np.transpose(a, (2, 1, 0))\n",
    "    return torch.from_numpy(a.astype(dtype, copy=False) )\n",
    "\n",
    "def open_image(fn, div=True, convert_mode:str='RGB', cls:type=Image,\n",
    "        after_open=None)->Image:\n",
    "    \"Return `Image` object created from image in file `fn`.\"\n",
    "    \n",
    "    x = PIL.Image.open(fn).convert(convert_mode)\n",
    "    if after_open: x = after_open(x)\n",
    "    x = pil2tensor(x,np.float32)\n",
    "    if div: x.div_(255)\n",
    "    return cls(x)\n",
    "\n",
    "def _affine_grid(size):\n",
    "    size = ((1,)+size)\n",
    "    N, C, H, W = size\n",
    "    grid = torch.FloatTensor(N, H, W, 2)\n",
    "    linear_points = torch.linspace(-1, 1, W) if W > 1 else tensor([-1.])\n",
    "    grid[:, :, :, 0] = torch.ger(torch.ones(H), linear_points).expand_as(grid[:, :, :, 0])\n",
    "    linear_points = torch.linspace(-1, 1, H) if H > 1 else tensor([-1.])\n",
    "    grid[:, :, :, 1] = torch.ger(linear_points, torch.ones(W)).expand_as(grid[:, :, :, 1])\n",
    "    return FlowField(size[2:], grid)\n",
    "\n",
    "@dataclass\n",
    "class FlowField():\n",
    "    \"Wrap together some coords `flow` with a `size`.\"\n",
    "    size:Tuple[int,int]\n",
    "    flow:Tensor\n"
   ]
  },
  {
   "cell_type": "code",
   "execution_count": 144,
   "metadata": {
    "ExecuteTime": {
     "end_time": "2020-04-03T18:33:12.311602Z",
     "start_time": "2020-04-03T18:33:12.300629Z"
    },
    "hidden": true
   },
   "outputs": [],
   "source": [
    "class Dataset(Dataset):\n",
    "    \"\"\"CamVid Dataset. Read images, apply augmentation and preprocessing transformations.\n",
    "    \n",
    "    Args:\n",
    "        images_dir (str): path to images folder\n",
    "        masks_dir (str): path to segmentation masks folder\n",
    "        class_values (list): values of classes to extract from segmentation mask\n",
    "        augmentation (albumentations.Compose): data transfromation pipeline \n",
    "            (e.g. flip, scale, etc.)\n",
    "        preprocessing (albumentations.Compose): data preprocessing \n",
    "            (e.g. noralization, shape manipulation, etc.)\n",
    "    \n",
    "    \"\"\"\n",
    "    \n",
    "    '''CLASSES = ['sky', 'building', 'pole', 'road', 'pavement', \n",
    "               'tree', 'signsymbol', 'fence', 'car', \n",
    "               'pedestrian', 'bicyclist', 'unlabelled']'''\n",
    "    \n",
    "    CLASSES = code#tr['ClassId'].values\n",
    "    \n",
    "    \n",
    "    def __init__(\n",
    "            self, \n",
    "            images_dir, \n",
    "            df,\n",
    "            masks_dir=None, \n",
    "            classes=None, \n",
    "            augmentation=None, \n",
    "            preprocessing=None,\n",
    "    ):\n",
    "        self.df = df\n",
    "        self.ids = [f + '.jpg' for f in self.df.ImageId] #os.listdir(images_dir)\n",
    "        self.images_fps = [os.path.join(images_dir, image_id) for image_id in self.ids]\n",
    "        self.rle = [i for i in self.df.EncodedPixels]\n",
    "        self.h = [i for i in self.df.Height]\n",
    "        self.w = [i for i in self.df.Width]\n",
    "        # convert str names to class values on masks\n",
    "        self.class_values = [cls for cls in classes]\n",
    "        \n",
    "        self.augmentation = augmentation\n",
    "        self.preprocessing = preprocessing\n",
    "    \n",
    "    def __getitem__(self, i):\n",
    "        \n",
    "        img_path = self.image_info[idx][\"image_path\"]\n",
    "        img = Image.open(img_path).convert(\"RGB\")\n",
    "        img = img.resize((self.width, self.height), resample=Image.BILINEAR)\n",
    "\n",
    "        info = self.image_info[idx]\n",
    "        mask = np.zeros((len(info['annotations']), self.width, self.height), dtype=np.uint8)\n",
    "        labels = []\n",
    "        for m, (annotation, label) in enumerate(zip(info['annotations'], info['labels'])):\n",
    "            sub_mask = rle_decode(annotation, (info['orig_height'], info['orig_width']))\n",
    "            sub_mask = Image.fromarray(sub_mask)\n",
    "            sub_mask = sub_mask.resize((self.width, self.height), resample=Image.BILINEAR)\n",
    "            mask[m, :, :] = sub_mask\n",
    "            labels.append(int(label) + 1)\n",
    "        \n",
    "        # extract certain classes from mask (e.g. cars)\n",
    "        #masks = [(mask == v) for v in self.class_values]\n",
    "        #mask = np.stack(masks, axis=-1).astype('float')\n",
    "        \n",
    "        # apply augmentations\n",
    "        if self.augmentation:\n",
    "            mask = mask.squeeze()\n",
    "            sample = self.augmentation(image=image, mask=mask)\n",
    "            image, mask = sample['image'], sample['mask']\n",
    "        \n",
    "        # apply preprocessing\n",
    "        if self.preprocessing:\n",
    "            #mask = mask.squeeze()\n",
    "            sample = self.preprocessing(image=image, mask=mask)\n",
    "            image, mask = sample['image'], sample['mask']\n",
    "            \n",
    "        return image, mask\n",
    "        \n",
    "    def __len__(self):\n",
    "        return len(self.ids)"
   ]
  },
  {
   "cell_type": "code",
   "execution_count": 145,
   "metadata": {
    "ExecuteTime": {
     "end_time": "2020-04-03T18:33:12.598584Z",
     "start_time": "2020-04-03T18:33:12.580629Z"
    },
    "hidden": true
   },
   "outputs": [],
   "source": [
    "dataset = Dataset(image_dir, df, classes=['0'])\n",
    "\n",
    "data_loader = DataLoader(dataset, batch_size=4, shuffle=True, collate_fn=lambda x: tuple(zip(*x)),\n",
    "                             num_workers=1)"
   ]
  },
  {
   "cell_type": "code",
   "execution_count": 146,
   "metadata": {
    "ExecuteTime": {
     "end_time": "2020-04-03T18:33:12.840965Z",
     "start_time": "2020-04-03T18:33:12.833953Z"
    },
    "hidden": true
   },
   "outputs": [],
   "source": [
    "# helper function for data visualization\n",
    "def visualize(**images):\n",
    "    \"\"\"PLot images in one row.\"\"\"\n",
    "    n = len(images)\n",
    "    plt.figure(figsize=(16, 5))\n",
    "    for i, (name, image) in enumerate(images.items()):\n",
    "        plt.subplot(1, n, i + 1)\n",
    "        plt.xticks([])\n",
    "        plt.yticks([])\n",
    "        plt.title(' '.join(name.split('.')[0]).title())\n",
    "        plt.imshow(image)\n",
    "    plt.show()"
   ]
  },
  {
   "cell_type": "code",
   "execution_count": null,
   "metadata": {},
   "outputs": [],
   "source": []
  },
  {
   "cell_type": "code",
   "execution_count": null,
   "metadata": {},
   "outputs": [],
   "source": []
  },
  {
   "cell_type": "code",
   "execution_count": null,
   "metadata": {},
   "outputs": [],
   "source": []
  }
 ],
 "metadata": {
  "environment": {
   "name": "pytorch-gpu.1-4.m46",
   "type": "gcloud",
   "uri": "gcr.io/deeplearning-platform-release/pytorch-gpu.1-4:m46"
  },
  "kernelspec": {
   "display_name": "Conda - imaterialist",
   "language": "python",
   "name": "imaterialist"
  },
  "language_info": {
   "codemirror_mode": {
    "name": "ipython",
    "version": 3
   },
   "file_extension": ".py",
   "mimetype": "text/x-python",
   "name": "python",
   "nbconvert_exporter": "python",
   "pygments_lexer": "ipython3",
   "version": "3.7.4"
  },
  "toc": {
   "base_numbering": 1,
   "nav_menu": {},
   "number_sections": true,
   "sideBar": true,
   "skip_h1_title": false,
   "title_cell": "Table of Contents",
   "title_sidebar": "Contents",
   "toc_cell": false,
   "toc_position": {},
   "toc_section_display": true,
   "toc_window_display": false
  }
 },
 "nbformat": 4,
 "nbformat_minor": 4
}
